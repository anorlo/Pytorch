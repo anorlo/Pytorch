{
  "nbformat": 4,
  "nbformat_minor": 0,
  "metadata": {
    "colab": {
      "name": "Untitled8.ipynb",
      "provenance": [],
      "authorship_tag": "ABX9TyM/r/EovmQeVEn7Y87y6ri7",
      "include_colab_link": true
    },
    "kernelspec": {
      "name": "python3",
      "display_name": "Python 3"
    },
    "accelerator": "GPU"
  },
  "cells": [
    {
      "cell_type": "markdown",
      "metadata": {
        "id": "view-in-github",
        "colab_type": "text"
      },
      "source": [
        "<a href=\"https://colab.research.google.com/github/anorlo/Pytorch/blob/master/openmvg.ipynb\" target=\"_parent\"><img src=\"https://colab.research.google.com/assets/colab-badge.svg\" alt=\"Open In Colab\"/></a>"
      ]
    },
    {
      "cell_type": "code",
      "metadata": {
        "id": "wP5BZxUzmmS3",
        "colab_type": "code",
        "outputId": "182c5882-ff33-466d-b2fa-488cc188afe5",
        "colab": {
          "base_uri": "https://localhost:8080/",
          "height": 121
        }
      },
      "source": [
        "from google.colab import drive\n",
        "drive.mount('/content/drive')"
      ],
      "execution_count": 1,
      "outputs": [
        {
          "output_type": "stream",
          "text": [
            "Go to this URL in a browser: https://accounts.google.com/o/oauth2/auth?client_id=947318989803-6bn6qk8qdgf4n4g3pfee6491hc0brc4i.apps.googleusercontent.com&redirect_uri=urn%3aietf%3awg%3aoauth%3a2.0%3aoob&response_type=code&scope=email%20https%3a%2f%2fwww.googleapis.com%2fauth%2fdocs.test%20https%3a%2f%2fwww.googleapis.com%2fauth%2fdrive%20https%3a%2f%2fwww.googleapis.com%2fauth%2fdrive.photos.readonly%20https%3a%2f%2fwww.googleapis.com%2fauth%2fpeopleapi.readonly\n",
            "\n",
            "Enter your authorization code:\n",
            "··········\n",
            "Mounted at /content/drive\n"
          ],
          "name": "stdout"
        }
      ]
    },
    {
      "cell_type": "code",
      "metadata": {
        "id": "N8twHJTfmWsX",
        "colab_type": "code",
        "outputId": "721b23d6-555f-4215-ea05-acc6158ece86",
        "colab": {
          "base_uri": "https://localhost:8080/",
          "height": 1000
        }
      },
      "source": [
        "!sudo apt-get install libpng-dev libjpeg-dev libtiff-dev libxxf86vm1 libxxf86vm-dev libxi-dev libxrandr-dev\n",
        "!sudo apt-get update -qq \n",
        "!sudo apt-get install -qq\n",
        "!sudo apt-get -y install git cmake libpng-dev libjpeg-dev libtiff-dev libglu1-mesa-dev\n",
        "!main_path=\"/content/drive/My Drive/openmvg\"\n",
        "!sudo apt-get -y install libboost-iostreams-dev libboost-program-options-dev libboost-system-dev libboost-serialization-dev\n",
        "!sudo apt-get -y install libopencv-dev\n",
        "!sudo apt-get -y install libcgal-dev libcgal-qt5-dev\n",
        "!sudo apt-get -y install freeglut3-dev libglew-dev libglfw3-dev"
      ],
      "execution_count": 2,
      "outputs": [
        {
          "output_type": "stream",
          "text": [
            "Reading package lists... Done\n",
            "Building dependency tree       \n",
            "Reading state information... Done\n",
            "libjpeg-dev is already the newest version (8c-2ubuntu8).\n",
            "libjpeg-dev set to manually installed.\n",
            "libxi-dev is already the newest version (2:1.7.9-1).\n",
            "libxi-dev set to manually installed.\n",
            "libxxf86vm-dev is already the newest version (1:1.1.4-1).\n",
            "libxxf86vm-dev set to manually installed.\n",
            "libxxf86vm1 is already the newest version (1:1.1.4-1).\n",
            "libxxf86vm1 set to manually installed.\n",
            "libpng-dev is already the newest version (1.6.34-1ubuntu0.18.04.2).\n",
            "libtiff-dev is already the newest version (4.0.9-5ubuntu0.3).\n",
            "libtiff-dev set to manually installed.\n",
            "The following additional packages will be installed:\n",
            "  x11proto-randr-dev\n",
            "The following NEW packages will be installed:\n",
            "  libxrandr-dev x11proto-randr-dev\n",
            "0 upgraded, 2 newly installed, 0 to remove and 25 not upgraded.\n",
            "Need to get 26.7 kB of archives.\n",
            "After this operation, 137 kB of additional disk space will be used.\n",
            "Get:1 http://archive.ubuntu.com/ubuntu bionic/main amd64 x11proto-randr-dev all 2018.4-4 [2,620 B]\n",
            "Get:2 http://archive.ubuntu.com/ubuntu bionic/main amd64 libxrandr-dev amd64 2:1.5.1-1 [24.0 kB]\n",
            "Fetched 26.7 kB in 0s (353 kB/s)\n",
            "debconf: unable to initialize frontend: Dialog\n",
            "debconf: (No usable dialog-like program is installed, so the dialog based frontend cannot be used. at /usr/share/perl5/Debconf/FrontEnd/Dialog.pm line 76, <> line 2.)\n",
            "debconf: falling back to frontend: Readline\n",
            "debconf: unable to initialize frontend: Readline\n",
            "debconf: (This frontend requires a controlling tty.)\n",
            "debconf: falling back to frontend: Teletype\n",
            "dpkg-preconfigure: unable to re-open stdin: \n",
            "Selecting previously unselected package x11proto-randr-dev.\n",
            "(Reading database ... 144568 files and directories currently installed.)\n",
            "Preparing to unpack .../x11proto-randr-dev_2018.4-4_all.deb ...\n",
            "Unpacking x11proto-randr-dev (2018.4-4) ...\n",
            "Selecting previously unselected package libxrandr-dev:amd64.\n",
            "Preparing to unpack .../libxrandr-dev_2%3a1.5.1-1_amd64.deb ...\n",
            "Unpacking libxrandr-dev:amd64 (2:1.5.1-1) ...\n",
            "Setting up x11proto-randr-dev (2018.4-4) ...\n",
            "Setting up libxrandr-dev:amd64 (2:1.5.1-1) ...\n",
            "Processing triggers for man-db (2.8.3-2ubuntu0.1) ...\n",
            "Reading package lists... Done\n",
            "Building dependency tree       \n",
            "Reading state information... Done\n",
            "libglu1-mesa-dev is already the newest version (9.0.0-2.1build1).\n",
            "libglu1-mesa-dev set to manually installed.\n",
            "libjpeg-dev is already the newest version (8c-2ubuntu8).\n",
            "cmake is already the newest version (3.10.2-1ubuntu2.18.04.1).\n",
            "libpng-dev is already the newest version (1.6.34-1ubuntu0.18.04.2).\n",
            "libtiff-dev is already the newest version (4.0.9-5ubuntu0.3).\n",
            "Suggested packages:\n",
            "  gettext-base git-daemon-run | git-daemon-sysvinit git-doc git-el git-email\n",
            "  git-gui gitk gitweb git-cvs git-mediawiki git-svn\n",
            "The following packages will be upgraded:\n",
            "  git\n",
            "1 upgraded, 0 newly installed, 0 to remove and 81 not upgraded.\n",
            "Need to get 3,915 kB of archives.\n",
            "After this operation, 16.4 kB of additional disk space will be used.\n",
            "Get:1 http://archive.ubuntu.com/ubuntu bionic-updates/main amd64 git amd64 1:2.17.1-1ubuntu0.7 [3,915 kB]\n",
            "Fetched 3,915 kB in 0s (27.7 MB/s)\n",
            "debconf: unable to initialize frontend: Dialog\n",
            "debconf: (No usable dialog-like program is installed, so the dialog based frontend cannot be used. at /usr/share/perl5/Debconf/FrontEnd/Dialog.pm line 76, <> line 1.)\n",
            "debconf: falling back to frontend: Readline\n",
            "debconf: unable to initialize frontend: Readline\n",
            "debconf: (This frontend requires a controlling tty.)\n",
            "debconf: falling back to frontend: Teletype\n",
            "dpkg-preconfigure: unable to re-open stdin: \n",
            "(Reading database ... 144593 files and directories currently installed.)\n",
            "Preparing to unpack .../git_1%3a2.17.1-1ubuntu0.7_amd64.deb ...\n",
            "Unpacking git (1:2.17.1-1ubuntu0.7) over (1:2.17.1-1ubuntu0.5) ...\n",
            "Setting up git (1:2.17.1-1ubuntu0.7) ...\n",
            "Reading package lists... Done\n",
            "Building dependency tree       \n",
            "Reading state information... Done\n",
            "libboost-program-options-dev is already the newest version (1.65.1.0ubuntu1).\n",
            "libboost-program-options-dev set to manually installed.\n",
            "libboost-system-dev is already the newest version (1.65.1.0ubuntu1).\n",
            "libboost-system-dev set to manually installed.\n",
            "libboost-iostreams-dev is already the newest version (1.65.1.0ubuntu1).\n",
            "libboost-iostreams-dev set to manually installed.\n",
            "libboost-serialization-dev is already the newest version (1.65.1.0ubuntu1).\n",
            "libboost-serialization-dev set to manually installed.\n",
            "0 upgraded, 0 newly installed, 0 to remove and 81 not upgraded.\n",
            "Reading package lists... Done\n",
            "Building dependency tree       \n",
            "Reading state information... Done\n",
            "libopencv-dev is already the newest version (3.2.0+dfsg-4ubuntu0.1).\n",
            "0 upgraded, 0 newly installed, 0 to remove and 81 not upgraded.\n",
            "Reading package lists... Done\n",
            "Building dependency tree       \n",
            "Reading state information... Done\n",
            "The following additional packages will be installed:\n",
            "  libcgal-qt5-13 libcgal13 libgmp-dev libgmpxx4ldbl libmpfr-dev libqt5opengl5\n",
            "  libqt5svg5\n",
            "Suggested packages:\n",
            "  libmpfi-dev libntl-dev gmp-doc libgmp10-doc libmpfr-doc\n",
            "The following NEW packages will be installed:\n",
            "  libcgal-dev libcgal-qt5-13 libcgal-qt5-dev libcgal13 libgmp-dev\n",
            "  libgmpxx4ldbl libmpfr-dev libqt5opengl5 libqt5svg5\n",
            "0 upgraded, 9 newly installed, 0 to remove and 81 not upgraded.\n",
            "Need to get 5,735 kB of archives.\n",
            "After this operation, 44.0 MB of additional disk space will be used.\n",
            "Get:1 http://archive.ubuntu.com/ubuntu bionic/main amd64 libqt5svg5 amd64 5.9.5-0ubuntu1 [128 kB]\n",
            "Get:2 http://archive.ubuntu.com/ubuntu bionic/universe amd64 libcgal13 amd64 4.11-2build1 [275 kB]\n",
            "Get:3 http://archive.ubuntu.com/ubuntu bionic/main amd64 libgmpxx4ldbl amd64 2:6.1.2+dfsg-2 [8,964 B]\n",
            "Get:4 http://archive.ubuntu.com/ubuntu bionic/main amd64 libgmp-dev amd64 2:6.1.2+dfsg-2 [316 kB]\n",
            "Get:5 http://archive.ubuntu.com/ubuntu bionic/main amd64 libmpfr-dev amd64 4.0.1-1 [249 kB]\n",
            "Get:6 http://archive.ubuntu.com/ubuntu bionic/universe amd64 libcgal-dev amd64 4.11-2build1 [4,410 kB]\n",
            "Get:7 http://archive.ubuntu.com/ubuntu bionic-updates/main amd64 libqt5opengl5 amd64 5.9.5+dfsg-0ubuntu2.5 [132 kB]\n",
            "Get:8 http://archive.ubuntu.com/ubuntu bionic/universe amd64 libcgal-qt5-13 amd64 4.11-2build1 [93.9 kB]\n",
            "Get:9 http://archive.ubuntu.com/ubuntu bionic/universe amd64 libcgal-qt5-dev amd64 4.11-2build1 [122 kB]\n",
            "Fetched 5,735 kB in 0s (31.2 MB/s)\n",
            "debconf: unable to initialize frontend: Dialog\n",
            "debconf: (No usable dialog-like program is installed, so the dialog based frontend cannot be used. at /usr/share/perl5/Debconf/FrontEnd/Dialog.pm line 76, <> line 9.)\n",
            "debconf: falling back to frontend: Readline\n",
            "debconf: unable to initialize frontend: Readline\n",
            "debconf: (This frontend requires a controlling tty.)\n",
            "debconf: falling back to frontend: Teletype\n",
            "dpkg-preconfigure: unable to re-open stdin: \n",
            "Selecting previously unselected package libqt5svg5:amd64.\n",
            "(Reading database ... 144593 files and directories currently installed.)\n",
            "Preparing to unpack .../0-libqt5svg5_5.9.5-0ubuntu1_amd64.deb ...\n",
            "Unpacking libqt5svg5:amd64 (5.9.5-0ubuntu1) ...\n",
            "Selecting previously unselected package libcgal13:amd64.\n",
            "Preparing to unpack .../1-libcgal13_4.11-2build1_amd64.deb ...\n",
            "Unpacking libcgal13:amd64 (4.11-2build1) ...\n",
            "Selecting previously unselected package libgmpxx4ldbl:amd64.\n",
            "Preparing to unpack .../2-libgmpxx4ldbl_2%3a6.1.2+dfsg-2_amd64.deb ...\n",
            "Unpacking libgmpxx4ldbl:amd64 (2:6.1.2+dfsg-2) ...\n",
            "Selecting previously unselected package libgmp-dev:amd64.\n",
            "Preparing to unpack .../3-libgmp-dev_2%3a6.1.2+dfsg-2_amd64.deb ...\n",
            "Unpacking libgmp-dev:amd64 (2:6.1.2+dfsg-2) ...\n",
            "Selecting previously unselected package libmpfr-dev:amd64.\n",
            "Preparing to unpack .../4-libmpfr-dev_4.0.1-1_amd64.deb ...\n",
            "Unpacking libmpfr-dev:amd64 (4.0.1-1) ...\n",
            "Selecting previously unselected package libcgal-dev:amd64.\n",
            "Preparing to unpack .../5-libcgal-dev_4.11-2build1_amd64.deb ...\n",
            "Unpacking libcgal-dev:amd64 (4.11-2build1) ...\n",
            "Selecting previously unselected package libqt5opengl5:amd64.\n",
            "Preparing to unpack .../6-libqt5opengl5_5.9.5+dfsg-0ubuntu2.5_amd64.deb ...\n",
            "Unpacking libqt5opengl5:amd64 (5.9.5+dfsg-0ubuntu2.5) ...\n",
            "Selecting previously unselected package libcgal-qt5-13:amd64.\n",
            "Preparing to unpack .../7-libcgal-qt5-13_4.11-2build1_amd64.deb ...\n",
            "Unpacking libcgal-qt5-13:amd64 (4.11-2build1) ...\n",
            "Selecting previously unselected package libcgal-qt5-dev:amd64.\n",
            "Preparing to unpack .../8-libcgal-qt5-dev_4.11-2build1_amd64.deb ...\n",
            "Unpacking libcgal-qt5-dev:amd64 (4.11-2build1) ...\n",
            "Setting up libqt5opengl5:amd64 (5.9.5+dfsg-0ubuntu2.5) ...\n",
            "Setting up libqt5svg5:amd64 (5.9.5-0ubuntu1) ...\n",
            "Setting up libcgal13:amd64 (4.11-2build1) ...\n",
            "Setting up libgmpxx4ldbl:amd64 (2:6.1.2+dfsg-2) ...\n",
            "Setting up libcgal-qt5-13:amd64 (4.11-2build1) ...\n",
            "Setting up libgmp-dev:amd64 (2:6.1.2+dfsg-2) ...\n",
            "Setting up libmpfr-dev:amd64 (4.0.1-1) ...\n",
            "Setting up libcgal-dev:amd64 (4.11-2build1) ...\n",
            "Setting up libcgal-qt5-dev:amd64 (4.11-2build1) ...\n",
            "Processing triggers for man-db (2.8.3-2ubuntu0.1) ...\n",
            "Processing triggers for libc-bin (2.27-3ubuntu1) ...\n",
            "/sbin/ldconfig.real: /usr/local/lib/python3.6/dist-packages/ideep4py/lib/libmkldnn.so.0 is not a symbolic link\n",
            "\n",
            "Reading package lists... Done\n",
            "Building dependency tree       \n",
            "Reading state information... Done\n",
            "freeglut3-dev is already the newest version (2.8.1-3).\n",
            "freeglut3-dev set to manually installed.\n",
            "The following additional packages will be installed:\n",
            "  libglew2.0 libglfw3 libvulkan-dev libvulkan1 mesa-vulkan-drivers\n",
            "Suggested packages:\n",
            "  glew-utils libegl1-mesa | libegl1-x11\n",
            "The following NEW packages will be installed:\n",
            "  libglew-dev libglew2.0 libglfw3 libglfw3-dev libvulkan-dev libvulkan1\n",
            "  mesa-vulkan-drivers\n",
            "0 upgraded, 7 newly installed, 0 to remove and 81 not upgraded.\n",
            "Need to get 3,160 kB of archives.\n",
            "After this operation, 21.1 MB of additional disk space will be used.\n",
            "Get:1 http://archive.ubuntu.com/ubuntu bionic/universe amd64 libglew2.0 amd64 2.0.0-5 [140 kB]\n",
            "Get:2 http://ppa.launchpad.net/graphics-drivers/ppa/ubuntu bionic/main amd64 libvulkan1 amd64 1.1.126.0-2~gpu18.04.1 [101 kB]\n",
            "Get:3 http://archive.ubuntu.com/ubuntu bionic/universe amd64 libglew-dev amd64 2.0.0-5 [120 kB]\n",
            "Get:4 http://archive.ubuntu.com/ubuntu bionic/universe amd64 libglfw3 amd64 3.2.1-1 [49.2 kB]\n",
            "Get:5 http://archive.ubuntu.com/ubuntu bionic/universe amd64 libglfw3-dev amd64 3.2.1-1 [30.9 kB]\n",
            "Get:6 http://archive.ubuntu.com/ubuntu bionic-updates/universe amd64 mesa-vulkan-drivers amd64 19.2.8-0ubuntu0~18.04.3 [2,247 kB]\n",
            "Get:7 http://ppa.launchpad.net/graphics-drivers/ppa/ubuntu bionic/main amd64 libvulkan-dev amd64 1.1.126.0-2~gpu18.04.1 [472 kB]\n",
            "Fetched 3,160 kB in 0s (15.2 MB/s)\n",
            "debconf: unable to initialize frontend: Dialog\n",
            "debconf: (No usable dialog-like program is installed, so the dialog based frontend cannot be used. at /usr/share/perl5/Debconf/FrontEnd/Dialog.pm line 76, <> line 7.)\n",
            "debconf: falling back to frontend: Readline\n",
            "debconf: unable to initialize frontend: Readline\n",
            "debconf: (This frontend requires a controlling tty.)\n",
            "debconf: falling back to frontend: Teletype\n",
            "dpkg-preconfigure: unable to re-open stdin: \n",
            "Selecting previously unselected package libglew2.0:amd64.\n",
            "(Reading database ... 147970 files and directories currently installed.)\n",
            "Preparing to unpack .../0-libglew2.0_2.0.0-5_amd64.deb ...\n",
            "Unpacking libglew2.0:amd64 (2.0.0-5) ...\n",
            "Selecting previously unselected package libglew-dev:amd64.\n",
            "Preparing to unpack .../1-libglew-dev_2.0.0-5_amd64.deb ...\n",
            "Unpacking libglew-dev:amd64 (2.0.0-5) ...\n",
            "Selecting previously unselected package libglfw3:amd64.\n",
            "Preparing to unpack .../2-libglfw3_3.2.1-1_amd64.deb ...\n",
            "Unpacking libglfw3:amd64 (3.2.1-1) ...\n",
            "Selecting previously unselected package libglfw3-dev:amd64.\n",
            "Preparing to unpack .../3-libglfw3-dev_3.2.1-1_amd64.deb ...\n",
            "Unpacking libglfw3-dev:amd64 (3.2.1-1) ...\n",
            "Selecting previously unselected package libvulkan1:amd64.\n",
            "Preparing to unpack .../4-libvulkan1_1.1.126.0-2~gpu18.04.1_amd64.deb ...\n",
            "Unpacking libvulkan1:amd64 (1.1.126.0-2~gpu18.04.1) ...\n",
            "Selecting previously unselected package libvulkan-dev:amd64.\n",
            "Preparing to unpack .../5-libvulkan-dev_1.1.126.0-2~gpu18.04.1_amd64.deb ...\n",
            "Unpacking libvulkan-dev:amd64 (1.1.126.0-2~gpu18.04.1) ...\n",
            "Selecting previously unselected package mesa-vulkan-drivers:amd64.\n",
            "Preparing to unpack .../6-mesa-vulkan-drivers_19.2.8-0ubuntu0~18.04.3_amd64.deb ...\n",
            "Unpacking mesa-vulkan-drivers:amd64 (19.2.8-0ubuntu0~18.04.3) ...\n",
            "Setting up libvulkan1:amd64 (1.1.126.0-2~gpu18.04.1) ...\n",
            "Setting up mesa-vulkan-drivers:amd64 (19.2.8-0ubuntu0~18.04.3) ...\n",
            "Setting up libvulkan-dev:amd64 (1.1.126.0-2~gpu18.04.1) ...\n",
            "Setting up libglfw3:amd64 (3.2.1-1) ...\n",
            "Setting up libglew2.0:amd64 (2.0.0-5) ...\n",
            "Setting up libglew-dev:amd64 (2.0.0-5) ...\n",
            "Setting up libglfw3-dev:amd64 (3.2.1-1) ...\n",
            "Processing triggers for libc-bin (2.27-3ubuntu1) ...\n",
            "/sbin/ldconfig.real: /usr/local/lib/python3.6/dist-packages/ideep4py/lib/libmkldnn.so.0 is not a symbolic link\n",
            "\n"
          ],
          "name": "stdout"
        }
      ]
    },
    {
      "cell_type": "code",
      "metadata": {
        "id": "IIy6artin_vm",
        "colab_type": "code",
        "outputId": "5955dd66-a7d6-423f-e5f8-3d893d8ab33d",
        "colab": {
          "base_uri": "https://localhost:8080/",
          "height": 34
        }
      },
      "source": [
        "import os\n",
        "path = \"/content\"\n",
        "\n",
        "os.chdir(path)\n",
        "os.listdir(path)"
      ],
      "execution_count": 3,
      "outputs": [
        {
          "output_type": "execute_result",
          "data": {
            "text/plain": [
              "['.config', 'drive', 'sample_data']"
            ]
          },
          "metadata": {
            "tags": []
          },
          "execution_count": 3
        }
      ]
    },
    {
      "cell_type": "code",
      "metadata": {
        "id": "hm4y72VR9nxy",
        "colab_type": "code",
        "outputId": "f58cdca9-2a15-422e-e284-5d1140d4eae6",
        "colab": {
          "base_uri": "https://localhost:8080/",
          "height": 34
        }
      },
      "source": [
        "! mkdir MyDrive\n",
        "! mount --bind /content/drive/My\\ Drive /content/MyDrive\n",
        "% cd /content/MyDrive/openmvg"
      ],
      "execution_count": 4,
      "outputs": [
        {
          "output_type": "stream",
          "text": [
            "/content/MyDrive/openmvg\n"
          ],
          "name": "stdout"
        }
      ]
    },
    {
      "cell_type": "code",
      "metadata": {
        "id": "UPFTm5QvBigj",
        "colab_type": "code",
        "outputId": "222af86b-6405-4581-a753-5c89cd65ea5f",
        "colab": {
          "base_uri": "https://localhost:8080/",
          "height": 134
        }
      },
      "source": [
        "import os\n",
        "path = \"/content/MyDrive/\"\n",
        "\n",
        "os.chdir(path)\n",
        "os.listdir(path)\n"
      ],
      "execution_count": 5,
      "outputs": [
        {
          "output_type": "execute_result",
          "data": {
            "text/plain": [
              "['Colab Notebooks',\n",
              " 'fast_neural_style',\n",
              " 'Sample upload.txt',\n",
              " 'Fastphotostyle',\n",
              " 'contextdesc',\n",
              " '.ipynb_checkpoints',\n",
              " 'openmvg']"
            ]
          },
          "metadata": {
            "tags": []
          },
          "execution_count": 5
        }
      ]
    },
    {
      "cell_type": "code",
      "metadata": {
        "id": "t5Vogc2rCEJK",
        "colab_type": "code",
        "outputId": "e5d94806-db94-408c-ea27-1a75c32bfab4",
        "colab": {
          "base_uri": "https://localhost:8080/",
          "height": 34
        }
      },
      "source": [
        "! sudo chmod -R 777 openmvg"
      ],
      "execution_count": 8,
      "outputs": [
        {
          "output_type": "stream",
          "text": [
            "chmod: cannot read directory 'openmvg/openMVS/.git/refs/heads': Input/output error\n"
          ],
          "name": "stdout"
        }
      ]
    },
    {
      "cell_type": "code",
      "metadata": {
        "id": "2xpKy9mtoSRY",
        "colab_type": "code",
        "colab": {}
      },
      "source": [
        "# !git clone --recursive https://github.com/openMVG/openMVG.git\n",
        "# !mkdir openMVG_Build "
      ],
      "execution_count": 0,
      "outputs": []
    },
    {
      "cell_type": "code",
      "metadata": {
        "id": "ZAUWyx7Ho1RS",
        "colab_type": "code",
        "outputId": "d27c0fa8-620b-4e25-9809-2f4dd410b20a",
        "colab": {
          "base_uri": "https://localhost:8080/",
          "height": 50
        }
      },
      "source": [
        "% cd openmvg/openMVG_Build\n",
        "!pwd"
      ],
      "execution_count": 8,
      "outputs": [
        {
          "output_type": "stream",
          "text": [
            "/content/MyDrive/openmvg/openMVG_Build\n",
            "/content/MyDrive/openmvg/openMVG_Build\n"
          ],
          "name": "stdout"
        }
      ]
    },
    {
      "cell_type": "code",
      "metadata": {
        "id": "G-2vk5luqPsr",
        "colab_type": "code",
        "colab": {}
      },
      "source": [
        "! cmake -DCMAKE_BUILD_TYPE=RELEASE -DOpenMVG_BUILD_TESTS=ON -DOpenMVG_BUILD_EXAMPLES=ON . ../src/"
      ],
      "execution_count": 0,
      "outputs": []
    },
    {
      "cell_type": "code",
      "metadata": {
        "id": "fSfhT174WR_K",
        "colab_type": "code",
        "colab": {}
      },
      "source": [
        "! make -j12"
      ],
      "execution_count": 0,
      "outputs": []
    },
    {
      "cell_type": "code",
      "metadata": {
        "id": "I6vR1NSS8vj9",
        "colab_type": "code",
        "colab": {}
      },
      "source": [
        "!make test\n",
        "# ! ctest --output-on-failure -j\n",
        "# ! make "
      ],
      "execution_count": 0,
      "outputs": []
    },
    {
      "cell_type": "code",
      "metadata": {
        "id": "ynRzXpPaSrm4",
        "colab_type": "code",
        "colab": {}
      },
      "source": [
        "!sudo make install"
      ],
      "execution_count": 0,
      "outputs": []
    },
    {
      "cell_type": "code",
      "metadata": {
        "id": "fRAzHT_4pwAO",
        "colab_type": "code",
        "colab": {}
      },
      "source": [
        "!git clone https://gitlab.com/libeigen/eigen.git --branch 3.2\n",
        "! mkdir eigen_build \n",
        "% cd eigen_build\n",
        "! cmake . ../eigen\n",
        "! make \n",
        "! sudo make install\n",
        "% cd .."
      ],
      "execution_count": 0,
      "outputs": []
    },
    {
      "cell_type": "code",
      "metadata": {
        "id": "KaEm4IikvYrn",
        "colab_type": "code",
        "outputId": "7e0d2c41-48b3-4ce7-a441-836943845f47",
        "colab": {
          "base_uri": "https://localhost:8080/",
          "height": 151
        }
      },
      "source": [
        "!git clone https://github.com/cdcseacave/VCG.git vcglib"
      ],
      "execution_count": 0,
      "outputs": [
        {
          "output_type": "stream",
          "text": [
            "Cloning into 'vcglib'...\n",
            "remote: Enumerating objects: 36673, done.\u001b[K\n",
            "remote: Counting objects: 100% (36673/36673), done.\u001b[K\n",
            "remote: Compressing objects: 100% (12785/12785), done.\u001b[K\n",
            "remote: Total 39069 (delta 24123), reused 35554 (delta 23690), pack-reused 2396\u001b[K\n",
            "Receiving objects: 100% (39069/39069), 17.63 MiB | 3.62 MiB/s, done.\n",
            "Resolving deltas: 100% (25149/25149), done.\n",
            "Checking out files: 100% (1088/1088), done.\n"
          ],
          "name": "stdout"
        }
      ]
    },
    {
      "cell_type": "code",
      "metadata": {
        "id": "rdVND51J00iX",
        "colab_type": "code",
        "colab": {}
      },
      "source": [
        "!sudo apt-get -y install libatlas-base-dev libsuitesparse-dev\n",
        "!git clone https://ceres-solver.googlesource.com/ceres-solver ceres-solver --branch 1.13.0\n",
        "!mkdir ceres_build \n",
        "% cd ceres_build\n",
        "!cmake . ../ceres-solver/ -DMINIGLOG=ON -DBUILD_TESTING=OFF -DBUILD_EXAMPLES=OFF\n",
        "!make -j2 \n",
        "!sudo make install\n",
        "% cd .."
      ],
      "execution_count": 0,
      "outputs": []
    },
    {
      "cell_type": "code",
      "metadata": {
        "id": "BeEkXera-sf-",
        "colab_type": "code",
        "colab": {}
      },
      "source": [
        "!git clone https://github.com/cdcseacave/openMVS.git openMVS\n",
        "!mkdir openMVS_build \n",
        "% cd openMVS_build\n",
        "!cmake . ../openMVS -DCMAKE_BUILD_TYPE=Release -DVCG_ROOT=\"/content/drive/My Drive/openmvg/vcglib\" "
      ],
      "execution_count": 0,
      "outputs": []
    },
    {
      "cell_type": "code",
      "metadata": {
        "id": "yF_9dPPnDirx",
        "colab_type": "code",
        "colab": {}
      },
      "source": [
        "!make -j2\n",
        "!sudo make install"
      ],
      "execution_count": 0,
      "outputs": []
    },
    {
      "cell_type": "code",
      "metadata": {
        "id": "T5k02CaYHx2d",
        "colab_type": "code",
        "outputId": "2cf29156-2daa-4761-daab-fb918a69d6d1",
        "colab": {
          "base_uri": "https://localhost:8080/",
          "height": 34
        }
      },
      "source": [
        "!pwd"
      ],
      "execution_count": 13,
      "outputs": [
        {
          "output_type": "stream",
          "text": [
            "/content/MyDrive/openmvg/mvsfile\n"
          ],
          "name": "stdout"
        }
      ]
    },
    {
      "cell_type": "code",
      "metadata": {
        "id": "AFQN9Oko0jJ_",
        "colab_type": "code",
        "outputId": "78b73520-aa89-492f-a9e6-22b4ef6cc1ae",
        "colab": {
          "base_uri": "https://localhost:8080/",
          "height": 34
        }
      },
      "source": [
        "% cd .."
      ],
      "execution_count": 10,
      "outputs": [
        {
          "output_type": "stream",
          "text": [
            "/content/MyDrive/openmvg\n"
          ],
          "name": "stdout"
        }
      ]
    },
    {
      "cell_type": "code",
      "metadata": {
        "id": "KJJVyTu31E7g",
        "colab_type": "code",
        "colab": {}
      },
      "source": [
        "!sudo python SfM_SequentialPipeline.py '/content/MyDrive/openmvg/images' '/content/MyDrive/openmvg/output_dir'"
      ],
      "execution_count": 0,
      "outputs": []
    },
    {
      "cell_type": "code",
      "metadata": {
        "id": "0usQgQzIdiQO",
        "colab_type": "code",
        "colab": {
          "base_uri": "https://localhost:8080/",
          "height": 34
        },
        "outputId": "819327c1-5951-40fc-de9c-1bf3466386f2"
      },
      "source": [
        "% cd openmvg/mvsfile"
      ],
      "execution_count": 9,
      "outputs": [
        {
          "output_type": "stream",
          "text": [
            "/content/MyDrive/openmvg/mvsfile\n"
          ],
          "name": "stdout"
        }
      ]
    },
    {
      "cell_type": "code",
      "metadata": {
        "id": "LW5-vzNDgrTM",
        "colab_type": "code",
        "colab": {
          "base_uri": "https://localhost:8080/",
          "height": 269
        },
        "outputId": "4ef5c8c0-cea4-4fe4-c9c5-28441fba9983"
      },
      "source": [
        "! /content/MyDrive/openmvg/openMVG_Build/Linux-x86_64-RELEASE/openMVG_main_openMVG2openMVS -i sfm_data.bin -o scene.mvs"
      ],
      "execution_count": 19,
      "outputs": [
        {
          "output_type": "stream",
          "text": [
            "\n",
            "- PROCESS VIEWS -\n",
            "0%   10   20   30   40   50   60   70   80   90   100%\n",
            "|----|----|----|----|----|----|----|----|----|----|\n",
            "***************************************************\n",
            "\n",
            "- UNDISTORT IMAGES -\n",
            "0%   10   20   30   40   50   60   70   80   90   100%\n",
            "|----|----|----|----|----|----|----|----|----|----|\n",
            "***************************************************\n",
            "Scene saved to OpenMVS interface format:\n",
            " #platforms: 1\n",
            "  platform ( 0 ) #cameras: 1\n",
            "  11 images (11 calibrated)\n",
            "  6226 Landmarks\n"
          ],
          "name": "stdout"
        }
      ]
    },
    {
      "cell_type": "code",
      "metadata": {
        "id": "aTN7FOlHk4jm",
        "colab_type": "code",
        "colab": {
          "base_uri": "https://localhost:8080/",
          "height": 134
        },
        "outputId": "94ce150b-605c-465a-b298-ebc5eea08802"
      },
      "source": [
        "! /content/MyDrive/openmvg/openMVS_build/bin/Viewer "
      ],
      "execution_count": 12,
      "outputs": [
        {
          "output_type": "stream",
          "text": [
            "06:54:07 [App     ] Build date: Apr 21 2020, 05:28:45\n",
            "06:54:07 [App     ] CPU: Intel(R) Xeon(R) CPU @ 2.30GHz (2 cores)\n",
            "06:54:07 [App     ] RAM: 12.72GB Physical Memory 0B Virtual Memory\n",
            "06:54:07 [App     ] OS: Linux 4.19.104+ (x86_64)\n",
            "06:54:07 [App     ] SSE & AVX compatible CPU & OS detected\n",
            "06:54:07 [App     ] Command line:\n",
            "06:54:07 [App     ] CUDA device 0 initialized: Tesla K80 (compute capability 3.7; memory 11.17GB)\n"
          ],
          "name": "stdout"
        }
      ]
    },
    {
      "cell_type": "code",
      "metadata": {
        "id": "5opmVXJWsH3j",
        "colab_type": "code",
        "colab": {
          "base_uri": "https://localhost:8080/",
          "height": 638
        },
        "outputId": "193db1a7-247a-43bf-c870-a0a8b2056792"
      },
      "source": [
        "! /content/MyDrive/openmvg/openMVS_build/bin/DensifyPointCloud scene.mvs"
      ],
      "execution_count": 14,
      "outputs": [
        {
          "output_type": "stream",
          "text": [
            "07:02:01 [App     ] Build date: Apr 21 2020, 05:28:45\n",
            "07:02:01 [App     ] CPU: Intel(R) Xeon(R) CPU @ 2.30GHz (2 cores)\n",
            "07:02:01 [App     ] RAM: 12.72GB Physical Memory 0B Virtual Memory\n",
            "07:02:01 [App     ] OS: Linux 4.19.104+ (x86_64)\n",
            "07:02:01 [App     ] SSE & AVX compatible CPU & OS detected\n",
            "07:02:01 [App     ] Command line: scene.mvs\n",
            "07:02:01 [App     ] CUDA device 0 initialized: Tesla K80 (compute capability 3.7; memory 11.17GB)\n",
            "07:02:01 [App     ] Camera model loaded: platform 0; camera  0; f 1.054x1.054; poses 11\n",
            "07:02:02 [App     ] Image loaded   0: 00000.jpg\n",
            "07:02:02 [App     ] Image loaded   1: 00001.jpg\n",
            "07:02:02 [App     ] Image loaded   2: 00002.jpg\n",
            "07:02:02 [App     ] Image loaded   3: 00003.jpg\n",
            "07:02:03 [App     ] Image loaded   4: 00004.jpg\n",
            "07:02:03 [App     ] Image loaded   5: 00005.jpg\n",
            "07:02:03 [App     ] Image loaded   6: 00006.jpg\n",
            "07:02:03 [App     ] Image loaded   7: 00007.jpg\n",
            "07:02:04 [App     ] Image loaded   8: 00008.jpg\n",
            "07:02:04 [App     ] Image loaded   9: 00009.jpg\n",
            "07:02:04 [App     ] Image loaded  10: 00010.jpg\n",
            "07:02:04 [App     ] Scene loaded from interface format (3s187ms):\n",
            "\t11 images (11 calibrated) with a total of 63.22 MPixels (5.75 MPixels/image)\n",
            "\t6226 points, 0 vertices, 0 faces\n",
            "07:02:06 [App     ] Preparing images for dense reconstruction completed: 11 images (1s316ms)\n",
            "07:02:06 [App     ] Selecting images for dense reconstruction completed: 11 images (8ms)\n",
            "Estimated depth-maps 11 (100%, 22m42s514ms)          \n",
            "Filtered depth-maps 11 (100%, 14s478ms)          \n",
            "Fused depth-maps 11 (100%, 2s638ms)           \n",
            "07:25:06 [App     ] Depth-maps fused and filtered: 11 depth-maps, 7753763 depths, 1128413 points (15%%) (3s95ms)\n",
            "07:25:06 [App     ] Densifying point-cloud completed: 1128413 points (23m1s457ms)\n",
            "07:25:11 [App     ] Scene saved (4s862ms):\n",
            "\t11 images (11 calibrated)\n",
            "\t1128413 points, 0 vertices, 0 faces\n",
            "07:25:11 [App     ] Point-cloud saved: 1128413 points (462ms)\n",
            "07:25:11 [App     ] MEMORYINFO: {\n",
            "07:25:11 [App     ] \tVmPeak:\t77871916 kB\n",
            "07:25:11 [App     ] \tVmSize:\t77871916 kB\n",
            "07:25:11 [App     ] } ENDINFO\n"
          ],
          "name": "stdout"
        }
      ]
    },
    {
      "cell_type": "code",
      "metadata": {
        "id": "52JhAcFhKAeX",
        "colab_type": "code",
        "colab": {
          "base_uri": "https://localhost:8080/",
          "height": 490
        },
        "outputId": "5047a6d3-442a-4b6b-f189-b7f80b2a5102"
      },
      "source": [
        "! /content/MyDrive/openmvg/openMVS_build/bin/ReconstructMesh scene_dense.mvs"
      ],
      "execution_count": 10,
      "outputs": [
        {
          "output_type": "stream",
          "text": [
            "09:13:05 [App     ] Build date: Apr 21 2020, 05:28:45\n",
            "09:13:05 [App     ] CPU: Intel(R) Xeon(R) CPU @ 2.30GHz (2 cores)\n",
            "09:13:05 [App     ] RAM: 12.72GB Physical Memory 0B Virtual Memory\n",
            "09:13:05 [App     ] OS: Linux 4.19.104+ (x86_64)\n",
            "09:13:05 [App     ] SSE & AVX compatible CPU & OS detected\n",
            "09:13:05 [App     ] Command line: scene_dense.mvs\n",
            "09:13:05 [App     ] CUDA device 0 initialized: Tesla K80 (compute capability 3.7; memory 11.17GB)\n",
            "09:13:09 [App     ] Scene loaded (3s520ms):\n",
            "\t11 images (11 calibrated) with a total of 15.81 MPixels (1.44 MPixels/image)\n",
            "\t1128413 points, 0 vertices, 0 faces\n",
            "Points inserted 1128413 (100%, 7s881ms)          \n",
            "09:13:22 [App     ] Delaunay tetrahedralization completed: 1128413 points -> 485161 vertices, 3045939 (+198) cells, 6091977 (+297) faces (8s413ms)\n",
            "Points weighted 485161 (100%, 38s656ms)          \n",
            "09:14:03 [App     ] Delaunay tetrahedras weighting completed: 3046137 cells, 6092274 faces (41s391ms)\n",
            "09:14:11 [App     ] Delaunay tetrahedras graph-cut completed (376734 flow): 456309 vertices, 912943 faces (7s571ms)\n",
            "09:14:15 [App     ] Mesh reconstruction completed: 456389 vertices, 912719 faces (1m2s564ms)\n",
            "09:14:22 [App     ] Cleaned mesh: 455968 vertices, 911464 faces (7s50ms)\n",
            "09:14:27 [App     ] Cleaned mesh: 455972 vertices, 911475 faces (4s420ms)\n",
            "09:14:29 [App     ] Cleaned mesh: 455972 vertices, 911475 faces (1s773ms)\n",
            "09:14:30 [App     ] Scene saved (1s555ms):\n",
            "\t11 images (11 calibrated)\n",
            "\t0 points, 455972 vertices, 911475 faces\n",
            "09:14:30 [App     ] Mesh saved: 455972 vertices, 911475 faces (123ms)\n",
            "09:14:30 [App     ] MEMORYINFO: {\n",
            "09:14:30 [App     ] \tVmPeak:\t77725956 kB\n",
            "09:14:30 [App     ] \tVmSize:\t77725956 kB\n",
            "09:14:30 [App     ] } ENDINFO\n"
          ],
          "name": "stdout"
        }
      ]
    },
    {
      "cell_type": "code",
      "metadata": {
        "id": "LJTzV8_TK_6n",
        "colab_type": "code",
        "colab": {
          "base_uri": "https://localhost:8080/",
          "height": 504
        },
        "outputId": "77b7c052-9fef-4d67-cdc4-637e9c6e4469"
      },
      "source": [
        "! /content/MyDrive/openmvg/openMVS_build/bin/RefineMesh scene_dense_mesh.mvs"
      ],
      "execution_count": 11,
      "outputs": [
        {
          "output_type": "stream",
          "text": [
            "09:18:50 [App     ] Build date: Apr 21 2020, 05:28:45\n",
            "09:18:50 [App     ] CPU: Intel(R) Xeon(R) CPU @ 2.30GHz (2 cores)\n",
            "09:18:50 [App     ] RAM: 12.72GB Physical Memory 0B Virtual Memory\n",
            "09:18:50 [App     ] OS: Linux 4.19.104+ (x86_64)\n",
            "09:18:50 [App     ] SSE & AVX compatible CPU & OS detected\n",
            "09:18:50 [App     ] Command line: scene_dense_mesh.mvs\n",
            "09:18:50 [App     ] CUDA device 0 initialized: Tesla K80 (compute capability 3.7; memory 11.17GB)\n",
            "09:18:51 [App     ] Scene loaded (758ms):\n",
            "\t11 images (11 calibrated) with a total of 63.22 MPixels (5.75 MPixels/image)\n",
            "\t0 points, 455972 vertices, 911475 faces\n",
            "Decimated faces 820327 (100%, 9s32ms)           \n",
            "09:19:06 [App     ] Cleaned mesh: 45803 vertices, 91146 faces (9s731ms)\n",
            "09:19:06 [App     ] Cleaned mesh: 45803 vertices, 91146 faces (188ms)\n",
            "09:19:08 [App     ] Cleaned mesh: 36400 vertices, 72225 faces (140ms)\n",
            "09:19:08 [App     ] Mesh subdivided: 45803/91146 -> 36400/72225 vertices/faces\n",
            "Processed iterations 45 (100%, 19s566ms)           \n",
            "09:19:29 [App     ] Mesh subdivided: 36400/72225 -> 37077/73566 vertices/faces\n",
            "Processed iterations 22 (100%, 26s463ms)        \n",
            "09:19:57 [App     ] Mesh subdivided: 37077/73566 -> 60705/120584 vertices/faces\n",
            "Processed iterations 15 (100%, 58s684ms)        \n",
            "09:20:56 [App     ] Mesh refinement completed: 60705 vertices, 120584 faces (2m5s272ms)\n",
            "09:20:56 [App     ] Scene saved (152ms):\n",
            "\t11 images (11 calibrated)\n",
            "\t0 points, 60705 vertices, 120584 faces\n",
            "09:20:56 [App     ] Mesh saved: 60705 vertices, 120584 faces (19ms)\n",
            "09:20:56 [App     ] MEMORYINFO: {\n",
            "09:20:56 [App     ] \tVmPeak:\t77127972 kB\n",
            "09:20:56 [App     ] \tVmSize:\t77127972 kB\n",
            "09:20:56 [App     ] } ENDINFO\n"
          ],
          "name": "stdout"
        }
      ]
    },
    {
      "cell_type": "code",
      "metadata": {
        "id": "RDuGNtjOMYrM",
        "colab_type": "code",
        "colab": {
          "base_uri": "https://localhost:8080/",
          "height": 386
        },
        "outputId": "60d593b0-c7cf-430f-87f3-a6ad416c90ef"
      },
      "source": [
        "! /content/MyDrive/openmvg/openMVS_build/bin/TextureMesh scene_dense_mesh_refine.mvs"
      ],
      "execution_count": 12,
      "outputs": [
        {
          "output_type": "stream",
          "text": [
            "09:23:31 [App     ] Build date: Apr 21 2020, 05:28:45\n",
            "09:23:31 [App     ] CPU: Intel(R) Xeon(R) CPU @ 2.30GHz (2 cores)\n",
            "09:23:31 [App     ] RAM: 12.72GB Physical Memory 0B Virtual Memory\n",
            "09:23:31 [App     ] OS: Linux 4.19.104+ (x86_64)\n",
            "09:23:31 [App     ] SSE & AVX compatible CPU & OS detected\n",
            "09:23:31 [App     ] Command line: scene_dense_mesh_refine.mvs\n",
            "09:23:31 [App     ] CUDA device 0 initialized: Tesla K80 (compute capability 3.7; memory 11.17GB)\n",
            "09:23:31 [App     ] Scene loaded (127ms):\n",
            "\t11 images (11 calibrated) with a total of 63.22 MPixels (5.75 MPixels/image)\n",
            "\t0 points, 60705 vertices, 120584 faces\n",
            "Initialized views 11 (100%, 3s341ms)          \n",
            "09:23:59 [App     ] Assigning the best view to each face completed: 120584 faces (27s818ms)\n",
            "09:24:12 [App     ] Generating texture atlas and image completed: 627 patches, 4096 image size (13s107ms)\n",
            "09:24:12 [App     ] Mesh texturing completed: 60705 vertices, 120584 faces (40s934ms)\n",
            "09:24:18 [App     ] Scene saved (5s517ms):\n",
            "\t11 images (11 calibrated)\n",
            "\t0 points, 60705 vertices, 120584 faces\n",
            "09:24:22 [App     ] Mesh saved: 60705 vertices, 120584 faces (4s792ms)\n",
            "09:24:22 [App     ] MEMORYINFO: {\n",
            "09:24:22 [App     ] \tVmPeak:\t77956088 kB\n",
            "09:24:22 [App     ] \tVmSize:\t77956088 kB\n",
            "09:24:22 [App     ] } ENDINFO\n"
          ],
          "name": "stdout"
        }
      ]
    },
    {
      "cell_type": "code",
      "metadata": {
        "id": "iO-kcyVdA_eU",
        "colab_type": "code",
        "colab": {}
      },
      "source": [
        "!python tutorial_demo.py"
      ],
      "execution_count": 0,
      "outputs": []
    }
  ]
}