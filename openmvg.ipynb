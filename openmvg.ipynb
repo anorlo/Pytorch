{
  "nbformat": 4,
  "nbformat_minor": 0,
  "metadata": {
    "colab": {
      "name": "Untitled8.ipynb",
      "provenance": [],
      "authorship_tag": "ABX9TyMO6tVVvx4095pa/0rsMsCp",
      "include_colab_link": true
    },
    "kernelspec": {
      "name": "python3",
      "display_name": "Python 3"
    }
  },
  "cells": [
    {
      "cell_type": "markdown",
      "metadata": {
        "id": "view-in-github",
        "colab_type": "text"
      },
      "source": [
        "<a href=\"https://colab.research.google.com/github/anorlo/Pytorch/blob/master/openmvg.ipynb\" target=\"_parent\"><img src=\"https://colab.research.google.com/assets/colab-badge.svg\" alt=\"Open In Colab\"/></a>"
      ]
    },
    {
      "cell_type": "code",
      "metadata": {
        "id": "wP5BZxUzmmS3",
        "colab_type": "code",
        "outputId": "b3030c36-e658-4cf3-d474-7113ba63d59d",
        "colab": {
          "base_uri": "https://localhost:8080/",
          "height": 34
        }
      },
      "source": [
        "from google.colab import drive\n",
        "drive.mount('/content/drive')"
      ],
      "execution_count": 2,
      "outputs": [
        {
          "output_type": "stream",
          "text": [
            "Drive already mounted at /content/drive; to attempt to forcibly remount, call drive.mount(\"/content/drive\", force_remount=True).\n"
          ],
          "name": "stdout"
        }
      ]
    },
    {
      "cell_type": "code",
      "metadata": {
        "id": "N8twHJTfmWsX",
        "colab_type": "code",
        "outputId": "72ed38f6-1a37-468b-bb57-be5592f39785",
        "colab": {
          "base_uri": "https://localhost:8080/",
          "height": 202
        }
      },
      "source": [
        "!sudo apt-get install libpng-dev libjpeg-dev libtiff-dev libxxf86vm1 libxxf86vm-dev libxi-dev libxrandr-dev"
      ],
      "execution_count": 0,
      "outputs": [
        {
          "output_type": "stream",
          "text": [
            "Reading package lists... Done\n",
            "Building dependency tree       \n",
            "Reading state information... Done\n",
            "libjpeg-dev is already the newest version (8c-2ubuntu8).\n",
            "libxi-dev is already the newest version (2:1.7.9-1).\n",
            "libxrandr-dev is already the newest version (2:1.5.1-1).\n",
            "libxxf86vm-dev is already the newest version (1:1.1.4-1).\n",
            "libxxf86vm1 is already the newest version (1:1.1.4-1).\n",
            "libpng-dev is already the newest version (1.6.34-1ubuntu0.18.04.2).\n",
            "libtiff-dev is already the newest version (4.0.9-5ubuntu0.3).\n",
            "0 upgraded, 0 newly installed, 0 to remove and 25 not upgraded.\n"
          ],
          "name": "stdout"
        }
      ]
    },
    {
      "cell_type": "code",
      "metadata": {
        "id": "IIy6artin_vm",
        "colab_type": "code",
        "outputId": "e8f624f9-b1af-4279-b3ce-652d6e8ec9a7",
        "colab": {
          "base_uri": "https://localhost:8080/",
          "height": 34
        }
      },
      "source": [
        "import os\n",
        "path = \"/content/drive/My Drive/openmvg\"\n",
        "\n",
        "os.chdir(path)\n",
        "os.listdir(path)"
      ],
      "execution_count": 0,
      "outputs": [
        {
          "output_type": "execute_result",
          "data": {
            "text/plain": [
              "['openMVG', 'openMVG_Build', '.ipynb_checkpoints']"
            ]
          },
          "metadata": {
            "tags": []
          },
          "execution_count": 3
        }
      ]
    },
    {
      "cell_type": "code",
      "metadata": {
        "id": "2xpKy9mtoSRY",
        "colab_type": "code",
        "outputId": "b27193cb-0cf4-410d-b507-05ee6fe9c729",
        "colab": {
          "base_uri": "https://localhost:8080/",
          "height": 541
        }
      },
      "source": [
        "# !git clone --recursive https://github.com/openMVG/openMVG.git\n",
        "# !mkdir openMVG_Build "
      ],
      "execution_count": 0,
      "outputs": [
        {
          "output_type": "stream",
          "text": [
            "Cloning into 'openMVG'...\n",
            "remote: Enumerating objects: 38, done.\u001b[K\n",
            "remote: Counting objects: 100% (38/38), done.\u001b[K\n",
            "remote: Compressing objects: 100% (35/35), done.\u001b[K\n",
            "remote: Total 26937 (delta 8), reused 9 (delta 1), pack-reused 26899\u001b[K\n",
            "Receiving objects: 100% (26937/26937), 26.41 MiB | 8.50 MiB/s, done.\n",
            "Resolving deltas: 100% (19319/19319), done.\n",
            "Checking out files: 100% (2383/2383), done.\n",
            "Submodule 'src/dependencies/cereal' (https://github.com/openMVG-thirdparty/cereal.git) registered for path 'src/dependencies/cereal'\n",
            "Submodule 'src/dependencies/glfw' (https://github.com/elmindreda/glfw.git) registered for path 'src/dependencies/glfw'\n",
            "Submodule 'src/dependencies/osi_clp' (https://github.com/openMVG-thirdparty/osi_clp.git) registered for path 'src/dependencies/osi_clp'\n",
            "Cloning into '/content/drive/My Drive/openmvg/openMVG/src/dependencies/cereal'...\n",
            "remote: Enumerating objects: 2, done.        \n",
            "remote: Counting objects: 100% (2/2), done.        \n",
            "remote: Total 6563 (delta 1), reused 1 (delta 1), pack-reused 6561        \n",
            "Receiving objects: 100% (6563/6563), 2.90 MiB | 2.78 MiB/s, done.\n",
            "Resolving deltas: 100% (3819/3819), done.\n",
            "Cloning into '/content/drive/My Drive/openmvg/openMVG/src/dependencies/glfw'...\n",
            "remote: Enumerating objects: 24065, done.        \n",
            "remote: Total 24065 (delta 0), reused 0 (delta 0), pack-reused 24065        \n",
            "Receiving objects: 100% (24065/24065), 11.50 MiB | 4.42 MiB/s, done.\n",
            "Resolving deltas: 100% (16958/16958), done.\n",
            "Cloning into '/content/drive/My Drive/openmvg/openMVG/src/dependencies/osi_clp'...\n",
            "remote: Enumerating objects: 976, done.        \n",
            "remote: Total 976 (delta 0), reused 0 (delta 0), pack-reused 976        \n",
            "Receiving objects: 100% (976/976), 3.00 MiB | 8.37 MiB/s, done.\n",
            "Resolving deltas: 100% (565/565), done.\n",
            "Submodule path 'src/dependencies/cereal': checked out 'ac168fe78ac499be0a745bf4a3253a9660572f8d'\n",
            "Submodule path 'src/dependencies/glfw': checked out 'eab31f228fd1872753c55fb438e3d88e51c0e9b2'\n",
            "Submodule path 'src/dependencies/osi_clp': checked out 'a25a980c1af50cbd8962fe9d21035afa03653270'\n"
          ],
          "name": "stdout"
        }
      ]
    },
    {
      "cell_type": "code",
      "metadata": {
        "id": "ZAUWyx7Ho1RS",
        "colab_type": "code",
        "outputId": "90f15300-e38e-48e6-f7d3-eb95a87c4a26",
        "colab": {
          "base_uri": "https://localhost:8080/",
          "height": 50
        }
      },
      "source": [
        "% cd openMVG_Build\n",
        "!pwd"
      ],
      "execution_count": 0,
      "outputs": [
        {
          "output_type": "stream",
          "text": [
            "/content/drive/My Drive/openmvg/openMVG_Build\n",
            "/content/drive/My Drive/openmvg/openMVG_Build\n"
          ],
          "name": "stdout"
        }
      ]
    },
    {
      "cell_type": "code",
      "metadata": {
        "id": "G-2vk5luqPsr",
        "colab_type": "code",
        "colab": {}
      },
      "source": [
        "! cmake -DCMAKE_BUILD_TYPE=RELEASE -DOpenMVG_BUILD_TESTS=ON -DOpenMVG_BUILD_EXAMPLES=ON . ../src/"
      ],
      "execution_count": 0,
      "outputs": []
    },
    {
      "cell_type": "code",
      "metadata": {
        "id": "fSfhT174WR_K",
        "colab_type": "code",
        "colab": {}
      },
      "source": [
        "! make -j12"
      ],
      "execution_count": 0,
      "outputs": []
    },
    {
      "cell_type": "code",
      "metadata": {
        "id": "I6vR1NSS8vj9",
        "colab_type": "code",
        "colab": {}
      },
      "source": [
        "!make test\n",
        "# ! ctest --output-on-failure -j\n",
        "# ! make "
      ],
      "execution_count": 0,
      "outputs": []
    },
    {
      "cell_type": "code",
      "metadata": {
        "id": "ynRzXpPaSrm4",
        "colab_type": "code",
        "colab": {}
      },
      "source": [
        "!sudo make install"
      ],
      "execution_count": 0,
      "outputs": []
    },
    {
      "cell_type": "code",
      "metadata": {
        "id": "ae2qE6aWu4Wd",
        "colab_type": "code",
        "colab": {}
      },
      "source": [
        "% cd ..\n",
        "!pwd"
      ],
      "execution_count": 0,
      "outputs": []
    },
    {
      "cell_type": "code",
      "metadata": {
        "id": "fRAzHT_4pwAO",
        "colab_type": "code",
        "outputId": "03d2b050-244e-4972-9be4-2d704a6f6e3a",
        "colab": {
          "base_uri": "https://localhost:8080/",
          "height": 151
        }
      },
      "source": [
        "!git clone https://gitlab.com/libeigen/eigen.git --branch 3.2"
      ],
      "execution_count": 0,
      "outputs": [
        {
          "output_type": "stream",
          "text": [
            "Cloning into 'eigen'...\n",
            "remote: Enumerating objects: 104996, done.\u001b[K\n",
            "remote: Counting objects: 100% (104996/104996), done.\u001b[K\n",
            "remote: Compressing objects: 100% (20095/20095), done.\u001b[K\n",
            "remote: Total 104996 (delta 85518), reused 104097 (delta 84633), pack-reused 0\u001b[K\n",
            "Receiving objects: 100% (104996/104996), 103.31 MiB | 8.65 MiB/s, done.\n",
            "Resolving deltas: 100% (85518/85518), done.\n",
            "Checking out files: 100% (1394/1394), done.\n"
          ],
          "name": "stdout"
        }
      ]
    },
    {
      "cell_type": "code",
      "metadata": {
        "id": "qCm1xsqNtnm6",
        "colab_type": "code",
        "outputId": "5f4130c4-0800-42ae-a503-652bea2cb3f6",
        "colab": {
          "base_uri": "https://localhost:8080/",
          "height": 1000
        }
      },
      "source": [
        "! mkdir eigen_build \n",
        "% cd eigen_build\n",
        "! cmake . ../eigen\n",
        "! make \n",
        "! sudo make install\n",
        "% cd .."
      ],
      "execution_count": 0,
      "outputs": [
        {
          "output_type": "stream",
          "text": [
            "/content/drive/My Drive/openmvg/eigen_build\n",
            "-- The C compiler identification is GNU 7.5.0\n",
            "-- The CXX compiler identification is GNU 7.5.0\n",
            "-- Check for working C compiler: /usr/bin/cc\n",
            "-- Check for working C compiler: /usr/bin/cc -- works\n",
            "-- Detecting C compiler ABI info\n",
            "-- Detecting C compiler ABI info - done\n",
            "-- Detecting C compile features\n",
            "-- Detecting C compile features - done\n",
            "-- Check for working CXX compiler: /usr/bin/c++\n",
            "-- Check for working CXX compiler: /usr/bin/c++ -- works\n",
            "-- Detecting CXX compiler ABI info\n",
            "-- Detecting CXX compiler ABI info - done\n",
            "-- Detecting CXX compile features\n",
            "-- Detecting CXX compile features - done\n",
            "abort: repository /content/drive/My Drive/openmvg/eigen not found!\n",
            "abort: repository /content/drive/My Drive/openmvg/eigen not found!\n",
            "-- Performing Test standard_math_library_linked_to_automatically\n",
            "-- Performing Test standard_math_library_linked_to_automatically - Success\n",
            "-- Standard libraries to link to explicitly: none\n",
            "-- Performing Test COMPILER_SUPPORT_WERROR\n",
            "-- Performing Test COMPILER_SUPPORT_WERROR - Success\n",
            "-- Performing Test COMPILER_SUPPORT_pedantic\n",
            "-- Performing Test COMPILER_SUPPORT_pedantic - Success\n",
            "-- Performing Test COMPILER_SUPPORT_Wall\n",
            "-- Performing Test COMPILER_SUPPORT_Wall - Success\n",
            "-- Performing Test COMPILER_SUPPORT_Wextra\n",
            "-- Performing Test COMPILER_SUPPORT_Wextra - Success\n",
            "-- Performing Test COMPILER_SUPPORT_Wundef\n",
            "-- Performing Test COMPILER_SUPPORT_Wundef - Success\n",
            "-- Performing Test COMPILER_SUPPORT_Wcastalign\n",
            "-- Performing Test COMPILER_SUPPORT_Wcastalign - Success\n",
            "-- Performing Test COMPILER_SUPPORT_Wcharsubscripts\n",
            "-- Performing Test COMPILER_SUPPORT_Wcharsubscripts - Success\n",
            "-- Performing Test COMPILER_SUPPORT_Wnonvirtualdtor\n",
            "-- Performing Test COMPILER_SUPPORT_Wnonvirtualdtor - Success\n",
            "-- Performing Test COMPILER_SUPPORT_Wunusedlocaltypedefs\n",
            "-- Performing Test COMPILER_SUPPORT_Wunusedlocaltypedefs - Success\n",
            "-- Performing Test COMPILER_SUPPORT_Wpointerarith\n",
            "-- Performing Test COMPILER_SUPPORT_Wpointerarith - Success\n",
            "-- Performing Test COMPILER_SUPPORT_Wwritestrings\n",
            "-- Performing Test COMPILER_SUPPORT_Wwritestrings - Success\n",
            "-- Performing Test COMPILER_SUPPORT_Wformatsecurity\n",
            "-- Performing Test COMPILER_SUPPORT_Wformatsecurity - Success\n",
            "-- Performing Test COMPILER_SUPPORT_Wnopsabi\n",
            "-- Performing Test COMPILER_SUPPORT_Wnopsabi - Success\n",
            "-- Performing Test COMPILER_SUPPORT_Wnovariadicmacros\n",
            "-- Performing Test COMPILER_SUPPORT_Wnovariadicmacros - Success\n",
            "-- Performing Test COMPILER_SUPPORT_Wnolonglong\n",
            "-- Performing Test COMPILER_SUPPORT_Wnolonglong - Success\n",
            "-- Performing Test COMPILER_SUPPORT_fnochecknew\n",
            "-- Performing Test COMPILER_SUPPORT_fnochecknew - Success\n",
            "-- Performing Test COMPILER_SUPPORT_fnocommon\n",
            "-- Performing Test COMPILER_SUPPORT_fnocommon - Success\n",
            "-- Performing Test COMPILER_SUPPORT_fstrictaliasing\n",
            "-- Performing Test COMPILER_SUPPORT_fstrictaliasing - Success\n",
            "-- Performing Test COMPILER_SUPPORT_wd981\n",
            "-- Performing Test COMPILER_SUPPORT_wd981 - Failed\n",
            "-- Performing Test COMPILER_SUPPORT_wd2304\n",
            "-- Performing Test COMPILER_SUPPORT_wd2304 - Failed\n",
            "-- Performing Test COMPILER_SUPPORT_STRICTANSI\n",
            "-- Performing Test COMPILER_SUPPORT_STRICTANSI - Failed\n",
            "-- Performing Test COMPILER_SUPPORT_Qunusedarguments\n",
            "-- Performing Test COMPILER_SUPPORT_Qunusedarguments - Failed\n",
            "-- Performing Test COMPILER_SUPPORT_ansi\n",
            "-- Performing Test COMPILER_SUPPORT_ansi - Success\n",
            "-- Performing Test COMPILER_SUPPORT_OPENMP\n",
            "-- Performing Test COMPILER_SUPPORT_OPENMP - Success\n",
            "-- Found unsuitable Qt version \"5.9.5\" from /usr/bin/qmake\n",
            "-- /content/drive/My Drive/openmvg/eigen_build/test\n",
            "-- Found CHOLMOD: /usr/include/suitesparse  \n",
            "-- Found UMFPACK: /usr/include/suitesparse  \n",
            "-- Could NOT find SUPERLU (missing: SUPERLU_INCLUDES SUPERLU_LIBRARIES) \n",
            "-- Could NOT find PASTIX (missing: PASTIX_INCLUDES PASTIX_LIBRARIES) \n",
            "-- Could NOT find SCOTCH (missing: SCOTCH_INCLUDES SCOTCH_LIBRARIES) \n",
            "-- Could NOT find METIS (missing: METIS_INCLUDES METIS_LIBRARIES) \n",
            "-- Found SPQR: /usr/include/suitesparse  \n",
            "-- Found unsuitable Qt version \"5.9.5\" from /usr/bin/qmake\n",
            "-- The Fortran compiler identification is GNU 7.5.0\n",
            "-- Check for working Fortran compiler: /usr/bin/gfortran\n",
            "-- Check for working Fortran compiler: /usr/bin/gfortran  -- works\n",
            "-- Detecting Fortran compiler ABI info\n",
            "-- Detecting Fortran compiler ABI info - done\n",
            "-- Checking whether /usr/bin/gfortran supports Fortran 90\n",
            "-- Checking whether /usr/bin/gfortran supports Fortran 90 -- yes\n",
            "-- Could NOT find GOOGLEHASH (missing: GOOGLEHASH_INCLUDES GOOGLEHASH_COMPILE) \n",
            "-- Could NOT find ADOLC (missing: ADOLC_INCLUDES ADOLC_LIBRARIES) \n",
            "-- Found MPFR: /usr/include (Required is at least version \"2.3.0\") \n",
            "-- Found GMP: /usr/include/x86_64-linux-gnu  \n",
            "-- Found PkgConfig: /usr/bin/pkg-config (found version \"0.29.1\") \n",
            "-- Could NOT find FFTW (missing: FFTW_INCLUDES FFTW_LIBRARIES) \n",
            "CMake Warning (dev) at /usr/local/lib/python2.7/dist-packages/cmake/data/share/cmake-3.12/Modules/FindOpenGL.cmake:270 (message):\n",
            "  Policy CMP0072 is not set: FindOpenGL prefers GLVND by default when\n",
            "  available.  Run \"cmake --help-policy CMP0072\" for policy details.  Use the\n",
            "  cmake_policy command to set the policy and suppress this warning.\n",
            "\n",
            "  FindOpenGL found both a legacy GL library:\n",
            "\n",
            "    OPENGL_gl_LIBRARY: /usr/lib/x86_64-linux-gnu/libGL.so\n",
            "\n",
            "  and GLVND libraries for OpenGL and GLX:\n",
            "\n",
            "    OPENGL_opengl_LIBRARY: /usr/lib/x86_64-linux-gnu/libOpenGL.so\n",
            "    OPENGL_glx_LIBRARY: /usr/lib/x86_64-linux-gnu/libGLX.so\n",
            "\n",
            "  OpenGL_GL_PREFERENCE has not been set to \"GLVND\" or \"LEGACY\", so for\n",
            "  compatibility with CMake 3.10 and below the legacy GL library will be used.\n",
            "Call Stack (most recent call first):\n",
            "  unsupported/test/CMakeLists.txt:68 (find_package)\n",
            "This warning is for project developers.  Use -Wno-dev to suppress it.\n",
            "\n",
            "-- Found OpenGL: /usr/lib/x86_64-linux-gnu/libOpenGL.so   \n",
            "-- Found GLUT: /usr/lib/x86_64-linux-gnu/libglut.so  \n",
            "-- Found Glew: /usr/lib/x86_64-linux-gnu/libGLEW.so\n",
            "-- Found unsuitable Qt version \"5.9.5\" from /usr/bin/qmake\n",
            "-- Qt4 not found, so disabling the mandelbrot and opengl demos\n",
            "-- Could NOT find SUPERLU (missing: SUPERLU_INCLUDES SUPERLU_LIBRARIES) \n",
            "-- Could NOT find PASTIX (missing: PASTIX_INCLUDES PASTIX_LIBRARIES) \n",
            "-- Could NOT find SCOTCH (missing: SCOTCH_INCLUDES SCOTCH_LIBRARIES) \n",
            "-- Could NOT find METIS (missing: METIS_INCLUDES METIS_LIBRARIES) \n",
            "-- ************************************************************\n",
            "-- ***    Eigen's unit tests configuration summary          ***\n",
            "-- ************************************************************\n",
            "-- \n",
            "-- Build type:        Release\n",
            "-- Build site:        e60129939c30\n",
            "-- Build string:      linux-4.19.104+-_-7.5.0-sse2-64bit\n",
            "-- Enabled backends:  Cholmod,  UmfPack,  SPQR,  MPFR C++,  OpenGL, \n",
            "-- Disabled backends: SuperLU,  PaStiX,  METIS,  Qt4 support,  GoogleHash,  Adolc,  fftw, \n",
            "-- Default order:     Column-major\n",
            "-- Maximal matrix/vector size: 320\n",
            "-- SSE2:              Using architecture defaults\n",
            "-- SSE3:              Using architecture defaults\n",
            "-- SSSE3:             Using architecture defaults\n",
            "-- SSE4.1:            Using architecture defaults\n",
            "-- SSE4.2:            Using architecture defaults\n",
            "-- Altivec:           Using architecture defaults\n",
            "-- ARM NEON:          Using architecture defaults\n",
            "-- \n",
            "CXX:               /usr/bin/c++\n",
            " CXX_VERSION:       c++ (Ubuntu 7.5.0-3ubuntu1~18.04) 7.5.0\n",
            " CXX_FLAGS:          -fexceptions -pedantic -Wall -Wextra -Wundef -Wcast-align -Wchar-subscripts -Wnon-virtual-dtor -Wunused-local-typedefs -Wpointer-arith -Wwrite-strings -Wformat-security -Wno-psabi -Wno-variadic-macros -Wno-long-long -fno-check-new -fno-common -fstrict-aliasing -ansi  -g2\n",
            " Sparse lib flags:   ;/usr/lib/x86_64-linux-gnu/libcholmod.so;/usr/lib/x86_64-linux-gnu/libamd.so;/usr/lib/x86_64-linux-gnu/libcolamd.so;/usr/lib/x86_64-linux-gnu/libcamd.so;/usr/lib/x86_64-linux-gnu/libccolamd.so;eigen_blas;eigen_lapack;/usr/lib/x86_64-linux-gnu/libumfpack.so;/usr/lib/x86_64-linux-gnu/libcolamd.so;/usr/lib/x86_64-linux-gnu/libamd.so;/usr/lib/x86_64-linux-gnu/libcholmod.so;eigen_blas;/usr/lib/x86_64-linux-gnu/libspqr.so;/usr/lib/x86_64-linux-gnu/libcholmod.so;/usr/lib/x86_64-linux-gnu/libcholmod.so;/usr/lib/x86_64-linux-gnu/libamd.so;/usr/lib/x86_64-linux-gnu/libcolamd.so;/usr/lib/x86_64-linux-gnu/libcamd.so;/usr/lib/x86_64-linux-gnu/libccolamd.so;eigen_lapack;eigen_blas\n",
            "\n",
            "-- ************************************************************\n",
            "-- \n",
            "-- Configured Eigen 3.2.10\n",
            "-- \n",
            "-- Some things you can do now:\n",
            "-- --------------+--------------------------------------------------------------\n",
            "-- Command       |   Description\n",
            "-- --------------+--------------------------------------------------------------\n",
            "-- make install  | Install Eigen. Headers will be installed to:\n",
            "--               |     <CMAKE_INSTALL_PREFIX>/<INCLUDE_INSTALL_DIR>\n",
            "--               |   Using the following values:\n",
            "--               |     CMAKE_INSTALL_PREFIX: /usr/local\n",
            "--               |     INCLUDE_INSTALL_DIR:  include/eigen3\n",
            "--               |   Change the install location of Eigen headers using:\n",
            "--               |     cmake . -DCMAKE_INSTALL_PREFIX=yourprefix\n",
            "--               |   Or:\n",
            "--               |     cmake . -DINCLUDE_INSTALL_DIR=yourdir\n",
            "-- make doc      | Generate the API documentation, requires Doxygen & LaTeX\n",
            "-- make check    | Build and run the unit-tests. Read this page:\n",
            "--               |   http://eigen.tuxfamily.org/index.php?title=Tests\n",
            "-- make blas     | Build BLAS library (not the same thing as Eigen)\n",
            "-- --------------+--------------------------------------------------------------\n",
            "-- \n",
            "-- Configuring done\n",
            "-- Generating done\n",
            "-- Build files have been written to: /content/drive/My Drive/openmvg/eigen_build\n",
            "\u001b[36mInstall the project...\u001b[0m\n",
            "-- Install configuration: \"Release\"\n",
            "-- Installing: /usr/local/include/eigen3/signature_of_eigen3_matrix_library\n",
            "-- Installing: /usr/local/share/pkgconfig/eigen3.pc\n",
            "-- Installing: /usr/local/include/eigen3/Eigen/Array\n",
            "-- Installing: /usr/local/include/eigen3/Eigen/Cholesky\n",
            "-- Installing: /usr/local/include/eigen3/Eigen/CholmodSupport\n",
            "-- Installing: /usr/local/include/eigen3/Eigen/Core\n",
            "-- Installing: /usr/local/include/eigen3/Eigen/Dense\n",
            "-- Installing: /usr/local/include/eigen3/Eigen/Eigen\n",
            "-- Installing: /usr/local/include/eigen3/Eigen/Eigen2Support\n",
            "-- Installing: /usr/local/include/eigen3/Eigen/Eigenvalues\n",
            "-- Installing: /usr/local/include/eigen3/Eigen/Geometry\n",
            "-- Installing: /usr/local/include/eigen3/Eigen/Householder\n",
            "-- Installing: /usr/local/include/eigen3/Eigen/IterativeLinearSolvers\n",
            "-- Installing: /usr/local/include/eigen3/Eigen/Jacobi\n",
            "-- Installing: /usr/local/include/eigen3/Eigen/LU\n",
            "-- Installing: /usr/local/include/eigen3/Eigen/LeastSquares\n",
            "-- Installing: /usr/local/include/eigen3/Eigen/MetisSupport\n",
            "-- Installing: /usr/local/include/eigen3/Eigen/OrderingMethods\n",
            "-- Installing: /usr/local/include/eigen3/Eigen/PaStiXSupport\n",
            "-- Installing: /usr/local/include/eigen3/Eigen/PardisoSupport\n",
            "-- Installing: /usr/local/include/eigen3/Eigen/QR\n",
            "-- Installing: /usr/local/include/eigen3/Eigen/QtAlignedMalloc\n",
            "-- Installing: /usr/local/include/eigen3/Eigen/SPQRSupport\n",
            "-- Installing: /usr/local/include/eigen3/Eigen/SVD\n",
            "-- Installing: /usr/local/include/eigen3/Eigen/Sparse\n",
            "-- Installing: /usr/local/include/eigen3/Eigen/SparseCholesky\n",
            "-- Installing: /usr/local/include/eigen3/Eigen/SparseCore\n",
            "-- Installing: /usr/local/include/eigen3/Eigen/SparseLU\n",
            "-- Installing: /usr/local/include/eigen3/Eigen/SparseQR\n",
            "-- Installing: /usr/local/include/eigen3/Eigen/StdDeque\n",
            "-- Installing: /usr/local/include/eigen3/Eigen/StdList\n",
            "-- Installing: /usr/local/include/eigen3/Eigen/StdVector\n",
            "-- Installing: /usr/local/include/eigen3/Eigen/SuperLUSupport\n",
            "-- Installing: /usr/local/include/eigen3/Eigen/UmfPackSupport\n",
            "-- Installing: /usr/local/include/eigen3/Eigen/src/Cholesky/LDLT.h\n",
            "-- Installing: /usr/local/include/eigen3/Eigen/src/Cholesky/LLT.h\n",
            "-- Installing: /usr/local/include/eigen3/Eigen/src/Cholesky/LLT_MKL.h\n",
            "-- Installing: /usr/local/include/eigen3/Eigen/src/CholmodSupport/CholmodSupport.h\n",
            "-- Installing: /usr/local/include/eigen3/Eigen/src/Core/Array.h\n",
            "-- Installing: /usr/local/include/eigen3/Eigen/src/Core/ArrayBase.h\n",
            "-- Installing: /usr/local/include/eigen3/Eigen/src/Core/ArrayWrapper.h\n",
            "-- Installing: /usr/local/include/eigen3/Eigen/src/Core/Assign.h\n",
            "-- Installing: /usr/local/include/eigen3/Eigen/src/Core/Assign_MKL.h\n",
            "-- Installing: /usr/local/include/eigen3/Eigen/src/Core/BandMatrix.h\n",
            "-- Installing: /usr/local/include/eigen3/Eigen/src/Core/Block.h\n",
            "-- Installing: /usr/local/include/eigen3/Eigen/src/Core/BooleanRedux.h\n",
            "-- Installing: /usr/local/include/eigen3/Eigen/src/Core/CommaInitializer.h\n",
            "-- Installing: /usr/local/include/eigen3/Eigen/src/Core/CoreIterators.h\n",
            "-- Installing: /usr/local/include/eigen3/Eigen/src/Core/CwiseBinaryOp.h\n",
            "-- Installing: /usr/local/include/eigen3/Eigen/src/Core/CwiseNullaryOp.h\n",
            "-- Installing: /usr/local/include/eigen3/Eigen/src/Core/CwiseUnaryOp.h\n",
            "-- Installing: /usr/local/include/eigen3/Eigen/src/Core/CwiseUnaryView.h\n",
            "-- Installing: /usr/local/include/eigen3/Eigen/src/Core/DenseBase.h\n",
            "-- Installing: /usr/local/include/eigen3/Eigen/src/Core/DenseCoeffsBase.h\n",
            "-- Installing: /usr/local/include/eigen3/Eigen/src/Core/DenseStorage.h\n",
            "-- Installing: /usr/local/include/eigen3/Eigen/src/Core/Diagonal.h\n",
            "-- Installing: /usr/local/include/eigen3/Eigen/src/Core/DiagonalMatrix.h\n",
            "-- Installing: /usr/local/include/eigen3/Eigen/src/Core/DiagonalProduct.h\n",
            "-- Installing: /usr/local/include/eigen3/Eigen/src/Core/Dot.h\n",
            "-- Installing: /usr/local/include/eigen3/Eigen/src/Core/EigenBase.h\n",
            "-- Installing: /usr/local/include/eigen3/Eigen/src/Core/Flagged.h\n",
            "-- Installing: /usr/local/include/eigen3/Eigen/src/Core/ForceAlignedAccess.h\n",
            "-- Installing: /usr/local/include/eigen3/Eigen/src/Core/Functors.h\n",
            "-- Installing: /usr/local/include/eigen3/Eigen/src/Core/Fuzzy.h\n",
            "-- Installing: /usr/local/include/eigen3/Eigen/src/Core/GeneralProduct.h\n",
            "-- Installing: /usr/local/include/eigen3/Eigen/src/Core/GenericPacketMath.h\n",
            "-- Installing: /usr/local/include/eigen3/Eigen/src/Core/GlobalFunctions.h\n",
            "-- Installing: /usr/local/include/eigen3/Eigen/src/Core/IO.h\n",
            "-- Installing: /usr/local/include/eigen3/Eigen/src/Core/Map.h\n",
            "-- Installing: /usr/local/include/eigen3/Eigen/src/Core/MapBase.h\n",
            "-- Installing: /usr/local/include/eigen3/Eigen/src/Core/MathFunctions.h\n",
            "-- Installing: /usr/local/include/eigen3/Eigen/src/Core/Matrix.h\n",
            "-- Installing: /usr/local/include/eigen3/Eigen/src/Core/MatrixBase.h\n",
            "-- Installing: /usr/local/include/eigen3/Eigen/src/Core/NestByValue.h\n",
            "-- Installing: /usr/local/include/eigen3/Eigen/src/Core/NoAlias.h\n",
            "-- Installing: /usr/local/include/eigen3/Eigen/src/Core/NumTraits.h\n",
            "-- Installing: /usr/local/include/eigen3/Eigen/src/Core/PermutationMatrix.h\n",
            "-- Installing: /usr/local/include/eigen3/Eigen/src/Core/PlainObjectBase.h\n",
            "-- Installing: /usr/local/include/eigen3/Eigen/src/Core/ProductBase.h\n",
            "-- Installing: /usr/local/include/eigen3/Eigen/src/Core/Random.h\n",
            "-- Installing: /usr/local/include/eigen3/Eigen/src/Core/Redux.h\n",
            "-- Installing: /usr/local/include/eigen3/Eigen/src/Core/Ref.h\n",
            "-- Installing: /usr/local/include/eigen3/Eigen/src/Core/Replicate.h\n",
            "-- Installing: /usr/local/include/eigen3/Eigen/src/Core/ReturnByValue.h\n",
            "-- Installing: /usr/local/include/eigen3/Eigen/src/Core/Reverse.h\n",
            "-- Installing: /usr/local/include/eigen3/Eigen/src/Core/Select.h\n",
            "-- Installing: /usr/local/include/eigen3/Eigen/src/Core/SelfAdjointView.h\n",
            "-- Installing: /usr/local/include/eigen3/Eigen/src/Core/SelfCwiseBinaryOp.h\n",
            "-- Installing: /usr/local/include/eigen3/Eigen/src/Core/SolveTriangular.h\n",
            "-- Installing: /usr/local/include/eigen3/Eigen/src/Core/StableNorm.h\n",
            "-- Installing: /usr/local/include/eigen3/Eigen/src/Core/Stride.h\n",
            "-- Installing: /usr/local/include/eigen3/Eigen/src/Core/Swap.h\n",
            "-- Installing: /usr/local/include/eigen3/Eigen/src/Core/Transpose.h\n",
            "-- Installing: /usr/local/include/eigen3/Eigen/src/Core/Transpositions.h\n",
            "-- Installing: /usr/local/include/eigen3/Eigen/src/Core/TriangularMatrix.h\n",
            "-- Installing: /usr/local/include/eigen3/Eigen/src/Core/VectorBlock.h\n",
            "-- Installing: /usr/local/include/eigen3/Eigen/src/Core/VectorwiseOp.h\n",
            "-- Installing: /usr/local/include/eigen3/Eigen/src/Core/Visitor.h\n",
            "-- Installing: /usr/local/include/eigen3/Eigen/src/Core/products/CoeffBasedProduct.h\n",
            "-- Installing: /usr/local/include/eigen3/Eigen/src/Core/products/GeneralBlockPanelKernel.h\n",
            "-- Installing: /usr/local/include/eigen3/Eigen/src/Core/products/GeneralMatrixMatrix.h\n",
            "-- Installing: /usr/local/include/eigen3/Eigen/src/Core/products/GeneralMatrixMatrixTriangular.h\n",
            "-- Installing: /usr/local/include/eigen3/Eigen/src/Core/products/GeneralMatrixMatrixTriangular_MKL.h\n",
            "-- Installing: /usr/local/include/eigen3/Eigen/src/Core/products/GeneralMatrixMatrix_MKL.h\n",
            "-- Installing: /usr/local/include/eigen3/Eigen/src/Core/products/GeneralMatrixVector.h\n",
            "-- Installing: /usr/local/include/eigen3/Eigen/src/Core/products/GeneralMatrixVector_MKL.h\n",
            "-- Installing: /usr/local/include/eigen3/Eigen/src/Core/products/Parallelizer.h\n",
            "-- Installing: /usr/local/include/eigen3/Eigen/src/Core/products/SelfadjointMatrixMatrix.h\n",
            "-- Installing: /usr/local/include/eigen3/Eigen/src/Core/products/SelfadjointMatrixMatrix_MKL.h\n",
            "-- Installing: /usr/local/include/eigen3/Eigen/src/Core/products/SelfadjointMatrixVector.h\n",
            "-- Installing: /usr/local/include/eigen3/Eigen/src/Core/products/SelfadjointMatrixVector_MKL.h\n",
            "-- Installing: /usr/local/include/eigen3/Eigen/src/Core/products/SelfadjointProduct.h\n",
            "-- Installing: /usr/local/include/eigen3/Eigen/src/Core/products/SelfadjointRank2Update.h\n",
            "-- Installing: /usr/local/include/eigen3/Eigen/src/Core/products/TriangularMatrixMatrix.h\n",
            "-- Installing: /usr/local/include/eigen3/Eigen/src/Core/products/TriangularMatrixMatrix_MKL.h\n",
            "-- Installing: /usr/local/include/eigen3/Eigen/src/Core/products/TriangularMatrixVector.h\n",
            "-- Installing: /usr/local/include/eigen3/Eigen/src/Core/products/TriangularMatrixVector_MKL.h\n",
            "-- Installing: /usr/local/include/eigen3/Eigen/src/Core/products/TriangularSolverMatrix.h\n",
            "-- Installing: /usr/local/include/eigen3/Eigen/src/Core/products/TriangularSolverMatrix_MKL.h\n",
            "-- Installing: /usr/local/include/eigen3/Eigen/src/Core/products/TriangularSolverVector.h\n",
            "-- Installing: /usr/local/include/eigen3/Eigen/src/Core/util/BlasUtil.h\n",
            "-- Installing: /usr/local/include/eigen3/Eigen/src/Core/util/Constants.h\n",
            "-- Installing: /usr/local/include/eigen3/Eigen/src/Core/util/DisableStupidWarnings.h\n",
            "-- Installing: /usr/local/include/eigen3/Eigen/src/Core/util/ForwardDeclarations.h\n",
            "-- Installing: /usr/local/include/eigen3/Eigen/src/Core/util/MKL_support.h\n",
            "-- Installing: /usr/local/include/eigen3/Eigen/src/Core/util/Macros.h\n",
            "-- Installing: /usr/local/include/eigen3/Eigen/src/Core/util/Memory.h\n",
            "-- Installing: /usr/local/include/eigen3/Eigen/src/Core/util/Meta.h\n",
            "-- Installing: /usr/local/include/eigen3/Eigen/src/Core/util/NonMPL2.h\n",
            "-- Installing: /usr/local/include/eigen3/Eigen/src/Core/util/ReenableStupidWarnings.h\n",
            "-- Installing: /usr/local/include/eigen3/Eigen/src/Core/util/StaticAssert.h\n",
            "-- Installing: /usr/local/include/eigen3/Eigen/src/Core/util/XprHelper.h\n",
            "-- Installing: /usr/local/include/eigen3/Eigen/src/Core/arch/SSE/Complex.h\n",
            "-- Installing: /usr/local/include/eigen3/Eigen/src/Core/arch/SSE/MathFunctions.h\n",
            "-- Installing: /usr/local/include/eigen3/Eigen/src/Core/arch/SSE/PacketMath.h\n",
            "-- Installing: /usr/local/include/eigen3/Eigen/src/Core/arch/AltiVec/Complex.h\n",
            "-- Installing: /usr/local/include/eigen3/Eigen/src/Core/arch/AltiVec/PacketMath.h\n",
            "-- Installing: /usr/local/include/eigen3/Eigen/src/Core/arch/NEON/Complex.h\n",
            "-- Installing: /usr/local/include/eigen3/Eigen/src/Core/arch/NEON/PacketMath.h\n",
            "-- Installing: /usr/local/include/eigen3/Eigen/src/Core/arch/Default/Settings.h\n",
            "-- Installing: /usr/local/include/eigen3/Eigen/src/Eigen2Support/Block.h\n",
            "-- Installing: /usr/local/include/eigen3/Eigen/src/Eigen2Support/Cwise.h\n",
            "-- Installing: /usr/local/include/eigen3/Eigen/src/Eigen2Support/CwiseOperators.h\n",
            "-- Installing: /usr/local/include/eigen3/Eigen/src/Eigen2Support/LU.h\n",
            "-- Installing: /usr/local/include/eigen3/Eigen/src/Eigen2Support/Lazy.h\n",
            "-- Installing: /usr/local/include/eigen3/Eigen/src/Eigen2Support/LeastSquares.h\n",
            "-- Installing: /usr/local/include/eigen3/Eigen/src/Eigen2Support/Macros.h\n",
            "-- Installing: /usr/local/include/eigen3/Eigen/src/Eigen2Support/MathFunctions.h\n",
            "-- Installing: /usr/local/include/eigen3/Eigen/src/Eigen2Support/Memory.h\n",
            "-- Installing: /usr/local/include/eigen3/Eigen/src/Eigen2Support/Meta.h\n",
            "-- Installing: /usr/local/include/eigen3/Eigen/src/Eigen2Support/Minor.h\n",
            "-- Installing: /usr/local/include/eigen3/Eigen/src/Eigen2Support/QR.h\n",
            "-- Installing: /usr/local/include/eigen3/Eigen/src/Eigen2Support/SVD.h\n",
            "-- Installing: /usr/local/include/eigen3/Eigen/src/Eigen2Support/TriangularSolver.h\n",
            "-- Installing: /usr/local/include/eigen3/Eigen/src/Eigen2Support/VectorBlock.h\n",
            "-- Installing: /usr/local/include/eigen3/Eigen/src/Eigen2Support/Geometry/AlignedBox.h\n",
            "-- Installing: /usr/local/include/eigen3/Eigen/src/Eigen2Support/Geometry/All.h\n",
            "-- Installing: /usr/local/include/eigen3/Eigen/src/Eigen2Support/Geometry/AngleAxis.h\n",
            "-- Installing: /usr/local/include/eigen3/Eigen/src/Eigen2Support/Geometry/Hyperplane.h\n",
            "-- Installing: /usr/local/include/eigen3/Eigen/src/Eigen2Support/Geometry/ParametrizedLine.h\n",
            "-- Installing: /usr/local/include/eigen3/Eigen/src/Eigen2Support/Geometry/Quaternion.h\n",
            "-- Installing: /usr/local/include/eigen3/Eigen/src/Eigen2Support/Geometry/Rotation2D.h\n",
            "-- Installing: /usr/local/include/eigen3/Eigen/src/Eigen2Support/Geometry/RotationBase.h\n",
            "-- Installing: /usr/local/include/eigen3/Eigen/src/Eigen2Support/Geometry/Scaling.h\n",
            "-- Installing: /usr/local/include/eigen3/Eigen/src/Eigen2Support/Geometry/Transform.h\n",
            "-- Installing: /usr/local/include/eigen3/Eigen/src/Eigen2Support/Geometry/Translation.h\n",
            "-- Installing: /usr/local/include/eigen3/Eigen/src/Eigenvalues/ComplexEigenSolver.h\n",
            "-- Installing: /usr/local/include/eigen3/Eigen/src/Eigenvalues/ComplexSchur.h\n",
            "-- Installing: /usr/local/include/eigen3/Eigen/src/Eigenvalues/ComplexSchur_MKL.h\n",
            "-- Installing: /usr/local/include/eigen3/Eigen/src/Eigenvalues/EigenSolver.h\n",
            "-- Installing: /usr/local/include/eigen3/Eigen/src/Eigenvalues/GeneralizedEigenSolver.h\n",
            "-- Installing: /usr/local/include/eigen3/Eigen/src/Eigenvalues/GeneralizedSelfAdjointEigenSolver.h\n",
            "-- Installing: /usr/local/include/eigen3/Eigen/src/Eigenvalues/HessenbergDecomposition.h\n",
            "-- Installing: /usr/local/include/eigen3/Eigen/src/Eigenvalues/MatrixBaseEigenvalues.h\n",
            "-- Installing: /usr/local/include/eigen3/Eigen/src/Eigenvalues/RealQZ.h\n",
            "-- Installing: /usr/local/include/eigen3/Eigen/src/Eigenvalues/RealSchur.h\n",
            "-- Installing: /usr/local/include/eigen3/Eigen/src/Eigenvalues/RealSchur_MKL.h\n",
            "-- Installing: /usr/local/include/eigen3/Eigen/src/Eigenvalues/SelfAdjointEigenSolver.h\n",
            "-- Installing: /usr/local/include/eigen3/Eigen/src/Eigenvalues/SelfAdjointEigenSolver_MKL.h\n",
            "-- Installing: /usr/local/include/eigen3/Eigen/src/Eigenvalues/Tridiagonalization.h\n",
            "-- Installing: /usr/local/include/eigen3/Eigen/src/Geometry/AlignedBox.h\n",
            "-- Installing: /usr/local/include/eigen3/Eigen/src/Geometry/AngleAxis.h\n",
            "-- Installing: /usr/local/include/eigen3/Eigen/src/Geometry/EulerAngles.h\n",
            "-- Installing: /usr/local/include/eigen3/Eigen/src/Geometry/Homogeneous.h\n",
            "-- Installing: /usr/local/include/eigen3/Eigen/src/Geometry/Hyperplane.h\n",
            "-- Installing: /usr/local/include/eigen3/Eigen/src/Geometry/OrthoMethods.h\n",
            "-- Installing: /usr/local/include/eigen3/Eigen/src/Geometry/ParametrizedLine.h\n",
            "-- Installing: /usr/local/include/eigen3/Eigen/src/Geometry/Quaternion.h\n",
            "-- Installing: /usr/local/include/eigen3/Eigen/src/Geometry/Rotation2D.h\n",
            "-- Installing: /usr/local/include/eigen3/Eigen/src/Geometry/RotationBase.h\n",
            "-- Installing: /usr/local/include/eigen3/Eigen/src/Geometry/Scaling.h\n",
            "-- Installing: /usr/local/include/eigen3/Eigen/src/Geometry/Transform.h\n",
            "-- Installing: /usr/local/include/eigen3/Eigen/src/Geometry/Translation.h\n",
            "-- Installing: /usr/local/include/eigen3/Eigen/src/Geometry/Umeyama.h\n",
            "-- Installing: /usr/local/include/eigen3/Eigen/src/Geometry/arch/Geometry_SSE.h\n",
            "-- Installing: /usr/local/include/eigen3/Eigen/src/Householder/BlockHouseholder.h\n",
            "-- Installing: /usr/local/include/eigen3/Eigen/src/Householder/Householder.h\n",
            "-- Installing: /usr/local/include/eigen3/Eigen/src/Householder/HouseholderSequence.h\n",
            "-- Installing: /usr/local/include/eigen3/Eigen/src/IterativeLinearSolvers/BasicPreconditioners.h\n",
            "-- Installing: /usr/local/include/eigen3/Eigen/src/IterativeLinearSolvers/BiCGSTAB.h\n",
            "-- Installing: /usr/local/include/eigen3/Eigen/src/IterativeLinearSolvers/ConjugateGradient.h\n",
            "-- Installing: /usr/local/include/eigen3/Eigen/src/IterativeLinearSolvers/IncompleteLUT.h\n",
            "-- Installing: /usr/local/include/eigen3/Eigen/src/IterativeLinearSolvers/IterativeSolverBase.h\n",
            "-- Installing: /usr/local/include/eigen3/Eigen/src/Jacobi/Jacobi.h\n",
            "-- Installing: /usr/local/include/eigen3/Eigen/src/LU/Determinant.h\n",
            "-- Installing: /usr/local/include/eigen3/Eigen/src/LU/FullPivLU.h\n",
            "-- Installing: /usr/local/include/eigen3/Eigen/src/LU/Inverse.h\n",
            "-- Installing: /usr/local/include/eigen3/Eigen/src/LU/PartialPivLU.h\n",
            "-- Installing: /usr/local/include/eigen3/Eigen/src/LU/PartialPivLU_MKL.h\n",
            "-- Installing: /usr/local/include/eigen3/Eigen/src/LU/arch/Inverse_SSE.h\n",
            "-- Installing: /usr/local/include/eigen3/Eigen/src/MetisSupport/MetisSupport.h\n",
            "-- Installing: /usr/local/include/eigen3/Eigen/src/OrderingMethods/Amd.h\n",
            "-- Installing: /usr/local/include/eigen3/Eigen/src/OrderingMethods/Eigen_Colamd.h\n",
            "-- Installing: /usr/local/include/eigen3/Eigen/src/OrderingMethods/Ordering.h\n",
            "-- Installing: /usr/local/include/eigen3/Eigen/src/PaStiXSupport/PaStiXSupport.h\n",
            "-- Installing: /usr/local/include/eigen3/Eigen/src/PardisoSupport/PardisoSupport.h\n",
            "-- Installing: /usr/local/include/eigen3/Eigen/src/QR/ColPivHouseholderQR.h\n",
            "-- Installing: /usr/local/include/eigen3/Eigen/src/QR/ColPivHouseholderQR_MKL.h\n",
            "-- Installing: /usr/local/include/eigen3/Eigen/src/QR/FullPivHouseholderQR.h\n",
            "-- Installing: /usr/local/include/eigen3/Eigen/src/QR/HouseholderQR.h\n",
            "-- Installing: /usr/local/include/eigen3/Eigen/src/QR/HouseholderQR_MKL.h\n",
            "-- Installing: /usr/local/include/eigen3/Eigen/src/SPQRSupport/SuiteSparseQRSupport.h\n",
            "-- Installing: /usr/local/include/eigen3/Eigen/src/SVD/JacobiSVD.h\n",
            "-- Installing: /usr/local/include/eigen3/Eigen/src/SVD/JacobiSVD_MKL.h\n",
            "-- Installing: /usr/local/include/eigen3/Eigen/src/SVD/UpperBidiagonalization.h\n",
            "-- Installing: /usr/local/include/eigen3/Eigen/src/SparseCholesky/SimplicialCholesky.h\n",
            "-- Installing: /usr/local/include/eigen3/Eigen/src/SparseCholesky/SimplicialCholesky_impl.h\n",
            "-- Installing: /usr/local/include/eigen3/Eigen/src/SparseCore/AmbiVector.h\n",
            "-- Installing: /usr/local/include/eigen3/Eigen/src/SparseCore/CompressedStorage.h\n",
            "-- Installing: /usr/local/include/eigen3/Eigen/src/SparseCore/ConservativeSparseSparseProduct.h\n",
            "-- Installing: /usr/local/include/eigen3/Eigen/src/SparseCore/MappedSparseMatrix.h\n",
            "-- Installing: /usr/local/include/eigen3/Eigen/src/SparseCore/SparseBlock.h\n",
            "-- Installing: /usr/local/include/eigen3/Eigen/src/SparseCore/SparseColEtree.h\n",
            "-- Installing: /usr/local/include/eigen3/Eigen/src/SparseCore/SparseCwiseBinaryOp.h\n",
            "-- Installing: /usr/local/include/eigen3/Eigen/src/SparseCore/SparseCwiseUnaryOp.h\n",
            "-- Installing: /usr/local/include/eigen3/Eigen/src/SparseCore/SparseDenseProduct.h\n",
            "-- Installing: /usr/local/include/eigen3/Eigen/src/SparseCore/SparseDiagonalProduct.h\n",
            "-- Installing: /usr/local/include/eigen3/Eigen/src/SparseCore/SparseDot.h\n",
            "-- Installing: /usr/local/include/eigen3/Eigen/src/SparseCore/SparseFuzzy.h\n",
            "-- Installing: /usr/local/include/eigen3/Eigen/src/SparseCore/SparseMatrix.h\n",
            "-- Installing: /usr/local/include/eigen3/Eigen/src/SparseCore/SparseMatrixBase.h\n",
            "-- Installing: /usr/local/include/eigen3/Eigen/src/SparseCore/SparsePermutation.h\n",
            "-- Installing: /usr/local/include/eigen3/Eigen/src/SparseCore/SparseProduct.h\n",
            "-- Installing: /usr/local/include/eigen3/Eigen/src/SparseCore/SparseRedux.h\n",
            "-- Installing: /usr/local/include/eigen3/Eigen/src/SparseCore/SparseSelfAdjointView.h\n",
            "-- Installing: /usr/local/include/eigen3/Eigen/src/SparseCore/SparseSparseProductWithPruning.h\n",
            "-- Installing: /usr/local/include/eigen3/Eigen/src/SparseCore/SparseTranspose.h\n",
            "-- Installing: /usr/local/include/eigen3/Eigen/src/SparseCore/SparseTriangularView.h\n",
            "-- Installing: /usr/local/include/eigen3/Eigen/src/SparseCore/SparseUtil.h\n",
            "-- Installing: /usr/local/include/eigen3/Eigen/src/SparseCore/SparseVector.h\n",
            "-- Installing: /usr/local/include/eigen3/Eigen/src/SparseCore/SparseView.h\n",
            "-- Installing: /usr/local/include/eigen3/Eigen/src/SparseCore/TriangularSolver.h\n",
            "-- Installing: /usr/local/include/eigen3/Eigen/src/SparseLU/SparseLU.h\n",
            "-- Installing: /usr/local/include/eigen3/Eigen/src/SparseLU/SparseLUImpl.h\n",
            "-- Installing: /usr/local/include/eigen3/Eigen/src/SparseLU/SparseLU_Memory.h\n",
            "-- Installing: /usr/local/include/eigen3/Eigen/src/SparseLU/SparseLU_Structs.h\n",
            "-- Installing: /usr/local/include/eigen3/Eigen/src/SparseLU/SparseLU_SupernodalMatrix.h\n",
            "-- Installing: /usr/local/include/eigen3/Eigen/src/SparseLU/SparseLU_Utils.h\n",
            "-- Installing: /usr/local/include/eigen3/Eigen/src/SparseLU/SparseLU_column_bmod.h\n",
            "-- Installing: /usr/local/include/eigen3/Eigen/src/SparseLU/SparseLU_column_dfs.h\n",
            "-- Installing: /usr/local/include/eigen3/Eigen/src/SparseLU/SparseLU_copy_to_ucol.h\n",
            "-- Installing: /usr/local/include/eigen3/Eigen/src/SparseLU/SparseLU_gemm_kernel.h\n",
            "-- Installing: /usr/local/include/eigen3/Eigen/src/SparseLU/SparseLU_heap_relax_snode.h\n",
            "-- Installing: /usr/local/include/eigen3/Eigen/src/SparseLU/SparseLU_kernel_bmod.h\n",
            "-- Installing: /usr/local/include/eigen3/Eigen/src/SparseLU/SparseLU_panel_bmod.h\n",
            "-- Installing: /usr/local/include/eigen3/Eigen/src/SparseLU/SparseLU_panel_dfs.h\n",
            "-- Installing: /usr/local/include/eigen3/Eigen/src/SparseLU/SparseLU_pivotL.h\n",
            "-- Installing: /usr/local/include/eigen3/Eigen/src/SparseLU/SparseLU_pruneL.h\n",
            "-- Installing: /usr/local/include/eigen3/Eigen/src/SparseLU/SparseLU_relax_snode.h\n",
            "-- Installing: /usr/local/include/eigen3/Eigen/src/SparseQR/SparseQR.h\n",
            "-- Installing: /usr/local/include/eigen3/Eigen/src/StlSupport/StdDeque.h\n",
            "-- Installing: /usr/local/include/eigen3/Eigen/src/StlSupport/StdList.h\n",
            "-- Installing: /usr/local/include/eigen3/Eigen/src/StlSupport/StdVector.h\n",
            "-- Installing: /usr/local/include/eigen3/Eigen/src/StlSupport/details.h\n",
            "-- Installing: /usr/local/include/eigen3/Eigen/src/SuperLUSupport/SuperLUSupport.h\n",
            "-- Installing: /usr/local/include/eigen3/Eigen/src/UmfPackSupport/UmfPackSupport.h\n",
            "-- Installing: /usr/local/include/eigen3/Eigen/src/misc/Image.h\n",
            "-- Installing: /usr/local/include/eigen3/Eigen/src/misc/Kernel.h\n",
            "-- Installing: /usr/local/include/eigen3/Eigen/src/misc/Solve.h\n",
            "-- Installing: /usr/local/include/eigen3/Eigen/src/misc/SparseSolve.h\n",
            "-- Installing: /usr/local/include/eigen3/Eigen/src/misc/blas.h\n",
            "-- Installing: /usr/local/include/eigen3/Eigen/src/plugins/ArrayCwiseBinaryOps.h\n",
            "-- Installing: /usr/local/include/eigen3/Eigen/src/plugins/ArrayCwiseUnaryOps.h\n",
            "-- Installing: /usr/local/include/eigen3/Eigen/src/plugins/BlockMethods.h\n",
            "-- Installing: /usr/local/include/eigen3/Eigen/src/plugins/CommonCwiseBinaryOps.h\n",
            "-- Installing: /usr/local/include/eigen3/Eigen/src/plugins/CommonCwiseUnaryOps.h\n",
            "-- Installing: /usr/local/include/eigen3/Eigen/src/plugins/MatrixCwiseBinaryOps.h\n",
            "-- Installing: /usr/local/include/eigen3/Eigen/src/plugins/MatrixCwiseUnaryOps.h\n",
            "-- Installing: /usr/local/include/eigen3/unsupported/Eigen/AdolcForward\n",
            "-- Installing: /usr/local/include/eigen3/unsupported/Eigen/AlignedVector3\n",
            "-- Installing: /usr/local/include/eigen3/unsupported/Eigen/ArpackSupport\n",
            "-- Installing: /usr/local/include/eigen3/unsupported/Eigen/AutoDiff\n",
            "-- Installing: /usr/local/include/eigen3/unsupported/Eigen/BVH\n",
            "-- Installing: /usr/local/include/eigen3/unsupported/Eigen/FFT\n",
            "-- Installing: /usr/local/include/eigen3/unsupported/Eigen/IterativeSolvers\n",
            "-- Installing: /usr/local/include/eigen3/unsupported/Eigen/KroneckerProduct\n",
            "-- Installing: /usr/local/include/eigen3/unsupported/Eigen/LevenbergMarquardt\n",
            "-- Installing: /usr/local/include/eigen3/unsupported/Eigen/MatrixFunctions\n",
            "-- Installing: /usr/local/include/eigen3/unsupported/Eigen/MoreVectorization\n",
            "-- Installing: /usr/local/include/eigen3/unsupported/Eigen/MPRealSupport\n",
            "-- Installing: /usr/local/include/eigen3/unsupported/Eigen/NonLinearOptimization\n",
            "-- Installing: /usr/local/include/eigen3/unsupported/Eigen/NumericalDiff\n",
            "-- Installing: /usr/local/include/eigen3/unsupported/Eigen/OpenGLSupport\n",
            "-- Installing: /usr/local/include/eigen3/unsupported/Eigen/Polynomials\n",
            "-- Installing: /usr/local/include/eigen3/unsupported/Eigen/Skyline\n",
            "-- Installing: /usr/local/include/eigen3/unsupported/Eigen/SparseExtra\n",
            "-- Installing: /usr/local/include/eigen3/unsupported/Eigen/Splines\n",
            "-- Installing: /usr/local/include/eigen3/unsupported/Eigen/src/AutoDiff/AutoDiffJacobian.h\n",
            "-- Installing: /usr/local/include/eigen3/unsupported/Eigen/src/AutoDiff/AutoDiffScalar.h\n",
            "-- Installing: /usr/local/include/eigen3/unsupported/Eigen/src/AutoDiff/AutoDiffVector.h\n",
            "-- Installing: /usr/local/include/eigen3/unsupported/Eigen/src/BVH/BVAlgorithms.h\n",
            "-- Installing: /usr/local/include/eigen3/unsupported/Eigen/src/BVH/KdBVH.h\n",
            "-- Installing: /usr/local/include/eigen3/unsupported/Eigen/src/Eigenvalues/ArpackSelfAdjointEigenSolver.h\n",
            "-- Installing: /usr/local/include/eigen3/unsupported/Eigen/src/FFT/ei_fftw_impl.h\n",
            "-- Installing: /usr/local/include/eigen3/unsupported/Eigen/src/FFT/ei_kissfft_impl.h\n",
            "-- Installing: /usr/local/include/eigen3/unsupported/Eigen/src/IterativeSolvers/ConstrainedConjGrad.h\n",
            "-- Installing: /usr/local/include/eigen3/unsupported/Eigen/src/IterativeSolvers/DGMRES.h\n",
            "-- Installing: /usr/local/include/eigen3/unsupported/Eigen/src/IterativeSolvers/GMRES.h\n",
            "-- Installing: /usr/local/include/eigen3/unsupported/Eigen/src/IterativeSolvers/IncompleteCholesky.h\n",
            "-- Installing: /usr/local/include/eigen3/unsupported/Eigen/src/IterativeSolvers/IncompleteLU.h\n",
            "-- Installing: /usr/local/include/eigen3/unsupported/Eigen/src/IterativeSolvers/IterationController.h\n",
            "-- Installing: /usr/local/include/eigen3/unsupported/Eigen/src/IterativeSolvers/MINRES.h\n",
            "-- Installing: /usr/local/include/eigen3/unsupported/Eigen/src/IterativeSolvers/Scaling.h\n",
            "-- Installing: /usr/local/include/eigen3/unsupported/Eigen/src/KroneckerProduct/KroneckerTensorProduct.h\n",
            "-- Installing: /usr/local/include/eigen3/unsupported/Eigen/src/LevenbergMarquardt/LMcovar.h\n",
            "-- Installing: /usr/local/include/eigen3/unsupported/Eigen/src/LevenbergMarquardt/LMonestep.h\n",
            "-- Installing: /usr/local/include/eigen3/unsupported/Eigen/src/LevenbergMarquardt/LMpar.h\n",
            "-- Installing: /usr/local/include/eigen3/unsupported/Eigen/src/LevenbergMarquardt/LMqrsolv.h\n",
            "-- Installing: /usr/local/include/eigen3/unsupported/Eigen/src/LevenbergMarquardt/LevenbergMarquardt.h\n",
            "-- Installing: /usr/local/include/eigen3/unsupported/Eigen/src/MatrixFunctions/MatrixExponential.h\n",
            "-- Installing: /usr/local/include/eigen3/unsupported/Eigen/src/MatrixFunctions/MatrixFunction.h\n",
            "-- Installing: /usr/local/include/eigen3/unsupported/Eigen/src/MatrixFunctions/MatrixFunctionAtomic.h\n",
            "-- Installing: /usr/local/include/eigen3/unsupported/Eigen/src/MatrixFunctions/MatrixLogarithm.h\n",
            "-- Installing: /usr/local/include/eigen3/unsupported/Eigen/src/MatrixFunctions/MatrixPower.h\n",
            "-- Installing: /usr/local/include/eigen3/unsupported/Eigen/src/MatrixFunctions/MatrixSquareRoot.h\n",
            "-- Installing: /usr/local/include/eigen3/unsupported/Eigen/src/MatrixFunctions/StemFunction.h\n",
            "-- Installing: /usr/local/include/eigen3/unsupported/Eigen/src/MoreVectorization/MathFunctions.h\n",
            "-- Installing: /usr/local/include/eigen3/unsupported/Eigen/src/NonLinearOptimization/HybridNonLinearSolver.h\n",
            "-- Installing: /usr/local/include/eigen3/unsupported/Eigen/src/NonLinearOptimization/LevenbergMarquardt.h\n",
            "-- Installing: /usr/local/include/eigen3/unsupported/Eigen/src/NonLinearOptimization/chkder.h\n",
            "-- Installing: /usr/local/include/eigen3/unsupported/Eigen/src/NonLinearOptimization/covar.h\n",
            "-- Installing: /usr/local/include/eigen3/unsupported/Eigen/src/NonLinearOptimization/dogleg.h\n",
            "-- Installing: /usr/local/include/eigen3/unsupported/Eigen/src/NonLinearOptimization/fdjac1.h\n",
            "-- Installing: /usr/local/include/eigen3/unsupported/Eigen/src/NonLinearOptimization/lmpar.h\n",
            "-- Installing: /usr/local/include/eigen3/unsupported/Eigen/src/NonLinearOptimization/qrsolv.h\n",
            "-- Installing: /usr/local/include/eigen3/unsupported/Eigen/src/NonLinearOptimization/r1mpyq.h\n",
            "-- Installing: /usr/local/include/eigen3/unsupported/Eigen/src/NonLinearOptimization/r1updt.h\n",
            "-- Installing: /usr/local/include/eigen3/unsupported/Eigen/src/NonLinearOptimization/rwupdt.h\n",
            "-- Installing: /usr/local/include/eigen3/unsupported/Eigen/src/NumericalDiff/NumericalDiff.h\n",
            "-- Installing: /usr/local/include/eigen3/unsupported/Eigen/src/Polynomials/Companion.h\n",
            "-- Installing: /usr/local/include/eigen3/unsupported/Eigen/src/Polynomials/PolynomialSolver.h\n",
            "-- Installing: /usr/local/include/eigen3/unsupported/Eigen/src/Polynomials/PolynomialUtils.h\n",
            "-- Installing: /usr/local/include/eigen3/unsupported/Eigen/src/Skyline/SkylineInplaceLU.h\n",
            "-- Installing: /usr/local/include/eigen3/unsupported/Eigen/src/Skyline/SkylineMatrix.h\n",
            "-- Installing: /usr/local/include/eigen3/unsupported/Eigen/src/Skyline/SkylineMatrixBase.h\n",
            "-- Installing: /usr/local/include/eigen3/unsupported/Eigen/src/Skyline/SkylineProduct.h\n",
            "-- Installing: /usr/local/include/eigen3/unsupported/Eigen/src/Skyline/SkylineStorage.h\n",
            "-- Installing: /usr/local/include/eigen3/unsupported/Eigen/src/Skyline/SkylineUtil.h\n",
            "-- Installing: /usr/local/include/eigen3/unsupported/Eigen/src/SparseExtra/BlockOfDynamicSparseMatrix.h\n",
            "-- Installing: /usr/local/include/eigen3/unsupported/Eigen/src/SparseExtra/DynamicSparseMatrix.h\n",
            "-- Installing: /usr/local/include/eigen3/unsupported/Eigen/src/SparseExtra/MarketIO.h\n",
            "-- Installing: /usr/local/include/eigen3/unsupported/Eigen/src/SparseExtra/MatrixMarketIterator.h\n",
            "-- Installing: /usr/local/include/eigen3/unsupported/Eigen/src/SparseExtra/RandomSetter.h\n",
            "-- Installing: /usr/local/include/eigen3/unsupported/Eigen/src/Splines/Spline.h\n",
            "-- Installing: /usr/local/include/eigen3/unsupported/Eigen/src/Splines/SplineFitting.h\n",
            "-- Installing: /usr/local/include/eigen3/unsupported/Eigen/src/Splines/SplineFwd.h\n",
            "/content/drive/My Drive/openmvg\n"
          ],
          "name": "stdout"
        }
      ]
    },
    {
      "cell_type": "code",
      "metadata": {
        "id": "Hu-LMXxOvCZd",
        "colab_type": "code",
        "outputId": "0bac90a8-89f5-4f1b-a4c6-4273413c201c",
        "colab": {
          "base_uri": "https://localhost:8080/",
          "height": 151
        }
      },
      "source": [
        "!sudo apt-get -y install libboost-iostreams-dev libboost-program-options-dev libboost-system-dev libboost-serialization-dev"
      ],
      "execution_count": 0,
      "outputs": [
        {
          "output_type": "stream",
          "text": [
            "Reading package lists... Done\n",
            "Building dependency tree       \n",
            "Reading state information... Done\n",
            "libboost-program-options-dev is already the newest version (1.65.1.0ubuntu1).\n",
            "libboost-system-dev is already the newest version (1.65.1.0ubuntu1).\n",
            "libboost-iostreams-dev is already the newest version (1.65.1.0ubuntu1).\n",
            "libboost-serialization-dev is already the newest version (1.65.1.0ubuntu1).\n",
            "0 upgraded, 0 newly installed, 0 to remove and 25 not upgraded.\n"
          ],
          "name": "stdout"
        }
      ]
    },
    {
      "cell_type": "code",
      "metadata": {
        "id": "jZf2ZoCUvHbC",
        "colab_type": "code",
        "outputId": "dd57109a-12b9-4d15-dd13-2310549a3206",
        "colab": {
          "base_uri": "https://localhost:8080/",
          "height": 101
        }
      },
      "source": [
        "!sudo apt-get -y install libopencv-dev"
      ],
      "execution_count": 0,
      "outputs": [
        {
          "output_type": "stream",
          "text": [
            "Reading package lists... Done\n",
            "Building dependency tree       \n",
            "Reading state information... Done\n",
            "libopencv-dev is already the newest version (3.2.0+dfsg-4ubuntu0.1).\n",
            "0 upgraded, 0 newly installed, 0 to remove and 25 not upgraded.\n"
          ],
          "name": "stdout"
        }
      ]
    },
    {
      "cell_type": "code",
      "metadata": {
        "id": "anVBOE8_vS8m",
        "colab_type": "code",
        "outputId": "0ef7dc5a-a19f-4cf7-f0bd-3716880bbbb9",
        "colab": {
          "base_uri": "https://localhost:8080/",
          "height": 118
        }
      },
      "source": [
        "!sudo apt-get -y install libcgal-dev libcgal-qt5-dev"
      ],
      "execution_count": 0,
      "outputs": [
        {
          "output_type": "stream",
          "text": [
            "Reading package lists... Done\n",
            "Building dependency tree       \n",
            "Reading state information... Done\n",
            "libcgal-dev is already the newest version (4.11-2build1).\n",
            "libcgal-qt5-dev is already the newest version (4.11-2build1).\n",
            "0 upgraded, 0 newly installed, 0 to remove and 25 not upgraded.\n"
          ],
          "name": "stdout"
        }
      ]
    },
    {
      "cell_type": "code",
      "metadata": {
        "id": "KaEm4IikvYrn",
        "colab_type": "code",
        "outputId": "3133fa0c-cd1e-4b8f-e815-c0b11bd17848",
        "colab": {
          "base_uri": "https://localhost:8080/",
          "height": 151
        }
      },
      "source": [
        "!git clone https://github.com/cdcseacave/VCG.git vcglib"
      ],
      "execution_count": 0,
      "outputs": [
        {
          "output_type": "stream",
          "text": [
            "Cloning into 'vcglib'...\n",
            "remote: Enumerating objects: 36673, done.\u001b[K\n",
            "remote: Counting objects: 100% (36673/36673), done.\u001b[K\n",
            "remote: Compressing objects: 100% (12785/12785), done.\u001b[K\n",
            "remote: Total 39069 (delta 24123), reused 35554 (delta 23690), pack-reused 2396\n",
            "Receiving objects: 100% (39069/39069), 17.63 MiB | 4.42 MiB/s, done.\n",
            "Resolving deltas: 100% (25149/25149), done.\n",
            "Checking out files: 100% (1088/1088), done.\n"
          ],
          "name": "stdout"
        }
      ]
    },
    {
      "cell_type": "code",
      "metadata": {
        "id": "rdVND51J00iX",
        "colab_type": "code",
        "outputId": "0f688224-254b-4379-f426-5ecd5d2b1162",
        "colab": {
          "base_uri": "https://localhost:8080/",
          "height": 857
        }
      },
      "source": [
        "!sudo apt-get -y install libatlas-base-dev libsuitesparse-dev\n",
        "!git clone https://ceres-solver.googlesource.com/ceres-solver ceres-solver\n",
        "!mkdir ceres_build \n",
        "% cd ceres_build\n",
        "!cmake . ../ceres-solver/ -DMINIGLOG=ON -DBUILD_TESTING=OFF -DBUILD_EXAMPLES=OFF\n",
        "!make -j2 \n",
        "!sudo make install\n",
        "% cd .."
      ],
      "execution_count": 0,
      "outputs": [
        {
          "output_type": "stream",
          "text": [
            "Reading package lists... Done\n",
            "Building dependency tree       \n",
            "Reading state information... Done\n",
            "libsuitesparse-dev is already the newest version (1:5.1.2-2).\n",
            "libatlas-base-dev is already the newest version (3.10.3-5).\n",
            "0 upgraded, 0 newly installed, 0 to remove and 25 not upgraded.\n",
            "Cloning into 'ceres-solver'...\n",
            "remote: Sending approximately 14.65 MiB ...\u001b[K\n",
            "remote: Counting objects: 29, done\u001b[K\n",
            "remote: Total 14138 (delta 8471), reused 14138 (delta 8471)\u001b[K\n",
            "Receiving objects: 100% (14138/14138), 14.65 MiB | 6.52 MiB/s, done.\n",
            "Resolving deltas: 100% (8471/8471), done.\n",
            "Checking out files: 100% (677/677), done.\n",
            "/content/drive/My Drive/openmvg/ceres_build\n",
            "-- The C compiler identification is GNU 7.5.0\n",
            "-- The CXX compiler identification is GNU 7.5.0\n",
            "-- Check for working C compiler: /usr/bin/cc\n",
            "-- Check for working C compiler: /usr/bin/cc -- works\n",
            "-- Detecting C compiler ABI info\n",
            "-- Detecting C compiler ABI info - done\n",
            "-- Detecting C compile features\n",
            "-- Detecting C compile features - done\n",
            "-- Check for working CXX compiler: /usr/bin/c++\n",
            "-- Check for working CXX compiler: /usr/bin/c++ -- works\n",
            "-- Detecting CXX compiler ABI info\n",
            "-- Detecting CXX compiler ABI info - done\n",
            "-- Detecting CXX compile features\n",
            "-- Detecting CXX compile features - done\n",
            "-- Detected Ceres being used as a git submodule, adding commit hook for Gerrit to: /content/drive/My Drive/openmvg/ceres-solver/.git\n",
            "-- Detected Ceres version: 2.0.0 from /content/drive/My Drive/openmvg/ceres-solver/include/ceres/version.h\n",
            "-- Detected available Ceres threading models: [CXX11_THREADS, OPENMP, NO_THREADS]\n",
            "-- Building with C++11\n",
            "CMake Error at CMakeLists.txt:239 (find_package):\n",
            "  Could not find a package configuration file provided by \"Eigen3\" (requested\n",
            "  version 3.3) with any of the following names:\n",
            "\n",
            "    Eigen3Config.cmake\n",
            "    eigen3-config.cmake\n",
            "\n",
            "  Add the installation prefix of \"Eigen3\" to CMAKE_PREFIX_PATH or set\n",
            "  \"Eigen3_DIR\" to a directory containing one of the above files.  If \"Eigen3\"\n",
            "  provides a separate development package or SDK, be sure it has been\n",
            "  installed.\n",
            "\n",
            "\n",
            "-- Configuring incomplete, errors occurred!\n",
            "See also \"/content/drive/My Drive/openmvg/ceres_build/CMakeFiles/CMakeOutput.log\".\n",
            "make: *** No targets specified and no makefile found.  Stop.\n",
            "make: *** No rule to make target 'install'.  Stop.\n",
            "/content/drive/My Drive/openmvg\n"
          ],
          "name": "stdout"
        }
      ]
    },
    {
      "cell_type": "code",
      "metadata": {
        "id": "gi3OZeqm4c4M",
        "colab_type": "code",
        "outputId": "b4437abf-e2e6-440f-a00e-0d668a98edc0",
        "colab": {
          "base_uri": "https://localhost:8080/",
          "height": 134
        }
      },
      "source": [
        "!sudo apt-get -y install freeglut3-dev libglew-dev libglfw3-dev"
      ],
      "execution_count": 0,
      "outputs": [
        {
          "output_type": "stream",
          "text": [
            "Reading package lists... Done\n",
            "Building dependency tree       \n",
            "Reading state information... Done\n",
            "freeglut3-dev is already the newest version (2.8.1-3).\n",
            "libglew-dev is already the newest version (2.0.0-5).\n",
            "libglfw3-dev is already the newest version (3.2.1-1).\n",
            "0 upgraded, 0 newly installed, 0 to remove and 25 not upgraded.\n"
          ],
          "name": "stdout"
        }
      ]
    },
    {
      "cell_type": "code",
      "metadata": {
        "id": "BeEkXera-sf-",
        "colab_type": "code",
        "outputId": "e2cc2c1d-9c78-4628-f6da-7cf789c4b483",
        "colab": {
          "base_uri": "https://localhost:8080/",
          "height": 504
        }
      },
      "source": [
        "!git clone https://github.com/cdcseacave/openMVS.git openMVS\n",
        "!mkdir openMVS_build \n",
        "% cd openMVS_build\n",
        "!cmake . ../openMVS -DCMAKE_BUILD_TYPE=Release -DVCG_ROOT=\"/content/drive/My Drive/openmvg\" -DBUILD_SHARED_LIBS=ON"
      ],
      "execution_count": 0,
      "outputs": [
        {
          "output_type": "stream",
          "text": [
            "fatal: destination path 'openMVS' already exists and is not an empty directory.\n",
            "mkdir: cannot create directory ‘openMVS_build’: File exists\n",
            "/content/drive/My Drive/openmvg/openMVS_build\n",
            "-- cotire 1.8.0 loaded.\n",
            "-- Detected version of GNU GCC: 75 (705)\n",
            "Compiling with C++14\n",
            "-- WARNING: BREAKPAD was not found: Please specify BREAKPAD directory using BREAKPAD_ROOT env. variable\n",
            "-- Can't find BreakPad. Continuing without it.\n",
            "-- Boost version: 1.65.1\n",
            "-- Found the following Boost libraries:\n",
            "--   iostreams\n",
            "--   program_options\n",
            "--   system\n",
            "--   serialization\n",
            "--   regex\n",
            "-- Eigen 3.2.10 found (include: /usr/local/include/eigen3)\n",
            "-- OpenCV 3.2.0 found (include: /usr/include;/usr/include/opencv)\n",
            "-- CGAL 4.11 found (include: /usr//include)\n",
            "CMake Error at build/Utils.cmake:223 (message):\n",
            "  VCG required, but not found: Please specify VCG directory using VCG_ROOT\n",
            "  env.  variable\n",
            "Call Stack (most recent call first):\n",
            "  build/Modules/FindVCG.cmake:23 (package_report_not_found)\n",
            "  libs/MVS/CMakeLists.txt:9 (FIND_PACKAGE)\n",
            "\n",
            "\n",
            "-- Configuring incomplete, errors occurred!\n",
            "See also \"/content/drive/My Drive/openmvg/openMVS_build/CMakeFiles/CMakeOutput.log\".\n",
            "See also \"/content/drive/My Drive/openmvg/openMVS_build/CMakeFiles/CMakeError.log\".\n"
          ],
          "name": "stdout"
        }
      ]
    }
  ]
}