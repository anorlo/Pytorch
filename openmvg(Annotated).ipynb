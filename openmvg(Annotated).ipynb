{
  "nbformat": 4,
  "nbformat_minor": 0,
  "metadata": {
    "colab": {
      "name": "Untitled8.ipynb",
      "provenance": [],
      "authorship_tag": "ABX9TyPcsm5iwrzkbDCuBpC0+YzQ",
      "include_colab_link": true
    },
    "kernelspec": {
      "name": "python3",
      "display_name": "Python 3"
    },
    "accelerator": "GPU"
  },
  "cells": [
    {
      "cell_type": "markdown",
      "metadata": {
        "id": "view-in-github",
        "colab_type": "text"
      },
      "source": [
        "<a href=\"https://colab.research.google.com/github/anorlo/Pytorch/blob/master/openmvg(Annotated).ipynb\" target=\"_parent\"><img src=\"https://colab.research.google.com/assets/colab-badge.svg\" alt=\"Open In Colab\"/></a>"
      ]
    },
    {
      "cell_type": "code",
      "metadata": {
        "id": "wP5BZxUzmmS3",
        "colab_type": "code",
        "colab": {}
      },
      "source": [
        "from google.colab import drive\n",
        "drive.mount('/content/drive') #connect your google drive"
      ],
      "execution_count": 0,
      "outputs": []
    },
    {
      "cell_type": "code",
      "metadata": {
        "id": "N8twHJTfmWsX",
        "colab_type": "code",
        "colab": {}
      },
      "source": [
        "!sudo apt-get install libpng-dev libjpeg-dev libtiff-dev libxxf86vm1 libxxf86vm-dev libxi-dev libxrandr-dev\n",
        "!sudo apt-get update -qq \n",
        "!sudo apt-get install -qq\n",
        "!sudo apt-get -y install git cmake libpng-dev libjpeg-dev libtiff-dev libglu1-mesa-dev\n",
        "!main_path=\"/content/drive/My Drive/openmvg\"\n",
        "!sudo apt-get -y install libboost-iostreams-dev libboost-program-options-dev libboost-system-dev libboost-serialization-dev\n",
        "!sudo apt-get -y install libopencv-dev\n",
        "!sudo apt-get -y install libcgal-dev libcgal-qt5-dev\n",
        "!sudo apt-get -y install freeglut3-dev libglew-dev libglfw3-dev #configurations"
      ],
      "execution_count": 0,
      "outputs": []
    },
    {
      "cell_type": "code",
      "metadata": {
        "id": "IIy6artin_vm",
        "colab_type": "code",
        "outputId": "5955dd66-a7d6-423f-e5f8-3d893d8ab33d",
        "colab": {
          "base_uri": "https://localhost:8080/",
          "height": 34
        }
      },
      "source": [
        "import os\n",
        "path = \"/content\"\n",
        "\n",
        "os.chdir(path)\n",
        "os.listdir(path)  #change the current content"
      ],
      "execution_count": 0,
      "outputs": [
        {
          "output_type": "execute_result",
          "data": {
            "text/plain": [
              "['.config', 'drive', 'sample_data']"
            ]
          },
          "metadata": {
            "tags": []
          },
          "execution_count": 3
        }
      ]
    },
    {
      "cell_type": "code",
      "metadata": {
        "id": "hm4y72VR9nxy",
        "colab_type": "code",
        "outputId": "f58cdca9-2a15-422e-e284-5d1140d4eae6",
        "colab": {
          "base_uri": "https://localhost:8080/",
          "height": 34
        }
      },
      "source": [
        "! mkdir MyDrive\n",
        "! mount --bind /content/drive/My\\ Drive /content/MyDrive\n",
        "% cd /content/MyDrive/openmvg #change the name of /My Drive to /MyDrive for /My Drive may causing error for its space"
      ],
      "execution_count": 0,
      "outputs": [
        {
          "output_type": "stream",
          "text": [
            "/content/MyDrive/openmvg\n"
          ],
          "name": "stdout"
        }
      ]
    },
    {
      "cell_type": "code",
      "metadata": {
        "id": "UPFTm5QvBigj",
        "colab_type": "code",
        "outputId": "222af86b-6405-4581-a753-5c89cd65ea5f",
        "colab": {
          "base_uri": "https://localhost:8080/",
          "height": 134
        }
      },
      "source": [
        "import os\n",
        "path = \"/content/MyDrive/\"\n",
        "\n",
        "os.chdir(path)\n",
        "os.listdir(path) \n"
      ],
      "execution_count": 0,
      "outputs": [
        {
          "output_type": "execute_result",
          "data": {
            "text/plain": [
              "['Colab Notebooks',\n",
              " 'fast_neural_style',\n",
              " 'Sample upload.txt',\n",
              " 'Fastphotostyle',\n",
              " 'contextdesc',\n",
              " '.ipynb_checkpoints',\n",
              " 'openmvg']"
            ]
          },
          "metadata": {
            "tags": []
          },
          "execution_count": 5
        }
      ]
    },
    {
      "cell_type": "code",
      "metadata": {
        "id": "t5Vogc2rCEJK",
        "colab_type": "code",
        "colab": {}
      },
      "source": [
        "! sudo chmod -R 777 openmvg"
      ],
      "execution_count": 0,
      "outputs": []
    },
    {
      "cell_type": "code",
      "metadata": {
        "id": "2xpKy9mtoSRY",
        "colab_type": "code",
        "colab": {}
      },
      "source": [
        "# !git clone --recursive https://github.com/openMVG/openMVG.git\n",
        "# !mkdir openMVG_Build  #download git codes on your drive"
      ],
      "execution_count": 0,
      "outputs": []
    },
    {
      "cell_type": "code",
      "metadata": {
        "id": "ZAUWyx7Ho1RS",
        "colab_type": "code",
        "outputId": "d27c0fa8-620b-4e25-9809-2f4dd410b20a",
        "colab": {
          "base_uri": "https://localhost:8080/",
          "height": 50
        }
      },
      "source": [
        "% cd openmvg/openMVG_Build\n",
        "!pwd"
      ],
      "execution_count": 0,
      "outputs": [
        {
          "output_type": "stream",
          "text": [
            "/content/MyDrive/openmvg/openMVG_Build\n",
            "/content/MyDrive/openmvg/openMVG_Build\n"
          ],
          "name": "stdout"
        }
      ]
    },
    {
      "cell_type": "code",
      "metadata": {
        "id": "G-2vk5luqPsr",
        "colab_type": "code",
        "colab": {}
      },
      "source": [
        "! cmake -DCMAKE_BUILD_TYPE=RELEASE -DOpenMVG_BUILD_TESTS=ON -DOpenMVG_BUILD_EXAMPLES=ON . ../src/"
      ],
      "execution_count": 0,
      "outputs": []
    },
    {
      "cell_type": "code",
      "metadata": {
        "id": "fSfhT174WR_K",
        "colab_type": "code",
        "colab": {}
      },
      "source": [
        "! make -j12"
      ],
      "execution_count": 0,
      "outputs": []
    },
    {
      "cell_type": "code",
      "metadata": {
        "id": "I6vR1NSS8vj9",
        "colab_type": "code",
        "colab": {}
      },
      "source": [
        "!make test\n",
        "# ! ctest --output-on-failure -j\n",
        "# ! make #compile"
      ],
      "execution_count": 0,
      "outputs": []
    },
    {
      "cell_type": "code",
      "metadata": {
        "id": "ynRzXpPaSrm4",
        "colab_type": "code",
        "colab": {}
      },
      "source": [
        "!sudo make install"
      ],
      "execution_count": 0,
      "outputs": []
    },
    {
      "cell_type": "code",
      "metadata": {
        "id": "fRAzHT_4pwAO",
        "colab_type": "code",
        "colab": {}
      },
      "source": [
        "!git clone https://gitlab.com/libeigen/eigen.git --branch 3.2\n",
        "! mkdir eigen_build \n",
        "% cd eigen_build\n",
        "! cmake . ../eigen\n",
        "! make \n",
        "! sudo make install\n",
        "% cd .."
      ],
      "execution_count": 0,
      "outputs": []
    },
    {
      "cell_type": "code",
      "metadata": {
        "id": "KaEm4IikvYrn",
        "colab_type": "code",
        "outputId": "7e0d2c41-48b3-4ce7-a441-836943845f47",
        "colab": {
          "base_uri": "https://localhost:8080/",
          "height": 151
        }
      },
      "source": [
        "!git clone https://github.com/cdcseacave/VCG.git vcglib"
      ],
      "execution_count": 0,
      "outputs": [
        {
          "output_type": "stream",
          "text": [
            "Cloning into 'vcglib'...\n",
            "remote: Enumerating objects: 36673, done.\u001b[K\n",
            "remote: Counting objects: 100% (36673/36673), done.\u001b[K\n",
            "remote: Compressing objects: 100% (12785/12785), done.\u001b[K\n",
            "remote: Total 39069 (delta 24123), reused 35554 (delta 23690), pack-reused 2396\u001b[K\n",
            "Receiving objects: 100% (39069/39069), 17.63 MiB | 3.62 MiB/s, done.\n",
            "Resolving deltas: 100% (25149/25149), done.\n",
            "Checking out files: 100% (1088/1088), done.\n"
          ],
          "name": "stdout"
        }
      ]
    },
    {
      "cell_type": "code",
      "metadata": {
        "id": "rdVND51J00iX",
        "colab_type": "code",
        "colab": {}
      },
      "source": [
        "!sudo apt-get -y install libatlas-base-dev libsuitesparse-dev\n",
        "!git clone https://ceres-solver.googlesource.com/ceres-solver ceres-solver --branch 1.13.0\n",
        "!mkdir ceres_build \n",
        "% cd ceres_build\n",
        "!cmake . ../ceres-solver/ -DMINIGLOG=ON -DBUILD_TESTING=OFF -DBUILD_EXAMPLES=OFF\n",
        "!make -j2 \n",
        "!sudo make install\n",
        "% cd .."
      ],
      "execution_count": 0,
      "outputs": []
    },
    {
      "cell_type": "code",
      "metadata": {
        "id": "BeEkXera-sf-",
        "colab_type": "code",
        "colab": {}
      },
      "source": [
        "!git clone https://github.com/cdcseacave/openMVS.git openMVS\n",
        "!mkdir openMVS_build \n",
        "% cd openMVS_build\n",
        "!cmake . ../openMVS -DCMAKE_BUILD_TYPE=Release -DVCG_ROOT=\"/content/drive/My Drive/openmvg/vcglib\" "
      ],
      "execution_count": 0,
      "outputs": []
    },
    {
      "cell_type": "code",
      "metadata": {
        "id": "yF_9dPPnDirx",
        "colab_type": "code",
        "colab": {}
      },
      "source": [
        "!make -j2\n",
        "!sudo make install"
      ],
      "execution_count": 0,
      "outputs": []
    },
    {
      "cell_type": "code",
      "metadata": {
        "id": "T5k02CaYHx2d",
        "colab_type": "code",
        "outputId": "2cf29156-2daa-4761-daab-fb918a69d6d1",
        "colab": {
          "base_uri": "https://localhost:8080/",
          "height": 34
        }
      },
      "source": [
        "!pwd"
      ],
      "execution_count": 0,
      "outputs": [
        {
          "output_type": "stream",
          "text": [
            "/content/MyDrive/openmvg/mvsfile\n"
          ],
          "name": "stdout"
        }
      ]
    },
    {
      "cell_type": "code",
      "metadata": {
        "id": "AFQN9Oko0jJ_",
        "colab_type": "code",
        "outputId": "78b73520-aa89-492f-a9e6-22b4ef6cc1ae",
        "colab": {
          "base_uri": "https://localhost:8080/",
          "height": 34
        }
      },
      "source": [
        "% cd .."
      ],
      "execution_count": 0,
      "outputs": [
        {
          "output_type": "stream",
          "text": [
            "/content/MyDrive/openmvg\n"
          ],
          "name": "stdout"
        }
      ]
    },
    {
      "cell_type": "code",
      "metadata": {
        "id": "KJJVyTu31E7g",
        "colab_type": "code",
        "colab": {}
      },
      "source": [
        "!sudo python SfM_SequentialPipeline.py '/content/MyDrive/openmvg/images' '/content/MyDrive/openmvg/output_dir' # run the project"
      ],
      "execution_count": 0,
      "outputs": []
    },
    {
      "cell_type": "code",
      "metadata": {
        "id": "0usQgQzIdiQO",
        "colab_type": "code",
        "outputId": "819327c1-5951-40fc-de9c-1bf3466386f2",
        "colab": {
          "base_uri": "https://localhost:8080/",
          "height": 34
        }
      },
      "source": [
        "% cd openmvg/mvsfile"
      ],
      "execution_count": 0,
      "outputs": [
        {
          "output_type": "stream",
          "text": [
            "/content/MyDrive/openmvg/mvsfile\n"
          ],
          "name": "stdout"
        }
      ]
    },
    {
      "cell_type": "code",
      "metadata": {
        "id": "LW5-vzNDgrTM",
        "colab_type": "code",
        "outputId": "4ef5c8c0-cea4-4fe4-c9c5-28441fba9983",
        "colab": {
          "base_uri": "https://localhost:8080/",
          "height": 269
        }
      },
      "source": [
        "! /content/MyDrive/openmvg/openMVG_Build/Linux-x86_64-RELEASE/openMVG_main_openMVG2openMVS -i sfm_data.bin -o scene.mvs"
      ],
      "execution_count": 0,
      "outputs": [
        {
          "output_type": "stream",
          "text": [
            "\n",
            "- PROCESS VIEWS -\n",
            "0%   10   20   30   40   50   60   70   80   90   100%\n",
            "|----|----|----|----|----|----|----|----|----|----|\n",
            "***************************************************\n",
            "\n",
            "- UNDISTORT IMAGES -\n",
            "0%   10   20   30   40   50   60   70   80   90   100%\n",
            "|----|----|----|----|----|----|----|----|----|----|\n",
            "***************************************************\n",
            "Scene saved to OpenMVS interface format:\n",
            " #platforms: 1\n",
            "  platform ( 0 ) #cameras: 1\n",
            "  11 images (11 calibrated)\n",
            "  6226 Landmarks\n"
          ],
          "name": "stdout"
        }
      ]
    },
    {
      "cell_type": "code",
      "metadata": {
        "id": "aTN7FOlHk4jm",
        "colab_type": "code",
        "outputId": "94ce150b-605c-465a-b298-ebc5eea08802",
        "colab": {
          "base_uri": "https://localhost:8080/",
          "height": 134
        }
      },
      "source": [
        "! /content/MyDrive/openmvg/openMVS_build/bin/Viewer "
      ],
      "execution_count": 0,
      "outputs": [
        {
          "output_type": "stream",
          "text": [
            "06:54:07 [App     ] Build date: Apr 21 2020, 05:28:45\n",
            "06:54:07 [App     ] CPU: Intel(R) Xeon(R) CPU @ 2.30GHz (2 cores)\n",
            "06:54:07 [App     ] RAM: 12.72GB Physical Memory 0B Virtual Memory\n",
            "06:54:07 [App     ] OS: Linux 4.19.104+ (x86_64)\n",
            "06:54:07 [App     ] SSE & AVX compatible CPU & OS detected\n",
            "06:54:07 [App     ] Command line:\n",
            "06:54:07 [App     ] CUDA device 0 initialized: Tesla K80 (compute capability 3.7; memory 11.17GB)\n"
          ],
          "name": "stdout"
        }
      ]
    },
    {
      "cell_type": "code",
      "metadata": {
        "id": "5opmVXJWsH3j",
        "colab_type": "code",
        "outputId": "193db1a7-247a-43bf-c870-a0a8b2056792",
        "colab": {
          "base_uri": "https://localhost:8080/",
          "height": 638
        }
      },
      "source": [
        "! /content/MyDrive/openmvg/openMVS_build/bin/DensifyPointCloud scene.mvs"
      ],
      "execution_count": 0,
      "outputs": [
        {
          "output_type": "stream",
          "text": [
            "07:02:01 [App     ] Build date: Apr 21 2020, 05:28:45\n",
            "07:02:01 [App     ] CPU: Intel(R) Xeon(R) CPU @ 2.30GHz (2 cores)\n",
            "07:02:01 [App     ] RAM: 12.72GB Physical Memory 0B Virtual Memory\n",
            "07:02:01 [App     ] OS: Linux 4.19.104+ (x86_64)\n",
            "07:02:01 [App     ] SSE & AVX compatible CPU & OS detected\n",
            "07:02:01 [App     ] Command line: scene.mvs\n",
            "07:02:01 [App     ] CUDA device 0 initialized: Tesla K80 (compute capability 3.7; memory 11.17GB)\n",
            "07:02:01 [App     ] Camera model loaded: platform 0; camera  0; f 1.054x1.054; poses 11\n",
            "07:02:02 [App     ] Image loaded   0: 00000.jpg\n",
            "07:02:02 [App     ] Image loaded   1: 00001.jpg\n",
            "07:02:02 [App     ] Image loaded   2: 00002.jpg\n",
            "07:02:02 [App     ] Image loaded   3: 00003.jpg\n",
            "07:02:03 [App     ] Image loaded   4: 00004.jpg\n",
            "07:02:03 [App     ] Image loaded   5: 00005.jpg\n",
            "07:02:03 [App     ] Image loaded   6: 00006.jpg\n",
            "07:02:03 [App     ] Image loaded   7: 00007.jpg\n",
            "07:02:04 [App     ] Image loaded   8: 00008.jpg\n",
            "07:02:04 [App     ] Image loaded   9: 00009.jpg\n",
            "07:02:04 [App     ] Image loaded  10: 00010.jpg\n",
            "07:02:04 [App     ] Scene loaded from interface format (3s187ms):\n",
            "\t11 images (11 calibrated) with a total of 63.22 MPixels (5.75 MPixels/image)\n",
            "\t6226 points, 0 vertices, 0 faces\n",
            "07:02:06 [App     ] Preparing images for dense reconstruction completed: 11 images (1s316ms)\n",
            "07:02:06 [App     ] Selecting images for dense reconstruction completed: 11 images (8ms)\n",
            "Estimated depth-maps 11 (100%, 22m42s514ms)          \n",
            "Filtered depth-maps 11 (100%, 14s478ms)          \n",
            "Fused depth-maps 11 (100%, 2s638ms)           \n",
            "07:25:06 [App     ] Depth-maps fused and filtered: 11 depth-maps, 7753763 depths, 1128413 points (15%%) (3s95ms)\n",
            "07:25:06 [App     ] Densifying point-cloud completed: 1128413 points (23m1s457ms)\n",
            "07:25:11 [App     ] Scene saved (4s862ms):\n",
            "\t11 images (11 calibrated)\n",
            "\t1128413 points, 0 vertices, 0 faces\n",
            "07:25:11 [App     ] Point-cloud saved: 1128413 points (462ms)\n",
            "07:25:11 [App     ] MEMORYINFO: {\n",
            "07:25:11 [App     ] \tVmPeak:\t77871916 kB\n",
            "07:25:11 [App     ] \tVmSize:\t77871916 kB\n",
            "07:25:11 [App     ] } ENDINFO\n"
          ],
          "name": "stdout"
        }
      ]
    },
    {
      "cell_type": "code",
      "metadata": {
        "id": "52JhAcFhKAeX",
        "colab_type": "code",
        "outputId": "5047a6d3-442a-4b6b-f189-b7f80b2a5102",
        "colab": {
          "base_uri": "https://localhost:8080/",
          "height": 490
        }
      },
      "source": [
        "! /content/MyDrive/openmvg/openMVS_build/bin/ReconstructMesh scene_dense.mvs"
      ],
      "execution_count": 0,
      "outputs": [
        {
          "output_type": "stream",
          "text": [
            "09:13:05 [App     ] Build date: Apr 21 2020, 05:28:45\n",
            "09:13:05 [App     ] CPU: Intel(R) Xeon(R) CPU @ 2.30GHz (2 cores)\n",
            "09:13:05 [App     ] RAM: 12.72GB Physical Memory 0B Virtual Memory\n",
            "09:13:05 [App     ] OS: Linux 4.19.104+ (x86_64)\n",
            "09:13:05 [App     ] SSE & AVX compatible CPU & OS detected\n",
            "09:13:05 [App     ] Command line: scene_dense.mvs\n",
            "09:13:05 [App     ] CUDA device 0 initialized: Tesla K80 (compute capability 3.7; memory 11.17GB)\n",
            "09:13:09 [App     ] Scene loaded (3s520ms):\n",
            "\t11 images (11 calibrated) with a total of 15.81 MPixels (1.44 MPixels/image)\n",
            "\t1128413 points, 0 vertices, 0 faces\n",
            "Points inserted 1128413 (100%, 7s881ms)          \n",
            "09:13:22 [App     ] Delaunay tetrahedralization completed: 1128413 points -> 485161 vertices, 3045939 (+198) cells, 6091977 (+297) faces (8s413ms)\n",
            "Points weighted 485161 (100%, 38s656ms)          \n",
            "09:14:03 [App     ] Delaunay tetrahedras weighting completed: 3046137 cells, 6092274 faces (41s391ms)\n",
            "09:14:11 [App     ] Delaunay tetrahedras graph-cut completed (376734 flow): 456309 vertices, 912943 faces (7s571ms)\n",
            "09:14:15 [App     ] Mesh reconstruction completed: 456389 vertices, 912719 faces (1m2s564ms)\n",
            "09:14:22 [App     ] Cleaned mesh: 455968 vertices, 911464 faces (7s50ms)\n",
            "09:14:27 [App     ] Cleaned mesh: 455972 vertices, 911475 faces (4s420ms)\n",
            "09:14:29 [App     ] Cleaned mesh: 455972 vertices, 911475 faces (1s773ms)\n",
            "09:14:30 [App     ] Scene saved (1s555ms):\n",
            "\t11 images (11 calibrated)\n",
            "\t0 points, 455972 vertices, 911475 faces\n",
            "09:14:30 [App     ] Mesh saved: 455972 vertices, 911475 faces (123ms)\n",
            "09:14:30 [App     ] MEMORYINFO: {\n",
            "09:14:30 [App     ] \tVmPeak:\t77725956 kB\n",
            "09:14:30 [App     ] \tVmSize:\t77725956 kB\n",
            "09:14:30 [App     ] } ENDINFO\n"
          ],
          "name": "stdout"
        }
      ]
    },
    {
      "cell_type": "code",
      "metadata": {
        "id": "LJTzV8_TK_6n",
        "colab_type": "code",
        "outputId": "77b7c052-9fef-4d67-cdc4-637e9c6e4469",
        "colab": {
          "base_uri": "https://localhost:8080/",
          "height": 504
        }
      },
      "source": [
        "! /content/MyDrive/openmvg/openMVS_build/bin/RefineMesh scene_dense_mesh.mvs"
      ],
      "execution_count": 0,
      "outputs": [
        {
          "output_type": "stream",
          "text": [
            "09:18:50 [App     ] Build date: Apr 21 2020, 05:28:45\n",
            "09:18:50 [App     ] CPU: Intel(R) Xeon(R) CPU @ 2.30GHz (2 cores)\n",
            "09:18:50 [App     ] RAM: 12.72GB Physical Memory 0B Virtual Memory\n",
            "09:18:50 [App     ] OS: Linux 4.19.104+ (x86_64)\n",
            "09:18:50 [App     ] SSE & AVX compatible CPU & OS detected\n",
            "09:18:50 [App     ] Command line: scene_dense_mesh.mvs\n",
            "09:18:50 [App     ] CUDA device 0 initialized: Tesla K80 (compute capability 3.7; memory 11.17GB)\n",
            "09:18:51 [App     ] Scene loaded (758ms):\n",
            "\t11 images (11 calibrated) with a total of 63.22 MPixels (5.75 MPixels/image)\n",
            "\t0 points, 455972 vertices, 911475 faces\n",
            "Decimated faces 820327 (100%, 9s32ms)           \n",
            "09:19:06 [App     ] Cleaned mesh: 45803 vertices, 91146 faces (9s731ms)\n",
            "09:19:06 [App     ] Cleaned mesh: 45803 vertices, 91146 faces (188ms)\n",
            "09:19:08 [App     ] Cleaned mesh: 36400 vertices, 72225 faces (140ms)\n",
            "09:19:08 [App     ] Mesh subdivided: 45803/91146 -> 36400/72225 vertices/faces\n",
            "Processed iterations 45 (100%, 19s566ms)           \n",
            "09:19:29 [App     ] Mesh subdivided: 36400/72225 -> 37077/73566 vertices/faces\n",
            "Processed iterations 22 (100%, 26s463ms)        \n",
            "09:19:57 [App     ] Mesh subdivided: 37077/73566 -> 60705/120584 vertices/faces\n",
            "Processed iterations 15 (100%, 58s684ms)        \n",
            "09:20:56 [App     ] Mesh refinement completed: 60705 vertices, 120584 faces (2m5s272ms)\n",
            "09:20:56 [App     ] Scene saved (152ms):\n",
            "\t11 images (11 calibrated)\n",
            "\t0 points, 60705 vertices, 120584 faces\n",
            "09:20:56 [App     ] Mesh saved: 60705 vertices, 120584 faces (19ms)\n",
            "09:20:56 [App     ] MEMORYINFO: {\n",
            "09:20:56 [App     ] \tVmPeak:\t77127972 kB\n",
            "09:20:56 [App     ] \tVmSize:\t77127972 kB\n",
            "09:20:56 [App     ] } ENDINFO\n"
          ],
          "name": "stdout"
        }
      ]
    },
    {
      "cell_type": "code",
      "metadata": {
        "id": "RDuGNtjOMYrM",
        "colab_type": "code",
        "outputId": "60d593b0-c7cf-430f-87f3-a6ad416c90ef",
        "colab": {
          "base_uri": "https://localhost:8080/",
          "height": 386
        }
      },
      "source": [
        "! /content/MyDrive/openmvg/openMVS_build/bin/TextureMesh scene_dense_mesh_refine.mvs"
      ],
      "execution_count": 0,
      "outputs": [
        {
          "output_type": "stream",
          "text": [
            "09:23:31 [App     ] Build date: Apr 21 2020, 05:28:45\n",
            "09:23:31 [App     ] CPU: Intel(R) Xeon(R) CPU @ 2.30GHz (2 cores)\n",
            "09:23:31 [App     ] RAM: 12.72GB Physical Memory 0B Virtual Memory\n",
            "09:23:31 [App     ] OS: Linux 4.19.104+ (x86_64)\n",
            "09:23:31 [App     ] SSE & AVX compatible CPU & OS detected\n",
            "09:23:31 [App     ] Command line: scene_dense_mesh_refine.mvs\n",
            "09:23:31 [App     ] CUDA device 0 initialized: Tesla K80 (compute capability 3.7; memory 11.17GB)\n",
            "09:23:31 [App     ] Scene loaded (127ms):\n",
            "\t11 images (11 calibrated) with a total of 63.22 MPixels (5.75 MPixels/image)\n",
            "\t0 points, 60705 vertices, 120584 faces\n",
            "Initialized views 11 (100%, 3s341ms)          \n",
            "09:23:59 [App     ] Assigning the best view to each face completed: 120584 faces (27s818ms)\n",
            "09:24:12 [App     ] Generating texture atlas and image completed: 627 patches, 4096 image size (13s107ms)\n",
            "09:24:12 [App     ] Mesh texturing completed: 60705 vertices, 120584 faces (40s934ms)\n",
            "09:24:18 [App     ] Scene saved (5s517ms):\n",
            "\t11 images (11 calibrated)\n",
            "\t0 points, 60705 vertices, 120584 faces\n",
            "09:24:22 [App     ] Mesh saved: 60705 vertices, 120584 faces (4s792ms)\n",
            "09:24:22 [App     ] MEMORYINFO: {\n",
            "09:24:22 [App     ] \tVmPeak:\t77956088 kB\n",
            "09:24:22 [App     ] \tVmSize:\t77956088 kB\n",
            "09:24:22 [App     ] } ENDINFO\n"
          ],
          "name": "stdout"
        }
      ]
    },
    {
      "cell_type": "code",
      "metadata": {
        "id": "iO-kcyVdA_eU",
        "colab_type": "code",
        "colab": {}
      },
      "source": [
        "!python tutorial_demo.py"
      ],
      "execution_count": 0,
      "outputs": []
    }
  ]
}