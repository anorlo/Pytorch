{
  "nbformat": 4,
  "nbformat_minor": 0,
  "metadata": {
    "colab": {
      "name": "Untitled",
      "provenance": [],
      "authorship_tag": "ABX9TyOvzeg4aH4myQoJjGM4Z7Z0",
      "include_colab_link": true
    },
    "kernelspec": {
      "name": "python3",
      "display_name": "Python 3"
    },
    "accelerator": "GPU",
    "widgets": {
      "application/vnd.jupyter.widget-state+json": {
        "26bb521704734f3e888ccce6af438ba5": {
          "model_module": "@jupyter-widgets/controls",
          "model_name": "HBoxModel",
          "state": {
            "_view_name": "HBoxView",
            "_dom_classes": [],
            "_model_name": "HBoxModel",
            "_view_module": "@jupyter-widgets/controls",
            "_model_module_version": "1.5.0",
            "_view_count": null,
            "_view_module_version": "1.5.0",
            "box_style": "",
            "layout": "IPY_MODEL_e5746f44afac427384c7928ea856ebec",
            "_model_module": "@jupyter-widgets/controls",
            "children": [
              "IPY_MODEL_8c9639cc76aa494ab94e39068a5f6929",
              "IPY_MODEL_c7ee2c90586744b582084ac26428b2a8"
            ]
          }
        },
        "e5746f44afac427384c7928ea856ebec": {
          "model_module": "@jupyter-widgets/base",
          "model_name": "LayoutModel",
          "state": {
            "_view_name": "LayoutView",
            "grid_template_rows": null,
            "right": null,
            "justify_content": null,
            "_view_module": "@jupyter-widgets/base",
            "overflow": null,
            "_model_module_version": "1.2.0",
            "_view_count": null,
            "flex_flow": null,
            "width": null,
            "min_width": null,
            "border": null,
            "align_items": null,
            "bottom": null,
            "_model_module": "@jupyter-widgets/base",
            "top": null,
            "grid_column": null,
            "overflow_y": null,
            "overflow_x": null,
            "grid_auto_flow": null,
            "grid_area": null,
            "grid_template_columns": null,
            "flex": null,
            "_model_name": "LayoutModel",
            "justify_items": null,
            "grid_row": null,
            "max_height": null,
            "align_content": null,
            "visibility": null,
            "align_self": null,
            "height": null,
            "min_height": null,
            "padding": null,
            "grid_auto_rows": null,
            "grid_gap": null,
            "max_width": null,
            "order": null,
            "_view_module_version": "1.2.0",
            "grid_template_areas": null,
            "object_position": null,
            "object_fit": null,
            "grid_auto_columns": null,
            "margin": null,
            "display": null,
            "left": null
          }
        },
        "8c9639cc76aa494ab94e39068a5f6929": {
          "model_module": "@jupyter-widgets/controls",
          "model_name": "IntProgressModel",
          "state": {
            "_view_name": "ProgressView",
            "style": "IPY_MODEL_88f22860782e49b888b8f67b3397213e",
            "_dom_classes": [],
            "description": "",
            "_model_name": "IntProgressModel",
            "bar_style": "success",
            "max": 1,
            "_view_module": "@jupyter-widgets/controls",
            "_model_module_version": "1.5.0",
            "value": 1,
            "_view_count": null,
            "_view_module_version": "1.5.0",
            "orientation": "horizontal",
            "min": 0,
            "description_tooltip": null,
            "_model_module": "@jupyter-widgets/controls",
            "layout": "IPY_MODEL_cfedabae41f94479b661b5f745bdf37a"
          }
        },
        "c7ee2c90586744b582084ac26428b2a8": {
          "model_module": "@jupyter-widgets/controls",
          "model_name": "HTMLModel",
          "state": {
            "_view_name": "HTMLView",
            "style": "IPY_MODEL_d6698379ab164277a3fe03c0d2bd8be6",
            "_dom_classes": [],
            "description": "",
            "_model_name": "HTMLModel",
            "placeholder": "​",
            "_view_module": "@jupyter-widgets/controls",
            "_model_module_version": "1.5.0",
            "value": "169009152it [00:06, 26927481.89it/s]",
            "_view_count": null,
            "_view_module_version": "1.5.0",
            "description_tooltip": null,
            "_model_module": "@jupyter-widgets/controls",
            "layout": "IPY_MODEL_95823f37dc4d4063b6769fc325ec2b93"
          }
        },
        "88f22860782e49b888b8f67b3397213e": {
          "model_module": "@jupyter-widgets/controls",
          "model_name": "ProgressStyleModel",
          "state": {
            "_view_name": "StyleView",
            "_model_name": "ProgressStyleModel",
            "description_width": "",
            "_view_module": "@jupyter-widgets/base",
            "_model_module_version": "1.5.0",
            "_view_count": null,
            "_view_module_version": "1.2.0",
            "bar_color": null,
            "_model_module": "@jupyter-widgets/controls"
          }
        },
        "cfedabae41f94479b661b5f745bdf37a": {
          "model_module": "@jupyter-widgets/base",
          "model_name": "LayoutModel",
          "state": {
            "_view_name": "LayoutView",
            "grid_template_rows": null,
            "right": null,
            "justify_content": null,
            "_view_module": "@jupyter-widgets/base",
            "overflow": null,
            "_model_module_version": "1.2.0",
            "_view_count": null,
            "flex_flow": null,
            "width": null,
            "min_width": null,
            "border": null,
            "align_items": null,
            "bottom": null,
            "_model_module": "@jupyter-widgets/base",
            "top": null,
            "grid_column": null,
            "overflow_y": null,
            "overflow_x": null,
            "grid_auto_flow": null,
            "grid_area": null,
            "grid_template_columns": null,
            "flex": null,
            "_model_name": "LayoutModel",
            "justify_items": null,
            "grid_row": null,
            "max_height": null,
            "align_content": null,
            "visibility": null,
            "align_self": null,
            "height": null,
            "min_height": null,
            "padding": null,
            "grid_auto_rows": null,
            "grid_gap": null,
            "max_width": null,
            "order": null,
            "_view_module_version": "1.2.0",
            "grid_template_areas": null,
            "object_position": null,
            "object_fit": null,
            "grid_auto_columns": null,
            "margin": null,
            "display": null,
            "left": null
          }
        },
        "d6698379ab164277a3fe03c0d2bd8be6": {
          "model_module": "@jupyter-widgets/controls",
          "model_name": "DescriptionStyleModel",
          "state": {
            "_view_name": "StyleView",
            "_model_name": "DescriptionStyleModel",
            "description_width": "",
            "_view_module": "@jupyter-widgets/base",
            "_model_module_version": "1.5.0",
            "_view_count": null,
            "_view_module_version": "1.2.0",
            "_model_module": "@jupyter-widgets/controls"
          }
        },
        "95823f37dc4d4063b6769fc325ec2b93": {
          "model_module": "@jupyter-widgets/base",
          "model_name": "LayoutModel",
          "state": {
            "_view_name": "LayoutView",
            "grid_template_rows": null,
            "right": null,
            "justify_content": null,
            "_view_module": "@jupyter-widgets/base",
            "overflow": null,
            "_model_module_version": "1.2.0",
            "_view_count": null,
            "flex_flow": null,
            "width": null,
            "min_width": null,
            "border": null,
            "align_items": null,
            "bottom": null,
            "_model_module": "@jupyter-widgets/base",
            "top": null,
            "grid_column": null,
            "overflow_y": null,
            "overflow_x": null,
            "grid_auto_flow": null,
            "grid_area": null,
            "grid_template_columns": null,
            "flex": null,
            "_model_name": "LayoutModel",
            "justify_items": null,
            "grid_row": null,
            "max_height": null,
            "align_content": null,
            "visibility": null,
            "align_self": null,
            "height": null,
            "min_height": null,
            "padding": null,
            "grid_auto_rows": null,
            "grid_gap": null,
            "max_width": null,
            "order": null,
            "_view_module_version": "1.2.0",
            "grid_template_areas": null,
            "object_position": null,
            "object_fit": null,
            "grid_auto_columns": null,
            "margin": null,
            "display": null,
            "left": null
          }
        }
      }
    }
  },
  "cells": [
    {
      "cell_type": "markdown",
      "metadata": {
        "id": "view-in-github",
        "colab_type": "text"
      },
      "source": [
        "<a href=\"https://colab.research.google.com/github/anorlo/Pytorch/blob/master/Cifar100.ipynb\" target=\"_parent\"><img src=\"https://colab.research.google.com/assets/colab-badge.svg\" alt=\"Open In Colab\"/></a>"
      ]
    },
    {
      "cell_type": "markdown",
      "metadata": {
        "id": "vLJaI4Y0X6P7",
        "colab_type": "text"
      },
      "source": [
        "The first CIFAR10 code"
      ]
    },
    {
      "cell_type": "code",
      "metadata": {
        "id": "9ZAulNfEX3hs",
        "colab_type": "code",
        "colab": {}
      },
      "source": [
        "import torch\n",
        "import torchvision\n",
        "import torchvision.transforms as transforms"
      ],
      "execution_count": 0,
      "outputs": []
    },
    {
      "cell_type": "code",
      "metadata": {
        "id": "1yr_j1CRNSlO",
        "colab_type": "code",
        "colab": {}
      },
      "source": [
        "import os\n",
        "os.environ['CUDA_LAUNCH_BLOCKING'] = \"1\""
      ],
      "execution_count": 0,
      "outputs": []
    },
    {
      "cell_type": "code",
      "metadata": {
        "id": "J2mjqBSDYsfO",
        "colab_type": "code",
        "outputId": "d46cd4fb-7508-4af8-f475-f676e6f42902",
        "colab": {
          "base_uri": "https://localhost:8080/",
          "height": 116,
          "referenced_widgets": [
            "26bb521704734f3e888ccce6af438ba5",
            "e5746f44afac427384c7928ea856ebec",
            "8c9639cc76aa494ab94e39068a5f6929",
            "c7ee2c90586744b582084ac26428b2a8",
            "88f22860782e49b888b8f67b3397213e",
            "cfedabae41f94479b661b5f745bdf37a",
            "d6698379ab164277a3fe03c0d2bd8be6",
            "95823f37dc4d4063b6769fc325ec2b93"
          ]
        }
      },
      "source": [
        "transform = transforms.Compose(\n",
        "    [transforms.ToTensor(),\n",
        "     transforms.Normalize((0.5, 0.5, 0.5), (0.5, 0.5, 0.5))]\n",
        ")\n",
        "ds = []\n",
        "trainset = torchvision.datasets.CIFAR100(root='./data', train=True, download=True, transform=transform)\n",
        "trainloader = torch.utils.data.DataLoader(trainset, batch_size=4, shuffle=True, num_workers=2)\n",
        "testset = torchvision.datasets.CIFAR100(root='./data', train=False, download=True, transform=transform)\n",
        "testloader = torch.utils.data.DataLoader(testset, batch_size=4, shuffle=True, num_workers=2)\n",
        "device = torch.device(\"cuda:0\" if torch.cuda.is_available() else \"cpu\")\n",
        "\n",
        "\n",
        "\n",
        "Superclasses = ('aquatic mammals', 'fish', 'flowers', 'food containers', 'fruit and vegetables',\n",
        "                'household electrical devices', 'household furniture', 'insects', 'large carnivores'\n",
        "                'large man-made outdoor things', 'large natural outdoor scenes', 'large omnivores and herbivores'\n",
        "                'medium-sized mammals', 'non-insect invertebrates', 'people', 'reptiles', 'small mammals'\n",
        "                'trees', 'vehicles 1', 'vehicles 2')\n",
        "\n",
        "classes = ('apples', 'aquarium fish', 'baby', 'bear', 'beaver', 'bed', 'bee', 'beetle', 'bicycle', 'bottles', 'bowls', 'boy', \n",
        "     'bridge', 'bus', 'butterfly', 'camel', 'cans', 'castle', 'caterpillar', 'cattle', 'chair', 'chimpanzee', 'clock', \n",
        "     'cloud', 'cockroach', 'computer keyboard', 'couch', 'crab', 'crocodile', 'cups', 'dinosaur', 'dolphin', 'elephant', \n",
        "     'flatfish', 'forest', 'fox', 'girl', 'hamster', 'house', 'kangaroo', 'lamp', 'lawn-mower', 'leopard', 'lion', 'lizard', \n",
        "     'lobster', 'man', 'maple', 'motorcycle', 'mountain', 'mouse', 'mushrooms', 'oak', 'oranges', 'orchids', 'otter', 'palm', \n",
        "     'pears', 'pickup truck', 'pine', 'plain', 'plates', 'poppies', 'porcupine', 'possum', 'rabbit', 'raccoon', 'ray', 'road', \n",
        "     'rocket', 'roses', 'sea', 'seal', 'shark', 'shrew', 'skunk', 'skyscraper', 'snail', 'snake', 'spider', 'squirrel', 'streetcar', \n",
        "     'sunflowers', 'sweet peppers', 'table', 'tank', 'telephone', 'television', 'tiger', 'tractor', 'train', 'trout', 'tulips', \n",
        "     'turtle', 'wardrobe', 'whale', 'willow', 'wolf', 'woman', 'worm')\n",
        " \n"
      ],
      "execution_count": 0,
      "outputs": [
        {
          "output_type": "stream",
          "text": [
            "Downloading https://www.cs.toronto.edu/~kriz/cifar-100-python.tar.gz to ./data/cifar-100-python.tar.gz\n"
          ],
          "name": "stdout"
        },
        {
          "output_type": "display_data",
          "data": {
            "application/vnd.jupyter.widget-view+json": {
              "model_id": "26bb521704734f3e888ccce6af438ba5",
              "version_minor": 0,
              "version_major": 2
            },
            "text/plain": [
              "HBox(children=(IntProgress(value=1, bar_style='info', max=1), HTML(value='')))"
            ]
          },
          "metadata": {
            "tags": []
          }
        },
        {
          "output_type": "stream",
          "text": [
            "\n",
            "Extracting ./data/cifar-100-python.tar.gz to ./data\n",
            "Files already downloaded and verified\n"
          ],
          "name": "stdout"
        }
      ]
    },
    {
      "cell_type": "code",
      "metadata": {
        "id": "-V-TJRwSqTg4",
        "colab_type": "code",
        "outputId": "e88a4395-4829-4801-9835-6cda82630a0f",
        "colab": {
          "base_uri": "https://localhost:8080/",
          "height": 155
        }
      },
      "source": [
        "import matplotlib.pyplot as plt\n",
        "import numpy as np\n",
        "\n",
        "# functions to show an image\n",
        "\n",
        "\n",
        "def imshow(img):\n",
        "    img = img / 2 + 0.5     # unnormalize\n",
        "    npimg = img.numpy()\n",
        "    plt.imshow(np.transpose(npimg, (1, 2, 0)))\n",
        "\n",
        "# def unpickle(file):\n",
        "#     import pickle\n",
        "#     with open(file, 'rb') as fo:\n",
        "#         dict = pickle.load(fo, encoding='bytes')\n",
        "#     return dict\n",
        "# tr = unpickle('/content/data/cifar-100-python/train')\n",
        "# for i in tr:\n",
        "#   print(i)\n",
        "# for i in range(49999):\n",
        "#   # print(i, tr[b'fine_labels'][i])\n",
        "#   if(tr[b'fine_labels'][i] == 1):\n",
        "#     print(tr[b'filenames'][i])\n",
        "#     print(tr[b'coarse_labels'][i])\n",
        "\n",
        "# get some random training images\n",
        "dataiter = iter(trainloader)\n",
        "images, labels = dataiter.next()\n",
        "# print(labels)\n",
        "# show images\n",
        "imshow(torchvision.utils.make_grid(images))\n",
        "# print labels\n",
        "print(' '.join('%5s' % classes[labels[j]] for j in range(4)))"
      ],
      "execution_count": 0,
      "outputs": [
        {
          "output_type": "stream",
          "text": [
            " cans plates beetle pickup truck\n"
          ],
          "name": "stdout"
        },
        {
          "output_type": "display_data",
          "data": {
            "image/png": "[encoded data removed]",
            "text/plain": [
              "<Figure size 432x288 with 1 Axes>"
            ]
          },
          "metadata": {
            "tags": []
          }
        }
      ]
    },
    {
      "cell_type": "code",
      "metadata": {
        "id": "_tt2KzHjie-3",
        "colab_type": "code",
        "colab": {}
      },
      "source": [
        "# a = ['apples', 'aquarium fish', 'baby', 'bear', 'beaver', 'bed', 'bee', 'beetle', 'bicycle', 'bottles', 'bowls', 'boy', \n",
        "#      'bridge', 'bus', 'butterfly', 'camel', 'cans', 'castle', 'caterpillar', 'cattle', 'chair', 'chimpanzee', 'clock', \n",
        "#      'cloud', 'cockroach', 'computer keyboard', 'couch', 'crab', 'crocodile', 'cups', 'dinosaur', 'dolphin', 'elephant', \n",
        "#      'flatfish', 'forest', 'fox', 'girl', 'hamster', 'house', 'kangaroo', 'lamp', 'lawn-mower', 'leopard', 'lion', 'lizard', \n",
        "#      'lobster', 'man', 'maple', 'motorcycle', 'mountain', 'mouse', 'mushrooms', 'oak', 'oranges', 'orchids', 'otter', 'palm', \n",
        "#      'pears', 'pickup truck', 'pine', 'plain', 'plates', 'poppies', 'porcupine', 'possum', 'rabbit', 'raccoon', 'ray', 'road', \n",
        "#      'rocket', 'roses', 'sea', 'seal', 'shark', 'shrew', 'skunk', 'skyscraper', 'snail', 'snake', 'spider', 'squirrel', 'streetcar', \n",
        "#      'sunflowers', 'sweet peppers', 'table', 'tank', 'telephone', 'television', 'tiger', 'tractor', 'train', 'trout', 'tulips', \n",
        "#      'turtle', 'wardrobe', 'whale', 'willow', 'wolf', 'woman', 'worm']\n",
        "\n",
        "# '''\n",
        "# 将每个单词用单引号包住\n",
        "# a = \"beaver, dolphin, otter, seal, whale, aquarium fish, flatfish, ray, shark, trout, orchids, poppies, roses, sunflowers, tulips, \\\n",
        "#   bottles, bowls, cans, cups, plates, apples, mushrooms, oranges, pears, sweet peppers, \tclock, computer keyboard, lamp, telephone, television, \\\n",
        "#   bed, chair, couch, table, wardrobe, bee, beetle, butterfly, caterpillar, cockroach, bear, leopard, lion, tiger, wolf, bridge, castle, house, road, \\\n",
        "#   skyscraper, cloud, forest, mountain, plain, sea, camel, cattle, chimpanzee, elephant, kangaroo, fox, porcupine, possum, raccoon, skunk, crab, lobster, \\\n",
        "#   snail, spider, worm, baby, boy, girl, man, woman, crocodile, dinosaur, lizard, snake, turtle, hamster, mouse, rabbit, shrew, squirrel, maple, oak, \\\n",
        "#   palm, pine, willow, bicycle, bus, motorcycle, pickup truck, train, lawn-mower, rocket, streetcar, tank, tractor\"\n",
        "\n",
        "# find_all = lambda a, s: [r for r in range(len(a)) if a[r] == s]\n",
        "# A = list(a)\n",
        "# b = find_all(a, ',')\n",
        "# print(b)\n",
        "# for i in range(99):\n",
        "#   A.insert(b[i]+i, '\\'')\n",
        "#   a = \"\".join(A)\n",
        "# print(a)\n",
        "# A = list(a)\n",
        "# b = find_all(a, ',')\n",
        "# for i in range(99):\n",
        "#   A.insert(b[i]+i+2, '\\'')\n",
        "#   a = \"\".join(A)\n",
        "# print(a)\n",
        "# '''\n",
        "\n",
        "\n",
        "# 排序\n",
        "# a = ['beaver', 'dolphin', 'otter', 'seal', 'whale', 'aquarium fish', 'flatfish', 'ray', 'shark', 'trout', 'orchids', 'poppies', 'roses', \n",
        "#      'sunflowers', 'tulips', 'bottles', 'bowls', 'cans', 'cups', 'plates', 'apples', 'mushrooms', 'oranges', 'pears', 'sweet peppers', \n",
        "#      'clock', 'computer keyboard', 'lamp', 'telephone', 'television', 'bed', 'chair', 'couch', 'table', 'wardrobe', 'bee', 'beetle', 'butterfly', \n",
        "#      'caterpillar', 'cockroach', 'bear', 'leopard', 'lion', 'tiger', 'wolf', 'bridge', 'castle', 'house', 'road', 'skyscraper', 'cloud', 'forest', \n",
        "#      'mountain', 'plain', 'sea', 'camel', 'cattle', 'chimpanzee', 'elephant', 'kangaroo', 'fox', 'porcupine', 'possum', 'raccoon', 'skunk', 'crab', \n",
        "#      'lobster', 'snail', 'spider', 'worm', 'baby', 'boy', 'girl', 'man', 'woman', 'crocodile', 'dinosaur', 'lizard', 'snake', 'turtle', 'hamster', \n",
        "#      'mouse', 'rabbit', 'shrew', 'squirrel', 'maple', 'oak', 'palm', 'pine', 'willow', 'bicycle', 'bus', 'motorcycle', 'pickup truck', 'train', \n",
        "#      'lawn-mower', 'rocket', 'streetcar', 'tank', 'tractor']\n",
        "# b = sorted(a)\n",
        "# print(b)"
      ],
      "execution_count": 0,
      "outputs": []
    },
    {
      "cell_type": "code",
      "metadata": {
        "id": "BLmRo9Lx3qXd",
        "colab_type": "code",
        "colab": {}
      },
      "source": [
        "import torch.nn as nn\n",
        "import torch.nn.functional as F\n",
        "\n",
        "class Net(nn.Module):\n",
        "    def __init__(self):\n",
        "      super(Net, self).__init__()\n",
        "      self.conv1 = nn.Conv2d(3, 16, 5, padding = 2)\n",
        "      self.pool = nn.MaxPool2d(2, 2)\n",
        "      self.conv2 = nn.Conv2d(16, 200, 5, padding = 2)\n",
        "      self.conv3 = nn.Conv2d(200, 200, 5, padding = 2)\n",
        "      self.fc1 = nn.Linear(200 * 4 * 4, 1200)\n",
        "      self.fc2 = nn.Linear(1200, 840)\n",
        "      self.fc3 = nn.Linear(840, 100)\n",
        "\n",
        "    def forward(self, x):\n",
        "      x = self.pool(F.relu(self.conv1(x)))\n",
        "      x = self.pool(F.relu(self.conv2(x)))\n",
        "      x = self.pool(F.relu(self.conv3(x)))\n",
        "      x = x.view(-1, 200 * 4 * 4)\n",
        "      x = F.relu(self.fc1(x))\n",
        "      x = F.relu(self.fc2(x))\n",
        "      x = self.fc3(x)\n",
        "      return x\n",
        "\n",
        "net = Net()\n",
        "net = net.to(device)"
      ],
      "execution_count": 0,
      "outputs": []
    },
    {
      "cell_type": "code",
      "metadata": {
        "id": "kh1b1O4kEopZ",
        "colab_type": "code",
        "colab": {}
      },
      "source": [
        "import torch.optim as optim\n",
        "\n",
        "criterion = nn.CrossEntropyLoss()\n",
        "optimizer = optim.SGD(net.parameters(), lr=0.001, momentum=0.9)"
      ],
      "execution_count": 0,
      "outputs": []
    },
    {
      "cell_type": "code",
      "metadata": {
        "id": "UPRnwO8JE__R",
        "colab_type": "code",
        "outputId": "85e372d2-5cd4-4b62-d8f0-fbff563a4f71",
        "colab": {
          "base_uri": "https://localhost:8080/",
          "height": 1000
        }
      },
      "source": [
        "for epoch in range(10):\n",
        "  \n",
        "    running_loss = 0.0\n",
        "    for i, data in enumerate(trainloader, 0):\n",
        "        inputs, labels = data\n",
        "        inputs, labels = inputs.to(device), labels.to(device)\n",
        "        # print(labels)\n",
        "        optimizer.zero_grad()\n",
        "        outputs = net(inputs)\n",
        "        # print(outputs)\n",
        "        loss = criterion(outputs, labels)\n",
        "        loss.backward()\n",
        "        optimizer.step()\n",
        "        running_loss += loss.item()\n",
        "        if i % 2000 ==1999:\n",
        "            print('[%d, %5d] loss: %.3f' %\n",
        "                  (epoch + 1, i + 1, running_loss / 2000))\n",
        "            running_loss = 0.0\n",
        "\n",
        "print('Finished Training')"
      ],
      "execution_count": 0,
      "outputs": [
        {
          "output_type": "stream",
          "text": [
            "[1,  2000] loss: 4.601\n",
            "[1,  4000] loss: 4.385\n",
            "[1,  6000] loss: 4.102\n",
            "[1,  8000] loss: 3.913\n",
            "[1, 10000] loss: 3.775\n",
            "[1, 12000] loss: 3.678\n",
            "[2,  2000] loss: 3.472\n",
            "[2,  4000] loss: 3.370\n",
            "[2,  6000] loss: 3.286\n",
            "[2,  8000] loss: 3.202\n",
            "[2, 10000] loss: 3.089\n",
            "[2, 12000] loss: 3.065\n",
            "[3,  2000] loss: 2.806\n",
            "[3,  4000] loss: 2.773\n",
            "[3,  6000] loss: 2.741\n",
            "[3,  8000] loss: 2.691\n",
            "[3, 10000] loss: 2.657\n",
            "[3, 12000] loss: 2.614\n",
            "[4,  2000] loss: 2.302\n",
            "[4,  4000] loss: 2.277\n",
            "[4,  6000] loss: 2.269\n",
            "[4,  8000] loss: 2.290\n",
            "[4, 10000] loss: 2.237\n",
            "[4, 12000] loss: 2.257\n",
            "[5,  2000] loss: 1.790\n",
            "[5,  4000] loss: 1.875\n",
            "[5,  6000] loss: 1.866\n",
            "[5,  8000] loss: 1.883\n",
            "[5, 10000] loss: 1.897\n",
            "[5, 12000] loss: 1.892\n",
            "[6,  2000] loss: 1.318\n",
            "[6,  4000] loss: 1.425\n",
            "[6,  6000] loss: 1.450\n",
            "[6,  8000] loss: 1.492\n",
            "[6, 10000] loss: 1.535\n",
            "[6, 12000] loss: 1.527\n",
            "[7,  2000] loss: 0.902\n",
            "[7,  4000] loss: 0.979\n",
            "[7,  6000] loss: 1.046\n",
            "[7,  8000] loss: 1.110\n",
            "[7, 10000] loss: 1.166\n",
            "[7, 12000] loss: 1.198\n",
            "[8,  2000] loss: 0.584\n",
            "[8,  4000] loss: 0.681\n",
            "[8,  6000] loss: 0.754\n",
            "[8,  8000] loss: 0.836\n",
            "[8, 10000] loss: 0.875\n",
            "[8, 12000] loss: 0.914\n",
            "[9,  2000] loss: 0.416\n",
            "[9,  4000] loss: 0.471\n",
            "[9,  6000] loss: 0.534\n",
            "[9,  8000] loss: 0.600\n",
            "[9, 10000] loss: 0.680\n",
            "[9, 12000] loss: 0.690\n",
            "[10,  2000] loss: 0.312\n",
            "[10,  4000] loss: 0.395\n",
            "[10,  6000] loss: 0.475\n",
            "[10,  8000] loss: 0.474\n",
            "[10, 10000] loss: 0.509\n",
            "[10, 12000] loss: 0.595\n",
            "Finished Training\n"
          ],
          "name": "stdout"
        }
      ]
    },
    {
      "cell_type": "code",
      "metadata": {
        "id": "FTidTE4B7qnW",
        "colab_type": "code",
        "outputId": "cf2dec2e-f130-451e-e6de-786b1c1eb91d",
        "colab": {
          "base_uri": "https://localhost:8080/",
          "height": 155
        }
      },
      "source": [
        "dataiter = iter(testloader)\n",
        "images, labels = dataiter.next()\n",
        "\n",
        "imshow(torchvision.utils.make_grid(images))\n",
        "print('GroundTruth: ', ' '.join('%5s' % classes[labels[j]] for j in range(4)))"
      ],
      "execution_count": 0,
      "outputs": [
        {
          "output_type": "stream",
          "text": [
            "GroundTruth:  camel chimpanzee  tank bridge\n"
          ],
          "name": "stdout"
        },
        {
          "output_type": "display_data",
          "data": {
            "image/png": "[encoded data removed]",
            "text/plain": [
              "<Figure size 432x288 with 1 Axes>"
            ]
          },
          "metadata": {
            "tags": []
          }
        }
      ]
    },
    {
      "cell_type": "code",
      "metadata": {
        "id": "0BjTt6YRD-69",
        "colab_type": "code",
        "outputId": "3222c720-f8a7-4508-d149-4010420acd58",
        "colab": {
          "base_uri": "https://localhost:8080/",
          "height": 34
        }
      },
      "source": [
        "images, labels = images.to(device), labels.to(device)\n",
        "\n",
        "# outputs = outputs.to(device)\n",
        "outputs = net(images)\n",
        "\n",
        "_, predicted = torch.max(outputs, 1)\n",
        "\n",
        "print('Predicted: ', ' '.join('%5s' % classes[predicted[j]] for j in range(4)))"
      ],
      "execution_count": 0,
      "outputs": [
        {
          "output_type": "stream",
          "text": [
            "Predicted:  cattle chimpanzee  bear bridge\n"
          ],
          "name": "stdout"
        }
      ]
    },
    {
      "cell_type": "code",
      "metadata": {
        "id": "jg6Acw0-RIyj",
        "colab_type": "code",
        "outputId": "f2600ab8-7d21-41a9-97ae-44ab09403186",
        "colab": {
          "base_uri": "https://localhost:8080/",
          "height": 34
        }
      },
      "source": [
        "correct = 0\n",
        "total = 0\n",
        "with torch.no_grad():\n",
        "    for data in testloader:\n",
        "        images, labels = data\n",
        "        images, labels = images.to(device), labels.to(device)\n",
        "        outputs = net(images)\n",
        "        _, predicted = torch.max(outputs.data, 1)\n",
        "        total += labels.size(0)\n",
        "        correct += (predicted == labels).sum().item()\n",
        "\n",
        "print('Accuracy of the network on the 10000 test images: %d %%' % (\n",
        "    100 * correct / total))"
      ],
      "execution_count": 0,
      "outputs": [
        {
          "output_type": "stream",
          "text": [
            "Accuracy of the network on the 10000 test images: 40 %\n"
          ],
          "name": "stdout"
        }
      ]
    },
    {
      "cell_type": "code",
      "metadata": {
        "id": "ad3UqPr_jsE-",
        "colab_type": "code",
        "outputId": "817ada57-6987-4924-e8c7-c2cab2c6cf4e",
        "colab": {
          "base_uri": "https://localhost:8080/",
          "height": 1000
        }
      },
      "source": [
        "class_correct = list(0. for i in range(100))\n",
        "class_total = list(0. for i in range(100))\n",
        "with torch.no_grad():\n",
        "    for data in testloader:\n",
        "        images, labels = data\n",
        "        images, labels = images.to(device), labels.to(device)\n",
        "        outputs = net(images)\n",
        "        _, predicted = torch.max(outputs, 1)\n",
        "        c = (predicted == labels).squeeze()\n",
        "        for i in range(4):\n",
        "            label = labels[i]\n",
        "            class_correct[label] += c[i].item()\n",
        "            class_total[label] += 1\n",
        "\n",
        "\n",
        "for i in range(100):\n",
        "    print('Accuracy of %5s : %2d %%' % (\n",
        "        classes[i], 100 * class_correct[i] / class_total[i]))"
      ],
      "execution_count": 0,
      "outputs": [
        {
          "output_type": "stream",
          "text": [
            "Accuracy of apples : 34 %\n",
            "Accuracy of aquarium fish : 42 %\n",
            "Accuracy of  baby : 29 %\n",
            "Accuracy of  bear : 22 %\n",
            "Accuracy of beaver : 13 %\n",
            "Accuracy of   bed : 28 %\n",
            "Accuracy of   bee : 47 %\n",
            "Accuracy of beetle : 55 %\n",
            "Accuracy of bicycle : 52 %\n",
            "Accuracy of bottles : 49 %\n",
            "Accuracy of bowls : 10 %\n",
            "Accuracy of   boy : 30 %\n",
            "Accuracy of bridge : 48 %\n",
            "Accuracy of   bus : 44 %\n",
            "Accuracy of butterfly : 30 %\n",
            "Accuracy of camel : 30 %\n",
            "Accuracy of  cans : 51 %\n",
            "Accuracy of castle : 44 %\n",
            "Accuracy of caterpillar : 34 %\n",
            "Accuracy of cattle : 33 %\n",
            "Accuracy of chair : 79 %\n",
            "Accuracy of chimpanzee : 70 %\n",
            "Accuracy of clock : 35 %\n",
            "Accuracy of cloud : 46 %\n",
            "Accuracy of cockroach : 70 %\n",
            "Accuracy of computer keyboard : 34 %\n",
            "Accuracy of couch : 39 %\n",
            "Accuracy of  crab : 28 %\n",
            "Accuracy of crocodile : 61 %\n",
            "Accuracy of  cups : 41 %\n",
            "Accuracy of dinosaur : 33 %\n",
            "Accuracy of dolphin : 40 %\n",
            "Accuracy of elephant : 42 %\n",
            "Accuracy of flatfish : 37 %\n",
            "Accuracy of forest : 50 %\n",
            "Accuracy of   fox : 21 %\n",
            "Accuracy of  girl : 46 %\n",
            "Accuracy of hamster : 37 %\n",
            "Accuracy of house : 36 %\n",
            "Accuracy of kangaroo : 52 %\n",
            "Accuracy of  lamp : 44 %\n",
            "Accuracy of lawn-mower : 73 %\n",
            "Accuracy of leopard : 39 %\n",
            "Accuracy of  lion : 42 %\n",
            "Accuracy of lizard : 27 %\n",
            "Accuracy of lobster : 19 %\n",
            "Accuracy of   man : 37 %\n",
            "Accuracy of maple : 66 %\n",
            "Accuracy of motorcycle : 49 %\n",
            "Accuracy of mountain : 40 %\n",
            "Accuracy of mouse : 20 %\n",
            "Accuracy of mushrooms : 34 %\n",
            "Accuracy of   oak : 30 %\n",
            "Accuracy of oranges : 58 %\n",
            "Accuracy of orchids : 55 %\n",
            "Accuracy of otter : 14 %\n",
            "Accuracy of  palm : 59 %\n",
            "Accuracy of pears : 29 %\n",
            "Accuracy of pickup truck : 41 %\n",
            "Accuracy of  pine : 60 %\n",
            "Accuracy of plain : 69 %\n",
            "Accuracy of plates : 53 %\n",
            "Accuracy of poppies : 64 %\n",
            "Accuracy of porcupine : 40 %\n",
            "Accuracy of possum :  9 %\n",
            "Accuracy of rabbit : 22 %\n",
            "Accuracy of raccoon : 31 %\n",
            "Accuracy of   ray : 36 %\n",
            "Accuracy of  road : 61 %\n",
            "Accuracy of rocket : 70 %\n",
            "Accuracy of roses : 33 %\n",
            "Accuracy of   sea : 77 %\n",
            "Accuracy of  seal :  9 %\n",
            "Accuracy of shark : 26 %\n",
            "Accuracy of shrew : 16 %\n",
            "Accuracy of skunk : 46 %\n",
            "Accuracy of skyscraper : 69 %\n",
            "Accuracy of snail : 20 %\n",
            "Accuracy of snake : 24 %\n",
            "Accuracy of spider : 38 %\n",
            "Accuracy of squirrel : 31 %\n",
            "Accuracy of streetcar : 39 %\n",
            "Accuracy of sunflowers : 72 %\n",
            "Accuracy of sweet peppers : 53 %\n",
            "Accuracy of table : 40 %\n",
            "Accuracy of  tank : 48 %\n",
            "Accuracy of telephone : 39 %\n",
            "Accuracy of television : 39 %\n",
            "Accuracy of tiger : 28 %\n",
            "Accuracy of tractor : 51 %\n",
            "Accuracy of train : 36 %\n",
            "Accuracy of trout : 42 %\n",
            "Accuracy of tulips : 28 %\n",
            "Accuracy of turtle : 24 %\n",
            "Accuracy of wardrobe : 70 %\n",
            "Accuracy of whale : 52 %\n",
            "Accuracy of willow : 20 %\n",
            "Accuracy of  wolf : 41 %\n",
            "Accuracy of woman : 12 %\n",
            "Accuracy of  worm : 34 %\n"
          ],
          "name": "stdout"
        }
      ]
    }
  ]
}