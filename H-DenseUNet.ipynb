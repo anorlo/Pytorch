{
  "nbformat": 4,
  "nbformat_minor": 0,
  "metadata": {
    "colab": {
      "name": "Untitled18.ipynb",
      "provenance": [],
      "toc_visible": true,
      "authorship_tag": "ABX9TyMBpxLJWjyzyyX9xqpWVfZJ",
      "include_colab_link": true
    },
    "kernelspec": {
      "name": "python3",
      "display_name": "Python 3"
    }
  },
  "cells": [
    {
      "cell_type": "markdown",
      "metadata": {
        "id": "view-in-github",
        "colab_type": "text"
      },
      "source": [
        "<a href=\"https://colab.research.google.com/github/anorlo/Pytorch/blob/master/H-DenseUNet.ipynb\" target=\"_parent\"><img src=\"https://colab.research.google.com/assets/colab-badge.svg\" alt=\"Open In Colab\"/></a>"
      ]
    },
    {
      "cell_type": "code",
      "metadata": {
        "colab": {
          "base_uri": "https://localhost:8080/"
        },
        "id": "O5E2jNOOuoZA",
        "outputId": "100e5d4e-24f8-45de-ed30-e51cf0ac7592"
      },
      "source": [
        "from google.colab import drive\r\n",
        "drive.mount('/content/drive')"
      ],
      "execution_count": 1,
      "outputs": [
        {
          "output_type": "stream",
          "text": [
            "Mounted at /content/drive\n"
          ],
          "name": "stdout"
        }
      ]
    },
    {
      "cell_type": "code",
      "metadata": {
        "colab": {
          "base_uri": "https://localhost:8080/"
        },
        "id": "RqBYd3uQvpDS",
        "outputId": "062ca358-e87d-45b9-f349-8880dae684dd"
      },
      "source": [
        "import os\r\n",
        "path = \"/content/drive/My Drive/H-DenseUNet-master\"\r\n",
        "\r\n",
        "os.chdir(path)\r\n",
        "os.listdir(path)"
      ],
      "execution_count": 2,
      "outputs": [
        {
          "output_type": "execute_result",
          "data": {
            "text/plain": [
              "['bash_train.sh',\n",
              " 'train_2ddense.py',\n",
              " 'denseunet.py',\n",
              " '.gitignore',\n",
              " 'train_hybrid.py',\n",
              " 'hybridnet.py',\n",
              " 'test.py',\n",
              " 'requirements.txt',\n",
              " 'README.md',\n",
              " 'denseunet3d.py',\n",
              " 'loss.py',\n",
              " 'preprocessing.py',\n",
              " 'densenet.py',\n",
              " '.idea',\n",
              " 'lib',\n",
              " 'Keras-2.0.8']"
            ]
          },
          "metadata": {
            "tags": []
          },
          "execution_count": 2
        }
      ]
    },
    {
      "cell_type": "code",
      "metadata": {
        "colab": {
          "base_uri": "https://localhost:8080/"
        },
        "id": "spmNgA39vzjH",
        "outputId": "cf4edd1c-5ef4-4ea8-c360-b51d6cf47c7d"
      },
      "source": [
        "!python preprocessing.py"
      ],
      "execution_count": 15,
      "outputs": [
        {
          "output_type": "stream",
          "text": [
            "  File \"preprocessing.py\", line 17\n",
            "    img = np.array(img, dtype='float32')\n",
            "                                       ^\n",
            "TabError: inconsistent use of tabs and spaces in indentation\n"
          ],
          "name": "stdout"
        }
      ]
    },
    {
      "cell_type": "code",
      "metadata": {
        "colab": {
          "base_uri": "https://localhost:8080/"
        },
        "id": "L5jBUZ2Kyp3S",
        "outputId": "161505b0-a8f8-45b9-9ea8-8025bca221ad"
      },
      "source": [
        "!pip install medpy"
      ],
      "execution_count": 13,
      "outputs": [
        {
          "output_type": "stream",
          "text": [
            "Collecting medpy\n",
            "\u001b[?25l  Downloading https://files.pythonhosted.org/packages/3b/70/c1fd5dd60242eee81774696ea7ba4caafac2bad8f028bba94b1af83777d7/MedPy-0.4.0.tar.gz (151kB)\n",
            "\u001b[K     |████████████████████████████████| 153kB 5.7MB/s \n",
            "\u001b[?25hRequirement already satisfied: scipy>=1.1.0 in /usr/local/lib/python3.6/dist-packages (from medpy) (1.4.1)\n",
            "Requirement already satisfied: numpy>=1.11.0 in /usr/local/lib/python3.6/dist-packages (from medpy) (1.19.5)\n",
            "Collecting SimpleITK>=1.1.0\n",
            "\u001b[?25l  Downloading https://files.pythonhosted.org/packages/cc/85/6a7ce61f07cdaca722dd64f028b5678fb0a9e1bf66f534c2f8dd2eb78490/SimpleITK-2.0.2-cp36-cp36m-manylinux2010_x86_64.whl (47.4MB)\n",
            "\u001b[K     |████████████████████████████████| 47.4MB 92kB/s \n",
            "\u001b[?25hBuilding wheels for collected packages: medpy\n",
            "  Building wheel for medpy (setup.py) ... \u001b[?25l\u001b[?25hdone\n",
            "  Created wheel for medpy: filename=MedPy-0.4.0-cp36-cp36m-linux_x86_64.whl size=753417 sha256=3ea462c5dc17e61b2c3c068d8b49ed4c522c90a6aa0ecee9f23668b8c5c15837\n",
            "  Stored in directory: /root/.cache/pip/wheels/8c/c9/9c/2c6281c7a72b9fb1570862a4f028af7ce38405008354fbf870\n",
            "Successfully built medpy\n",
            "Installing collected packages: SimpleITK, medpy\n",
            "Successfully installed SimpleITK-2.0.2 medpy-0.4.0\n"
          ],
          "name": "stdout"
        }
      ]
    },
    {
      "cell_type": "code",
      "metadata": {
        "colab": {
          "base_uri": "https://localhost:8080/",
          "height": 371
        },
        "id": "OeQySrDGxZ0f",
        "outputId": "2ee13fc7-11e1-4987-ebec-d98ccfe1a597"
      },
      "source": [
        "from medpy.io import load, save\r\n",
        "import os\r\n",
        "import os.path\r\n",
        "import numpy as np\r\n",
        "\r\n",
        "\r\n",
        "def proprecessing(image_path, save_folder):\r\n",
        "\r\n",
        "    if not os.path.exists(\"data/\"+save_folder):\r\n",
        "        os.mkdir(\"data/\"+save_folder)\r\n",
        "    filelist = os.listdir(image_path)\r\n",
        "    filelist = [item for item in filelist if 'volume' in item]\r\n",
        "    for file in filelist:\r\n",
        "        img, img_header = load(image_path+file)\r\n",
        "        img[img < -200] = -200\r\n",
        "        img[img > 250] = 250\r\n",
        "    img = np.array(img, dtype='float32')\r\n",
        "    print (\"Saving image \"+file)\r\n",
        "    save(img, \"./data/\" + save_folder + file)\r\n",
        "\r\n",
        "def generate_livertxt(image_path, save_folder):\r\n",
        "    if not os.path.exists(\"data/\"+save_folder):\r\n",
        "        os.mkdir(\"data/\"+save_folder)\r\n",
        "\r\n",
        "    # Generate Livertxt\r\n",
        "    if not os.path.exists(\"data/\"+save_folder+'LiverPixels'):\r\n",
        "        os.mkdir(\"data/\"+save_folder+'LiverPixels')\r\n",
        "\r\n",
        "    for i in range(0,131):\r\n",
        "        livertumor, header = load(image_path+'segmentation-'+str(i)+'.nii')\r\n",
        "        f = open('data/' +save_folder+'/LiverPixels/liver_' + str(i) + '.txt', 'w')\r\n",
        "        index = np.where(livertumor==1)\r\n",
        "        x = index[0]\r\n",
        "        y = index[1]\r\n",
        "        z = index[2]\r\n",
        "        np.savetxt(f, np.c_[x,y,z], fmt=\"%d\")\r\n",
        "\t\r\n",
        "        f.write(\"\\n\")\r\n",
        "        f.close()\r\n",
        "\r\n",
        "def generate_tumortxt(image_path, save_folder):\r\n",
        "    if not os.path.exists(\"data/\"+save_folder):\r\n",
        "        os.mkdir(\"data/\"+save_folder)\r\n",
        "\r\n",
        "    # Generate Livertxt\r\n",
        "    if not os.path.exists(\"data/\"+save_folder+'TumorPixels'):\r\n",
        "        os.mkdir(\"data/\"+save_folder+'TumorPixels')\r\n",
        "\r\n",
        "    for i in range(0,131):\r\n",
        "        livertumor, header = load(image_path+'segmentation-'+str(i)+'.nii')\r\n",
        "        f = open(\"data/\"+save_folder+\"/TumorPixels/tumor_\"+str(i)+'.txt','w')\r\n",
        "        index = np.where(livertumor==2)\r\n",
        "\r\n",
        "        x = index[0]\r\n",
        "        y = index[1]\r\n",
        "        z = index[2]\r\n",
        "\r\n",
        "        np.savetxt(f,np.c_[x,y,z],fmt=\"%d\")\r\n",
        "\r\n",
        "        f.write(\"\\n\")\r\n",
        "        f.close()\r\n",
        "\r\n",
        "def generate_txt(image_path, save_folder):\r\n",
        "    if not os.path.exists(\"data/\"+save_folder):\r\n",
        "        os.mkdir(\"data/\"+save_folder)\r\n",
        "\r\n",
        "    # Generate Livertxt\r\n",
        "    if not os.path.exists(\"data/\"+save_folder+'LiverBox'):\r\n",
        "        os.mkdir(\"data/\"+save_folder+'LiverBox')\r\n",
        "    for i in range(0,131):\r\n",
        "        values = np.loadtxt('data/myTrainingDataTxt/LiverPixels/liver_' + str(i) + '.txt', delimiter=' ', usecols=[0, 1, 2])\r\n",
        "        a = np.min(values, axis=0)\r\n",
        "        b = np.max(values, axis=0)\r\n",
        "        box = np.append(a,b, axis=0)\r\n",
        "        np.savetxt('data/myTrainingDataTxt/LiverBox/box_'+str(i)+'.txt', box,fmt='%d')\r\n",
        "\r\n",
        "\r\n",
        "proprecessing(image_path='data/TrainingData/', save_folder='myTrainingData/')\r\n",
        "proprecessing(image_path='data/TestData/', save_folder='myTestData/')\r\n",
        "print (\"Generate liver txt \")\r\n",
        "generate_livertxt(image_path='data/TrainingData/', save_folder='myTrainingDataTxt/')\r\n",
        "print (\"Generate tumor txt\")\r\n",
        "generate_tumortxt(image_path='data/TrainingData/', save_folder='myTrainingDataTxt/')\r\n",
        "print (\"Generate liver box \")\r\n",
        "generate_txt(image_path='data/TrainingData/', save_folder='myTrainingDataTxt/')\r\n"
      ],
      "execution_count": 14,
      "outputs": [
        {
          "output_type": "error",
          "ename": "FileNotFoundError",
          "evalue": "ignored",
          "traceback": [
            "\u001b[0;31m---------------------------------------------------------------------------\u001b[0m",
            "\u001b[0;31mFileNotFoundError\u001b[0m                         Traceback (most recent call last)",
            "\u001b[0;32m<ipython-input-14-8aaf32205294>\u001b[0m in \u001b[0;36m<module>\u001b[0;34m()\u001b[0m\n\u001b[1;32m     76\u001b[0m \u001b[0;34m\u001b[0m\u001b[0m\n\u001b[1;32m     77\u001b[0m \u001b[0;34m\u001b[0m\u001b[0m\n\u001b[0;32m---> 78\u001b[0;31m \u001b[0mproprecessing\u001b[0m\u001b[0;34m(\u001b[0m\u001b[0mimage_path\u001b[0m\u001b[0;34m=\u001b[0m\u001b[0;34m'data/TrainingData/'\u001b[0m\u001b[0;34m,\u001b[0m \u001b[0msave_folder\u001b[0m\u001b[0;34m=\u001b[0m\u001b[0;34m'myTrainingData/'\u001b[0m\u001b[0;34m)\u001b[0m\u001b[0;34m\u001b[0m\u001b[0;34m\u001b[0m\u001b[0m\n\u001b[0m\u001b[1;32m     79\u001b[0m \u001b[0mproprecessing\u001b[0m\u001b[0;34m(\u001b[0m\u001b[0mimage_path\u001b[0m\u001b[0;34m=\u001b[0m\u001b[0;34m'data/TestData/'\u001b[0m\u001b[0;34m,\u001b[0m \u001b[0msave_folder\u001b[0m\u001b[0;34m=\u001b[0m\u001b[0;34m'myTestData/'\u001b[0m\u001b[0;34m)\u001b[0m\u001b[0;34m\u001b[0m\u001b[0;34m\u001b[0m\u001b[0m\n\u001b[1;32m     80\u001b[0m \u001b[0mprint\u001b[0m \u001b[0;34m(\u001b[0m\u001b[0;34m\"Generate liver txt \"\u001b[0m\u001b[0;34m)\u001b[0m\u001b[0;34m\u001b[0m\u001b[0;34m\u001b[0m\u001b[0m\n",
            "\u001b[0;32m<ipython-input-14-8aaf32205294>\u001b[0m in \u001b[0;36mproprecessing\u001b[0;34m(image_path, save_folder)\u001b[0m\n\u001b[1;32m      8\u001b[0m \u001b[0;34m\u001b[0m\u001b[0m\n\u001b[1;32m      9\u001b[0m     \u001b[0;32mif\u001b[0m \u001b[0;32mnot\u001b[0m \u001b[0mos\u001b[0m\u001b[0;34m.\u001b[0m\u001b[0mpath\u001b[0m\u001b[0;34m.\u001b[0m\u001b[0mexists\u001b[0m\u001b[0;34m(\u001b[0m\u001b[0;34m\"data/\"\u001b[0m\u001b[0;34m+\u001b[0m\u001b[0msave_folder\u001b[0m\u001b[0;34m)\u001b[0m\u001b[0;34m:\u001b[0m\u001b[0;34m\u001b[0m\u001b[0;34m\u001b[0m\u001b[0m\n\u001b[0;32m---> 10\u001b[0;31m         \u001b[0mos\u001b[0m\u001b[0;34m.\u001b[0m\u001b[0mmkdir\u001b[0m\u001b[0;34m(\u001b[0m\u001b[0;34m\"data/\"\u001b[0m\u001b[0;34m+\u001b[0m\u001b[0msave_folder\u001b[0m\u001b[0;34m)\u001b[0m\u001b[0;34m\u001b[0m\u001b[0;34m\u001b[0m\u001b[0m\n\u001b[0m\u001b[1;32m     11\u001b[0m     \u001b[0mfilelist\u001b[0m \u001b[0;34m=\u001b[0m \u001b[0mos\u001b[0m\u001b[0;34m.\u001b[0m\u001b[0mlistdir\u001b[0m\u001b[0;34m(\u001b[0m\u001b[0mimage_path\u001b[0m\u001b[0;34m)\u001b[0m\u001b[0;34m\u001b[0m\u001b[0;34m\u001b[0m\u001b[0m\n\u001b[1;32m     12\u001b[0m     \u001b[0mfilelist\u001b[0m \u001b[0;34m=\u001b[0m \u001b[0;34m[\u001b[0m\u001b[0mitem\u001b[0m \u001b[0;32mfor\u001b[0m \u001b[0mitem\u001b[0m \u001b[0;32min\u001b[0m \u001b[0mfilelist\u001b[0m \u001b[0;32mif\u001b[0m \u001b[0;34m'volume'\u001b[0m \u001b[0;32min\u001b[0m \u001b[0mitem\u001b[0m\u001b[0;34m]\u001b[0m\u001b[0;34m\u001b[0m\u001b[0;34m\u001b[0m\u001b[0m\n",
            "\u001b[0;31mFileNotFoundError\u001b[0m: [Errno 2] No such file or directory: 'data/myTrainingData/'"
          ]
        }
      ]
    }
  ]
}