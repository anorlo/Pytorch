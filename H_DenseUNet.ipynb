{
  "nbformat": 4,
  "nbformat_minor": 0,
  "metadata": {
    "colab": {
      "name": "H-DenseUNet.ipynb",
      "provenance": [],
      "toc_visible": true,
      "authorship_tag": "ABX9TyMBpxLJWjyzyyX9xqpWVfZJ",
      "include_colab_link": true
    },
    "kernelspec": {
      "name": "python3",
      "display_name": "Python 3"
    },
    "accelerator": "GPU"
  },
  "cells": [
    {
      "cell_type": "markdown",
      "metadata": {
        "id": "view-in-github",
        "colab_type": "text"
      },
      "source": [
        "<a href=\"https://colab.research.google.com/github/anorlo/Pytorch/blob/master/H_DenseUNet.ipynb\" target=\"_parent\"><img src=\"https://colab.research.google.com/assets/colab-badge.svg\" alt=\"Open In Colab\"/></a>"
      ]
    },
    {
      "cell_type": "code",
      "metadata": {
        "colab": {
          "base_uri": "https://localhost:8080/"
        },
        "id": "O5E2jNOOuoZA",
        "outputId": "9c040b79-ac92-49a3-c9eb-78ea0f663954"
      },
      "source": [
        "from google.colab import drive\r\n",
        "drive.mount('/content/drive')"
      ],
      "execution_count": 1,
      "outputs": [
        {
          "output_type": "stream",
          "text": [
            "Mounted at /content/drive\n"
          ],
          "name": "stdout"
        }
      ]
    },
    {
      "cell_type": "code",
      "metadata": {
        "colab": {
          "base_uri": "https://localhost:8080/"
        },
        "id": "RqBYd3uQvpDS",
        "outputId": "8ca9d86a-301f-4ce6-9db1-06953d95b5c4"
      },
      "source": [
        "import os\r\n",
        "path = \"/content/drive/My Drive/H-DenseUNet-master\"\r\n",
        "\r\n",
        "os.chdir(path)\r\n",
        "os.listdir(path)"
      ],
      "execution_count": 2,
      "outputs": [
        {
          "output_type": "execute_result",
          "data": {
            "text/plain": [
              "['bash_train.sh',\n",
              " 'train_2ddense.py',\n",
              " 'denseunet.py',\n",
              " '.gitignore',\n",
              " 'train_hybrid.py',\n",
              " 'hybridnet.py',\n",
              " 'test.py',\n",
              " 'requirements.txt',\n",
              " 'README.md',\n",
              " 'denseunet3d.py',\n",
              " 'loss.py',\n",
              " 'densenet.py',\n",
              " '.idea',\n",
              " 'lib',\n",
              " 'Keras-2.0.8',\n",
              " 'preprocessing.py',\n",
              " 'data']"
            ]
          },
          "metadata": {
            "tags": []
          },
          "execution_count": 2
        }
      ]
    },
    {
      "cell_type": "code",
      "metadata": {
        "colab": {
          "base_uri": "https://localhost:8080/"
        },
        "id": "spmNgA39vzjH",
        "outputId": "cf4edd1c-5ef4-4ea8-c360-b51d6cf47c7d"
      },
      "source": [
        "!python preprocessing.py"
      ],
      "execution_count": 15,
      "outputs": [
        {
          "output_type": "stream",
          "text": [
            "  File \"preprocessing.py\", line 17\n",
            "    img = np.array(img, dtype='float32')\n",
            "                                       ^\n",
            "TabError: inconsistent use of tabs and spaces in indentation\n"
          ],
          "name": "stdout"
        }
      ]
    },
    {
      "cell_type": "code",
      "metadata": {
        "colab": {
          "base_uri": "https://localhost:8080/"
        },
        "id": "L5jBUZ2Kyp3S",
        "outputId": "d3e0efd1-a754-415c-dc0a-c5728bad1d2d"
      },
      "source": [
        "!pip install medpy"
      ],
      "execution_count": 3,
      "outputs": [
        {
          "output_type": "stream",
          "text": [
            "Collecting medpy\n",
            "\u001b[?25l  Downloading https://files.pythonhosted.org/packages/3b/70/c1fd5dd60242eee81774696ea7ba4caafac2bad8f028bba94b1af83777d7/MedPy-0.4.0.tar.gz (151kB)\n",
            "\r\u001b[K     |██▏                             | 10kB 24.7MB/s eta 0:00:01\r\u001b[K     |████▎                           | 20kB 15.0MB/s eta 0:00:01\r\u001b[K     |██████▌                         | 30kB 13.1MB/s eta 0:00:01\r\u001b[K     |████████▋                       | 40kB 12.3MB/s eta 0:00:01\r\u001b[K     |██████████▉                     | 51kB 7.3MB/s eta 0:00:01\r\u001b[K     |█████████████                   | 61kB 8.5MB/s eta 0:00:01\r\u001b[K     |███████████████                 | 71kB 9.0MB/s eta 0:00:01\r\u001b[K     |█████████████████▎              | 81kB 9.2MB/s eta 0:00:01\r\u001b[K     |███████████████████▍            | 92kB 8.9MB/s eta 0:00:01\r\u001b[K     |█████████████████████▋          | 102kB 8.1MB/s eta 0:00:01\r\u001b[K     |███████████████████████▊        | 112kB 8.1MB/s eta 0:00:01\r\u001b[K     |██████████████████████████      | 122kB 8.1MB/s eta 0:00:01\r\u001b[K     |████████████████████████████    | 133kB 8.1MB/s eta 0:00:01\r\u001b[K     |██████████████████████████████▏ | 143kB 8.1MB/s eta 0:00:01\r\u001b[K     |████████████████████████████████| 153kB 8.1MB/s \n",
            "\u001b[?25hRequirement already satisfied: scipy>=1.1.0 in /usr/local/lib/python3.6/dist-packages (from medpy) (1.4.1)\n",
            "Requirement already satisfied: numpy>=1.11.0 in /usr/local/lib/python3.6/dist-packages (from medpy) (1.19.5)\n",
            "Collecting SimpleITK>=1.1.0\n",
            "\u001b[?25l  Downloading https://files.pythonhosted.org/packages/cc/85/6a7ce61f07cdaca722dd64f028b5678fb0a9e1bf66f534c2f8dd2eb78490/SimpleITK-2.0.2-cp36-cp36m-manylinux2010_x86_64.whl (47.4MB)\n",
            "\u001b[K     |████████████████████████████████| 47.4MB 67kB/s \n",
            "\u001b[?25hBuilding wheels for collected packages: medpy\n",
            "  Building wheel for medpy (setup.py) ... \u001b[?25l\u001b[?25hdone\n",
            "  Created wheel for medpy: filename=MedPy-0.4.0-cp36-cp36m-linux_x86_64.whl size=753441 sha256=f024bbbdace8f73d5552cfea5ba5e4f4891e360615c8248f8db8bbb4d2b66b9f\n",
            "  Stored in directory: /root/.cache/pip/wheels/8c/c9/9c/2c6281c7a72b9fb1570862a4f028af7ce38405008354fbf870\n",
            "Successfully built medpy\n",
            "Installing collected packages: SimpleITK, medpy\n",
            "Successfully installed SimpleITK-2.0.2 medpy-0.4.0\n"
          ],
          "name": "stdout"
        }
      ]
    },
    {
      "cell_type": "code",
      "metadata": {
        "id": "OeQySrDGxZ0f"
      },
      "source": [
        "from medpy.io import load, save\r\n",
        "import os\r\n",
        "import os.path\r\n",
        "import numpy as np\r\n",
        "\r\n",
        "\r\n",
        "def proprecessing(image_path, save_folder):\r\n",
        "\r\n",
        "    if not os.path.exists(\"data/\"+save_folder):\r\n",
        "        os.mkdir(\"data/\"+save_folder)\r\n",
        "    filelist = os.listdir(image_path)\r\n",
        "    filelist = [item for item in filelist if 'volume' in item]\r\n",
        "    for file in filelist:\r\n",
        "        img, img_header = load(image_path+file)\r\n",
        "        img[img < -200] = -200\r\n",
        "        img[img > 250] = 250\r\n",
        "    img = np.array(img, dtype='float32')\r\n",
        "    print (\"Saving image \"+file)\r\n",
        "    save(img, \"./data/\" + save_folder + file)\r\n",
        "\r\n",
        "def generate_livertxt(image_path, save_folder):\r\n",
        "    if not os.path.exists(\"data/\"+save_folder):\r\n",
        "        os.mkdir(\"data/\"+save_folder)\r\n",
        "\r\n",
        "    # Generate Livertxt\r\n",
        "    if not os.path.exists(\"data/\"+save_folder+'LiverPixels'):\r\n",
        "        os.mkdir(\"data/\"+save_folder+'LiverPixels')\r\n",
        "\r\n",
        "    for i in range(0,131):\r\n",
        "        livertumor, header = load(image_path+'segmentation-'+str(i)+'.nii')\r\n",
        "        f = open('data/' +save_folder+'/LiverPixels/liver_' + str(i) + '.txt', 'w')\r\n",
        "        index = np.where(livertumor==1)\r\n",
        "        x = index[0]\r\n",
        "        y = index[1]\r\n",
        "        z = index[2]\r\n",
        "        np.savetxt(f, np.c_[x,y,z], fmt=\"%d\")\r\n",
        "\t\r\n",
        "        f.write(\"\\n\")\r\n",
        "        f.close()\r\n",
        "\r\n",
        "def generate_tumortxt(image_path, save_folder):\r\n",
        "    if not os.path.exists(\"data/\"+save_folder):\r\n",
        "        os.mkdir(\"data/\"+save_folder)\r\n",
        "\r\n",
        "    # Generate Livertxt\r\n",
        "    if not os.path.exists(\"data/\"+save_folder+'TumorPixels'):\r\n",
        "        os.mkdir(\"data/\"+save_folder+'TumorPixels')\r\n",
        "\r\n",
        "    for i in range(0,131):\r\n",
        "        livertumor, header = load(image_path+'segmentation-'+str(i)+'.nii')\r\n",
        "        f = open(\"data/\"+save_folder+\"/TumorPixels/tumor_\"+str(i)+'.txt','w')\r\n",
        "        index = np.where(livertumor==2)\r\n",
        "\r\n",
        "        x = index[0]\r\n",
        "        y = index[1]\r\n",
        "        z = index[2]\r\n",
        "\r\n",
        "        np.savetxt(f,np.c_[x,y,z],fmt=\"%d\")\r\n",
        "\r\n",
        "        f.write(\"\\n\")\r\n",
        "        f.close()\r\n",
        "\r\n",
        "def generate_txt(image_path, save_folder):\r\n",
        "    if not os.path.exists(\"data/\"+save_folder):\r\n",
        "        os.mkdir(\"data/\"+save_folder)\r\n",
        "\r\n",
        "    # Generate Livertxt\r\n",
        "    if not os.path.exists(\"data/\"+save_folder+'LiverBox'):\r\n",
        "        os.mkdir(\"data/\"+save_folder+'LiverBox')\r\n",
        "    for i in range(0,131):\r\n",
        "        values = np.loadtxt('data/myTrainingDataTxt/LiverPixels/liver_' + str(i) + '.txt', delimiter=' ', usecols=[0, 1, 2])\r\n",
        "        a = np.min(values, axis=0)\r\n",
        "        b = np.max(values, axis=0)\r\n",
        "        box = np.append(a,b, axis=0)\r\n",
        "        np.savetxt('data/myTrainingDataTxt/LiverBox/box_'+str(i)+'.txt', box,fmt='%d')\r\n",
        "\r\n",
        "\r\n",
        "proprecessing(image_path='data/TrainingData/', save_folder='myTrainingData/')\r\n",
        "proprecessing(image_path='data/TestData/', save_folder='myTestData/')\r\n",
        "print (\"Generate liver txt \")\r\n",
        "generate_livertxt(image_path='data/TrainingData/', save_folder='myTrainingDataTxt/')\r\n",
        "print (\"Generate tumor txt\")\r\n",
        "generate_tumortxt(image_path='data/TrainingData/', save_folder='myTrainingDataTxt/')\r\n",
        "print (\"Generate liver box \")\r\n",
        "generate_txt(image_path='data/TrainingData/', save_folder='myTrainingDataTxt/')\r\n"
      ],
      "execution_count": null,
      "outputs": []
    }
  ]
}