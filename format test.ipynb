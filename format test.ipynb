{
  "nbformat": 4,
  "nbformat_minor": 0,
  "metadata": {
    "colab": {
      "name": "Untitled11.ipynb",
      "provenance": [],
      "authorship_tag": "ABX9TyP0XzpTF9FcDvQ2xBf/MnK4",
      "include_colab_link": true
    },
    "kernelspec": {
      "name": "python3",
      "display_name": "Python 3"
    }
  },
  "cells": [
    {
      "cell_type": "markdown",
      "metadata": {
        "id": "view-in-github",
        "colab_type": "text"
      },
      "source": [
        "<a href=\"https://colab.research.google.com/github/anorlo/Pytorch/blob/master/format%20test.ipynb\" target=\"_parent\"><img src=\"https://colab.research.google.com/assets/colab-badge.svg\" alt=\"Open In Colab\"/></a>"
      ]
    },
    {
      "cell_type": "code",
      "metadata": {
        "id": "jg0fGGZTHg51",
        "colab_type": "code",
        "colab": {
          "base_uri": "https://localhost:8080/",
          "height": 121
        },
        "outputId": "266d1eb3-bcfa-4cab-f2c9-a94e8057f177"
      },
      "source": [
        "from google.colab import drive\n",
        "drive.mount('/content/drive')"
      ],
      "execution_count": 1,
      "outputs": [
        {
          "output_type": "stream",
          "text": [
            "Go to this URL in a browser: https://accounts.google.com/o/oauth2/auth?client_id=947318989803-6bn6qk8qdgf4n4g3pfee6491hc0brc4i.apps.googleusercontent.com&redirect_uri=urn%3aietf%3awg%3aoauth%3a2.0%3aoob&response_type=code&scope=email%20https%3a%2f%2fwww.googleapis.com%2fauth%2fdocs.test%20https%3a%2f%2fwww.googleapis.com%2fauth%2fdrive%20https%3a%2f%2fwww.googleapis.com%2fauth%2fdrive.photos.readonly%20https%3a%2f%2fwww.googleapis.com%2fauth%2fpeopleapi.readonly\n",
            "\n",
            "Enter your authorization code:\n",
            "··········\n",
            "Mounted at /content/drive\n"
          ],
          "name": "stdout"
        }
      ]
    },
    {
      "cell_type": "code",
      "metadata": {
        "id": "Q701nQD5L_9h",
        "colab_type": "code",
        "colab": {
          "base_uri": "https://localhost:8080/",
          "height": 34
        },
        "outputId": "c44357ba-a8bb-4aad-b42e-268874db4638"
      },
      "source": [
        "import os\n",
        "path = \"/content/drive/My Drive/test_format\"\n",
        "\n",
        "os.chdir(path)\n",
        "os.listdir(path)"
      ],
      "execution_count": 2,
      "outputs": [
        {
          "output_type": "execute_result",
          "data": {
            "text/plain": [
              "['000000.desc', '00000.feat']"
            ]
          },
          "metadata": {
            "tags": []
          },
          "execution_count": 2
        }
      ]
    },
    {
      "cell_type": "code",
      "metadata": {
        "id": "lBAiqtkSMPUM",
        "colab_type": "code",
        "colab": {
          "base_uri": "https://localhost:8080/",
          "height": 1000
        },
        "outputId": "f21a04a3-184c-4f5a-8fcd-f9c2f5e69008"
      },
      "source": [
        "import struct\n",
        "\n",
        "with open('00000.feat','rb') as fd:\n",
        "  for i in range(100):\n",
        "    byte_len = 1\n",
        "    char = fd.read(byte_len)\n",
        "    # print(char)\n",
        "    print (struct.unpack('c',char))"
      ],
      "execution_count": 17,
      "outputs": [
        {
          "output_type": "stream",
          "text": [
            "(b'1',)\n",
            "(b'4',)\n",
            "(b'0',)\n",
            "(b'2',)\n",
            "(b'.',)\n",
            "(b'6',)\n",
            "(b'5',)\n",
            "(b' ',)\n",
            "(b'1',)\n",
            "(b'7',)\n",
            "(b'.',)\n",
            "(b'9',)\n",
            "(b'9',)\n",
            "(b'4',)\n",
            "(b'1',)\n",
            "(b' ',)\n",
            "(b'2',)\n",
            "(b'.',)\n",
            "(b'0',)\n",
            "(b'8',)\n",
            "(b'8',)\n",
            "(b'3',)\n",
            "(b'8',)\n",
            "(b' ',)\n",
            "(b'2',)\n",
            "(b'.',)\n",
            "(b'1',)\n",
            "(b'6',)\n",
            "(b'4',)\n",
            "(b'4',)\n",
            "(b'4',)\n",
            "(b'\\n',)\n",
            "(b'2',)\n",
            "(b'1',)\n",
            "(b'.',)\n",
            "(b'1',)\n",
            "(b'5',)\n",
            "(b'8',)\n",
            "(b' ',)\n",
            "(b'4',)\n",
            "(b'0',)\n",
            "(b'3',)\n",
            "(b'.',)\n",
            "(b'7',)\n",
            "(b'0',)\n",
            "(b'8',)\n",
            "(b' ',)\n",
            "(b'2',)\n",
            "(b'.',)\n",
            "(b'4',)\n",
            "(b'5',)\n",
            "(b'5',)\n",
            "(b'1',)\n",
            "(b' ',)\n",
            "(b'0',)\n",
            "(b'.',)\n",
            "(b'0',)\n",
            "(b'4',)\n",
            "(b'1',)\n",
            "(b'0',)\n",
            "(b'9',)\n",
            "(b'3',)\n",
            "(b'4',)\n",
            "(b'\\n',)\n",
            "(b'1',)\n",
            "(b'4',)\n",
            "(b'0',)\n",
            "(b'2',)\n",
            "(b'.',)\n",
            "(b'6',)\n",
            "(b'5',)\n",
            "(b' ',)\n",
            "(b'1',)\n",
            "(b'7',)\n",
            "(b'.',)\n",
            "(b'9',)\n",
            "(b'9',)\n",
            "(b'4',)\n",
            "(b'1',)\n",
            "(b' ',)\n",
            "(b'2',)\n",
            "(b'.',)\n",
            "(b'0',)\n",
            "(b'8',)\n",
            "(b'8',)\n",
            "(b'3',)\n",
            "(b'8',)\n",
            "(b' ',)\n",
            "(b'5',)\n",
            "(b'.',)\n",
            "(b'4',)\n",
            "(b'7',)\n",
            "(b'7',)\n",
            "(b'7',)\n",
            "(b'3',)\n",
            "(b'\\n',)\n",
            "(b'2',)\n",
            "(b'1',)\n",
            "(b'.',)\n",
            "(b'1',)\n"
          ],
          "name": "stdout"
        }
      ]
    }
  ]
}